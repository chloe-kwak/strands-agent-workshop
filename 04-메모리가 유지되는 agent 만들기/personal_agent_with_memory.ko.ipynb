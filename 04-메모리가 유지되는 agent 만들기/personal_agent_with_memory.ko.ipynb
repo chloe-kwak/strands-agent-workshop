{
 "cells": [
  {
   "cell_type": "markdown",
   "id": "8797de2a",
   "metadata": {},
   "source": [
    "# Strands Agents 세션 간 메모리 유지\n",
    "\n",
    "이 예제에서는 Strands Agents의 여러 세션에서 메모리를 유지하는 방법을 배웁니다.\n",
    "\n",
    "`duckduckgo` 검색 API를 사용하여 웹 검색을 수행하는 에이전트의 사용 사례를 사용합니다.\n",
    "\n",
    "이 노트북에서는 다음을 수행합니다:\n",
    "- 메모리 기반 Strands 에이전트의 기능 탐색\n",
    "- 메모리를 저장, 검색 및 나열하는 방법 학습\n",
    "- 에이전트를 통해 웹 검색을 수행하는 방법 이해\n",
    "- 대화형 루프에서 에이전트와 상호 작용\n",
    "\n",
    "\n",
    "### 사용 예시\n",
    "\n",
    "메모리 저장:\n",
    "```\n",
    "커피보다 차를 선호한다는 것을 기억해주세요\n",
    "```\n",
    "\n",
    "메모리 검색:\n",
    "```\n",
    "내가 마시는 것을 선호하는 것은 무엇인가요?\n",
    "```\n",
    "\n",
    "모든 메모리 나열:\n",
    "```\n",
    "나에 대해 기억하는 모든 것을 보여주세요\n",
    "```\n",
    "\n",
    "### 메모리 사용 팁\n",
    "\n",
    "- 에이전트에게 정보를 기억하도록 요청할 때 명시적으로 표현하세요\n",
    "- 관련 메모리를 검색하려면 구체적인 쿼리를 사용하세요\n",
    "- 메모리 지속성은 더 자연스럽고 맥락적인 대화를 가능하게 합니다"
   ]
  },
  {
   "cell_type": "markdown",
   "id": "c468364c",
   "metadata": {},
   "source": [
    "## 설정 및 사전 요구사항\n",
    "\n",
    "### 사전 요구사항\n",
    "* Python 3.10+\n",
    "* AWS 계정 및 환경에 구성된 AWS 자격 증명\n",
    "* Amazon Bedrock에서 활성화된 Anthropic Claude 3.7\n",
    "* Amazon Bedrock Knowledge Base, Amazon S3 버킷 및 Amazon DynamoDB를 생성할 수 있는 권한이 있는 IAM 역할\n",
    "\n",
    "이제 Strands Agent에 필요한 패키지를 설치하겠습니다"
   ]
  },
  {
   "cell_type": "code",
   "execution_count": null,
   "id": "ae029383",
   "metadata": {
    "execution": {
     "iopub.execute_input": "2025-10-02T02:30:50.230154Z",
     "iopub.status.busy": "2025-10-02T02:30:50.229993Z",
     "iopub.status.idle": "2025-10-02T02:30:52.018026Z",
     "shell.execute_reply": "2025-10-02T02:30:52.017441Z",
     "shell.execute_reply.started": "2025-10-02T02:30:50.230134Z"
    }
   },
   "outputs": [],
   "source": [
    "# Install the required packages\n",
    "!pip install -r requirements.txt"
   ]
  },
  {
   "cell_type": "code",
   "execution_count": null,
   "id": "11c92217",
   "metadata": {
    "execution": {
     "iopub.execute_input": "2025-10-02T02:30:58.143562Z",
     "iopub.status.busy": "2025-10-02T02:30:58.143262Z",
     "iopub.status.idle": "2025-10-02T02:30:58.147231Z",
     "shell.execute_reply": "2025-10-02T02:30:58.146664Z",
     "shell.execute_reply.started": "2025-10-02T02:30:58.143538Z"
    }
   },
   "outputs": [],
   "source": [
    "# Import Required Libraries\n",
    "import os\n",
    "from strands import Agent, tool\n",
    "from strands.models import bedrock\n",
    "from strands_tools import mem0_memory\n",
    "import time\n",
    "\n",
    "from ddgs import DDGS\n",
    "from ddgs.exceptions import DDGSException, RatelimitException\n",
    "\n",
    "\n",
    "os.environ[\"AWS_REGION\"] = os.environ.get(\"AWS_REGION\", \"us-east-1\")\n",
    "bedrock.DEFAULT_BEDROCK_MODEL_ID = \"us.anthropic.claude-3-7-sonnet-20250219-v1:0\" #Optional: Set a default model for Bedrock"
   ]
  },
  {
   "cell_type": "markdown",
   "id": "265d4267",
   "metadata": {},
   "source": [
    "## Mem0 구성\n",
    "\n",
    "### 메모리 백엔드 옵션\n",
    "\n",
    "Mem0 Memory Tool은 세 가지 다른 백엔드 구성을 지원합니다:\n",
    "\n",
    "1. **[OpenSearch](https://aws.amazon.com/opensearch-service/features/serverless/)** (AWS 환경에 권장):\n",
    "   - AWS 자격 증명 및 OpenSearch 구성 필요\n",
    "   - `OPENSEARCH_HOST` 설정 및 선택적으로 `AWS_REGION` (기본값 us-west-2)\n",
    "\n",
    "2. **[FAISS](https://faiss.ai/index.html)** (로컬 개발의 기본값):\n",
    "   - 로컬 벡터 저장소 백엔드로 FAISS 사용\n",
    "   - 로컬 벡터 저장을 위해 faiss-cpu 패키지 필요\n",
    "   - 추가 구성 불필요\n",
    "\n",
    "3. **Mem0 Platform**:\n",
    "   - 메모리 관리를 위해 [Mem0 Platform API](https://docs.mem0.ai/platform/quickstart) 사용\n",
    "   - Mem0 API 키 필요: 환경 변수에 `MEM0_API_KEY` 설정\n",
    "\n",
    "\n",
    "### 환경 구성\n",
    "\n",
    "| 환경 변수 | 설명 | 기본값 | 필수 대상 |\n",
    "|---------------------|-------------|----------|------------|\n",
    "| OPENSEARCH_HOST | OpenSearch Serverless 호스트 URL | None | OpenSearch |\n",
    "| AWS_REGION | OpenSearch용 AWS 리전 | us-west-2 | OpenSearch |\n",
    "| MEM0_API_KEY | Mem0 Platform API 키 | None | Mem0 Platform |\n",
    "| DEV | 개발 모드 활성화 | false | 모든 모드 |\n",
    "\n",
    "\n",
    "이 실습의 범위에서는 메모리 관리를 위한 백엔드로 2가지 옵션을 사용할 수 있습니다:\n",
    "### 옵션 1. [Opensearch Serverless](https://aws.amazon.com/opensearch-service/features/serverless/)\n",
    "\n",
    "AOSS를 위한 설정 아키텍처는 다음과 같습니다:\n",
    "\n",
    "<div style=\"text-align:left\">\n",
    "    <img src=\"images/arch_AOSS.png\" width=\"65%\" />\n",
    "</div>\n"
   ]
  },
  {
   "cell_type": "code",
   "execution_count": null,
   "id": "0468a998-ebe9-4277-913f-6ea69de8e6e1",
   "metadata": {},
   "outputs": [],
   "source": [
    "# You can manually define your Opensearch Host \n",
    "#os.environ[\"OPENSEARCH_HOST\"] = \"<your-opensearch-host>.<region>.aoss.amazonaws.com\""
   ]
  },
  {
   "cell_type": "code",
   "execution_count": null,
   "id": "1cc2bbe4-0a89-4b15-93f3-4baa9fc804c0",
   "metadata": {
    "execution": {
     "iopub.execute_input": "2025-10-02T00:09:43.418115Z",
     "iopub.status.busy": "2025-10-02T00:09:43.417836Z",
     "iopub.status.idle": "2025-10-02T00:10:20.782299Z",
     "shell.execute_reply": "2025-10-02T00:10:20.781607Z",
     "shell.execute_reply.started": "2025-10-02T00:09:43.418092Z"
    }
   },
   "outputs": [],
   "source": [
    "# OR - Run the script to Create Opensearch Serverless resource in your AWS Account\n",
    "!bash prereqs/deploy_OSS.sh"
   ]
  },
  {
   "cell_type": "code",
   "execution_count": null,
   "id": "970ef303",
   "metadata": {
    "execution": {
     "iopub.execute_input": "2025-10-02T02:31:04.654136Z",
     "iopub.status.busy": "2025-10-02T02:31:04.653858Z",
     "iopub.status.idle": "2025-10-02T02:33:04.656983Z",
     "shell.execute_reply": "2025-10-02T02:33:04.656413Z",
     "shell.execute_reply.started": "2025-10-02T02:31:04.654116Z"
    }
   },
   "outputs": [],
   "source": [
    "wait_time = 120\n",
    "print(f\"Waiting {wait_time} seconds for OpenSearch Serverless collection to be fully operational...\")\n",
    "time.sleep(wait_time)"
   ]
  },
  {
   "cell_type": "code",
   "execution_count": null,
   "id": "075b3163-cd88-4054-969c-0075dfc1dd84",
   "metadata": {
    "execution": {
     "iopub.execute_input": "2025-10-02T02:33:47.904595Z",
     "iopub.status.busy": "2025-10-02T02:33:47.904340Z",
     "iopub.status.idle": "2025-10-02T02:33:47.915339Z",
     "shell.execute_reply": "2025-10-02T02:33:47.914826Z",
     "shell.execute_reply.started": "2025-10-02T02:33:47.904576Z"
    }
   },
   "outputs": [],
   "source": [
    "# Option 1: Opensearch Serverless\n",
    "from dotenv import load_dotenv\n",
    "load_dotenv() # take Opensearch environment variables"
   ]
  },
  {
   "cell_type": "markdown",
   "id": "7dc00d27-4a5b-44fb-9bfc-3b2e906c21f5",
   "metadata": {},
   "source": [
    "\n",
    "### 옵션 2 [Mem0 Platform](https://docs.mem0.ai/platform):\n",
    "\n",
    "#### [참고]: Opensearch Serverless 옵션을 이미 배포한 경우에는 필요하지 않습니다.\n",
    "\n",
    "대안으로 [여기](https://docs.mem0.ai/platform/quickstart#2-api-key-setup)의 단계를 따라 Mem0 API 키를 생성하고 환경 변수 **MEM0_API_KEY**로 추가할 수 있습니다.\n",
    "Mem0 Platform 설정의 아키텍처는 다음과 같습니다:\n",
    "\n",
    "<div style=\"text-align:left\">\n",
    "    <img src=\"images/arch_mem0.png\" width=\"65%\" />\n",
    "</div>\n",
    "\n",
    "\n",
    "에이전트의 기능을 활성화하려면 AWS 자격 증명 및 OpenSearch / Mem0 Platform에 대한 환경 변수를 구성해야 합니다. 이러한 변수는 메모리 저장 및 검색에 사용됩니다."
   ]
  },
  {
   "cell_type": "code",
   "execution_count": null,
   "id": "c99dae50-ed8b-4474-b5d6-9cc16981b436",
   "metadata": {},
   "outputs": [],
   "source": [
    "# Option 2: Mem0 API key\n",
    "\n",
    "#os.environ[\"MEM0_API_KEY\"] = \"<your-mem0-api-key>\""
   ]
  },
  {
   "cell_type": "markdown",
   "id": "5679ce42",
   "metadata": {},
   "source": [
    "## 시스템 프롬프트 정의\n",
    "\n",
    "`SYSTEM_PROMPT` 변수는 메모리 에이전트의 동작과 기능을 정의합니다. 이 프롬프트는 에이전트가 저장된 메모리를 기반으로 개인화된 응답을 제공하고 필요할 때 웹 검색을 수행하도록 안내합니다."
   ]
  },
  {
   "cell_type": "code",
   "execution_count": null,
   "id": "01951bc0",
   "metadata": {
    "execution": {
     "iopub.execute_input": "2025-10-02T02:34:37.666849Z",
     "iopub.status.busy": "2025-10-02T02:34:37.666593Z",
     "iopub.status.idle": "2025-10-02T02:34:37.670089Z",
     "shell.execute_reply": "2025-10-02T02:34:37.669478Z",
     "shell.execute_reply.started": "2025-10-02T02:34:37.666830Z"
    }
   },
   "outputs": [],
   "source": [
    "# 메모리 작업을 위한 집중형 시스템 프롬프트 정의\n",
    "SYSTEM_PROMPT = \"\"\"당신은 사용자를 위한 유용한 개인 비서입니다. 사용자의 기록을 기반으로 맞춤형 응답을 제공하여 사용자를 지원하는 것이 당신의 임무입니다. \n",
    "\n",
    "기능:\n",
    "- mem0_memory 도구(action=“store”)를 사용하여 정보를 저장할 수 있습니다.\n",
    "- mem0_memory 도구(action=“retrieve”)로 관련 기억을 검색할 수 있습니다.\n",
    "- duckduckgo_search를 사용해 웹에서 정보를 찾을 수 있습니다.\n",
    "\n",
    "핵심 규칙:\n",
    "- 대화체로 자연스럽게 응답하세요.\n",
    "- 사용자에게 응답하기 전에 항상 기억을 검색하고 이를 바탕으로 답변을 구성하세요.\n",
    "- 새로운 사용자 정보와 선호도는 mem0_memory에 저장하세요.\n",
    "- 관련 정보만 공유하십시오.\n",
    "- 정보가 없을 때는 정중하게 알려주십시오.\n",
    "\"\"\""
   ]
  },
  {
   "cell_type": "markdown",
   "id": "334a7192",
   "metadata": {},
   "source": [
    "## 웹 검색 도구 정의\n",
    "\n",
    "[Duckduckgo Search API](https://github.com/deedy5/duckduckgo_search)를 사용하는 `websearch` 도구 함수를 통해 에이전트가 웹 검색을 수행할 수 있습니다. 이 함수는 예외를 처리하고 검색 결과 또는 적절한 오류 메시지를 반환합니다."
   ]
  },
  {
   "cell_type": "code",
   "execution_count": null,
   "id": "8bbe681b",
   "metadata": {
    "execution": {
     "iopub.execute_input": "2025-10-02T02:34:48.498383Z",
     "iopub.status.busy": "2025-10-02T02:34:48.498128Z",
     "iopub.status.idle": "2025-10-02T02:34:48.509498Z",
     "shell.execute_reply": "2025-10-02T02:34:48.508921Z",
     "shell.execute_reply.started": "2025-10-02T02:34:48.498363Z"
    }
   },
   "outputs": [],
   "source": [
    "@tool\n",
    "def websearch(\n",
    "    keywords: str,\n",
    "    region: str = \"us-en\",\n",
    "    max_results: int | None = None,\n",
    ") -> str:\n",
    "    \"\"\"Search the web to get updated information.\n",
    "    Args:\n",
    "        keywords (str): The search query keywords.\n",
    "        region (str): The search region: wt-wt, us-en, uk-en, ru-ru, etc..\n",
    "        max_results (int | None): The maximum number of results to return.\n",
    "    Returns:\n",
    "        List of dictionaries with search results.\n",
    "    \"\"\"\n",
    "    try:\n",
    "        results = DDGS().text(keywords, region=region, max_results=max_results)\n",
    "        return results if results else \"No results found.\"\n",
    "    except RatelimitException:\n",
    "        return \"RatelimitException: Please try again after a short delay.\"\n",
    "    except DDGSException as d:\n",
    "        return f\"DuckDuckGoSearchException: {d}\"\n",
    "    except Exception as e:\n",
    "        return f\"Exception: {e}\""
   ]
  },
  {
   "cell_type": "markdown",
   "id": "3bd7828a",
   "metadata": {},
   "source": [
    "## 메모리 에이전트 생성\n",
    "\n",
    "이제 정의된 도구와 시스템 프롬프트를 사용하여 메모리 중심 에이전트를 초기화합니다. Strands 에이전트는 다음을 수행할 수 있습니다:\n",
    "1. 컨텍스트를 기반으로 메모리 저장 및 검색. 메모리를 사용하여 더 개인화되고 맥락적인 AI 상호 작용을 생성합니다.\n",
    "2. DuckDuckGo를 사용하여 웹 검색을 수행하여 최신 정보를 제공합니다."
   ]
  },
  {
   "cell_type": "code",
   "execution_count": null,
   "id": "e860d7f3",
   "metadata": {
    "execution": {
     "iopub.execute_input": "2025-10-02T02:34:52.149009Z",
     "iopub.status.busy": "2025-10-02T02:34:52.148767Z",
     "iopub.status.idle": "2025-10-02T02:34:52.217503Z",
     "shell.execute_reply": "2025-10-02T02:34:52.216968Z",
     "shell.execute_reply.started": "2025-10-02T02:34:52.148990Z"
    }
   },
   "outputs": [],
   "source": [
    "# Create an agent with memory, websearch tool\n",
    "USER_ID = \"new_user\" # Replace with actual user ID\n",
    "\n",
    "memory_agent = Agent(\n",
    "    system_prompt=SYSTEM_PROMPT,\n",
    "    model=\"us.anthropic.claude-3-7-sonnet-20250219-v1:0\",  # Optional: Specify the model ID\n",
    "    tools=[mem0_memory, websearch],\n",
    ")"
   ]
  },
  {
   "cell_type": "markdown",
   "id": "8ea93f03",
   "metadata": {},
   "source": [
    "## 메모리 작업 시연\n",
    "\n",
    "다음 예제는 메모리 에이전트를 사용하여 메모리를 저장, 검색 및 나열하는 방법을 보여줍니다.\n",
    "\n",
    "- **store**: 나중에 검색할 수 있도록 중요한 정보 저장\n",
    "  - 사용자 선호도 저장\n",
    "  - 중요한 사실 기억\n",
    "  - 대화 컨텍스트 유지\n",
    "\n",
    "- **retrieve**: 쿼리를 기반으로 관련 메모리 액세스\n",
    "  - 이전에 저장된 정보 찾기\n",
    "  - 사용자 기록을 기반으로 개인화된 응답 제공\n",
    "\n",
    "- **list**: 저장된 모든 메모리 보기\n",
    "  - 어떤 정보가 유지되었는지 확인\n",
    "  - 저장된 메모리 감사"
   ]
  },
  {
   "cell_type": "code",
   "execution_count": null,
   "id": "825910bf",
   "metadata": {
    "execution": {
     "iopub.execute_input": "2025-10-02T02:34:55.627773Z",
     "iopub.status.busy": "2025-10-02T02:34:55.627515Z",
     "iopub.status.idle": "2025-10-02T02:35:00.560646Z",
     "shell.execute_reply": "2025-10-02T02:35:00.560124Z",
     "shell.execute_reply.started": "2025-10-02T02:34:55.627752Z"
    }
   },
   "outputs": [],
   "source": [
    "# Store initial memories to demonstrate retrieval\n",
    "memory_agent.tool.mem0_memory(\n",
    "    action=\"store\", content=f\"The user's name is {USER_ID}.\", user_id=USER_ID\n",
    ")\n",
    "memory_agent.tool.mem0_memory(\n",
    "    action=\"store\", \n",
    "    content=\"I like to drink tea more than coffee.\", \n",
    "    user_id=USER_ID\n",
    ")"
   ]
  },
  {
   "cell_type": "code",
   "execution_count": null,
   "id": "f92c7f95",
   "metadata": {},
   "outputs": [],
   "source": [
    "# Retrieve memories\n",
    "retrieved_memories = memory_agent.tool.mem0_memory(\n",
    "    action=\"retrieve\", query=\"What is the user's name?\", user_id=USER_ID\n",
    ")\n",
    "print(\"Retrieved Memories:\", retrieved_memories)"
   ]
  },
  {
   "cell_type": "code",
   "execution_count": null,
   "id": "c7047852",
   "metadata": {},
   "outputs": [],
   "source": [
    "# Retrieve memories about preferences\n",
    "memory_agent.tool.mem0_memory(\n",
    "    action=\"retrieve\",\n",
    "    query=\"What are the my drink preferences?\",\n",
    "    user_id=USER_ID\n",
    ")"
   ]
  },
  {
   "cell_type": "code",
   "execution_count": null,
   "id": "26c5dc92",
   "metadata": {},
   "outputs": [],
   "source": [
    "# Ask the agent a question\n",
    "response = memory_agent(\"What are the events happening in the New York today?\")\n",
    "print(response)"
   ]
  },
  {
   "cell_type": "code",
   "execution_count": null,
   "id": "790d8d37",
   "metadata": {},
   "outputs": [],
   "source": [
    "# List all stored memories\n",
    "print(\"All Stored Memories:\")\n",
    "all_memories = memory_agent.tool.mem0_memory(\n",
    "    action=\"list\", user_id=USER_ID\n",
    ")"
   ]
  },
  {
   "cell_type": "markdown",
   "id": "f5c72c91",
   "metadata": {},
   "source": [
    "## 대화형 에이전트 사용\n",
    "\n",
    "마지막으로 사용자가 메모리 에이전트와 상호 작용할 수 있는 대화형 루프를 제공합니다. 사용자는 새 메모리를 저장하거나 기존 메모리를 검색하거나 저장된 모든 메모리를 나열할 수 있습니다.\n",
    "\n",
    "대화형 사용을 테스트하려면:\n",
    "1. 요구 사항 설치: `pip install -r requirements.txt`\n",
    "2. Python 파일 `personal_agent_with_memory.py` 실행"
   ]
  },
  {
   "cell_type": "markdown",
   "id": "856ea59c",
   "metadata": {},
   "source": [
    "## 결론\n",
    "\n",
    "이 노트북은 Strands 프레임워크를 사용하여 메모리 기능이 있는 개인 에이전트를 만드는 방법을 보여줍니다. 에이전트는 다음을 수행할 수 있습니다:\n",
    "\n",
    "1. 사용자에 대한 정보 저장\n",
    "2. 컨텍스트를 기반으로 관련 메모리 검색\n",
    "3. 추가 정보를 위해 웹 검색\n",
    "4. 개인화된 응답 제공\n",
    "\n",
    "이러한 기능을 결합하여 에이전트는 대화 전반에 걸쳐 컨텍스트를 유지하고 시간이 지남에 따라 더 개인화된 지원을 제공할 수 있습니다."
   ]
  },
  {
   "cell_type": "markdown",
   "id": "be6fd03a-26cc-4190-bb09-872c6767f972",
   "metadata": {},
   "source": [
    "### 정리\n",
    "\n",
    "이 bash 스크립트를 실행하여 Opensearch Serverless 리소스를 정리합니다. \"MEM0_PLATFORM_API\"를 사용한 경우에는 실행할 필요가 없습니다."
   ]
  },
  {
   "cell_type": "code",
   "execution_count": null,
   "id": "b6113d4f-45d2-46a5-9853-335b26da0a43",
   "metadata": {},
   "outputs": [],
   "source": [
    "!sh prereqs/cleanup_OSS.sh"
   ]
  }
 ],
 "metadata": {
  "kernelspec": {
   "display_name": "Python 3 (ipykernel)",
   "language": "python",
   "name": "python3"
  },
  "language_info": {
   "codemirror_mode": {
    "name": "ipython",
    "version": 3
   },
   "file_extension": ".py",
   "mimetype": "text/x-python",
   "name": "python",
   "nbconvert_exporter": "python",
   "pygments_lexer": "ipython3",
   "version": "3.12.9"
  }
 },
 "nbformat": 4,
 "nbformat_minor": 5
}