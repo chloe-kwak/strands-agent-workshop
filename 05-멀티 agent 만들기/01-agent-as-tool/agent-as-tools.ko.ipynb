{
 "cells": [
  {
   "cell_type": "markdown",
   "metadata": {
    "pycharm": {
     "name": "#%% md\n"
    }
   },
   "source": [
    "# Strands Agents를 사용한 도구로서의 에이전트\n"
   ]
  },
  {
   "cell_type": "markdown",
   "metadata": {
    "pycharm": {
     "name": "#%%\n"
    }
   },
   "source": [
    "\"도구로서의 에이전트\"는 AI 시스템의 아키텍처 패턴으로, 전문화된 AI 에이전트를 다른 에이전트가 사용할 수 있는 호출 가능한 함수(도구)로 래핑하는 방식입니다. 이는 다음과 같은 계층적 구조를 만듭니다:\n",
    "\n",
    "1. 주요 \"오케스트레이터\" 에이전트가 사용자 상호작용을 처리하고 어떤 전문 에이전트를 호출할지 결정합니다\n",
    "\n",
    "2. 전문화된 \"도구 에이전트\"가 오케스트레이터에 의해 호출될 때 도메인별 작업을 수행합니다\n",
    "\n",
    "이 접근법은 관리자가 전문가들을 조정하는 인간 팀 역학을 모방하며, 각자가 복잡한 문제를 해결하기 위해 고유한 전문 지식을 제공합니다. 단일 에이전트가 모든 것을 처리하려고 하는 대신, 작업이 가장 적절한 전문 에이전트에게 위임됩니다.\n",
    "\n"
   ]
  },
  {
   "cell_type": "markdown",
   "metadata": {
    "vscode": {
     "languageId": "plaintext"
    }
   },
   "source": [
    "## 주요 이점과 핵심 원칙"
   ]
  },
  {
   "cell_type": "markdown",
   "metadata": {
    "vscode": {
     "languageId": "plaintext"
    }
   },
   "source": [
    "\"도구로서의 에이전트\" 패턴은 여러 가지 장점을 제공합니다:\n",
    "\n",
    "- 관심사의 분리: 각 에이전트가 집중된 책임 영역을 가져 시스템을 이해하고 유지보수하기 쉽게 만듭니다\n",
    "- 계층적 위임: 오케스트레이터가 어떤 전문가를 호출할지 결정하여 명확한 지휘 체계를 만듭니다\n",
    "- 모듈식 아키텍처: 전문가들을 전체 시스템에 영향을 주지 않고 독립적으로 추가, 제거 또는 수정할 수 있습니다\n",
    "- 성능 향상: 각 에이전트가 특정 작업에 최적화된 맞춤형 시스템 프롬프트와 도구를 가질 수 있습니다\n"
   ]
  },
  {
   "cell_type": "code",
   "execution_count": 1,
   "metadata": {
    "collapsed": true,
    "execution": {
     "iopub.execute_input": "2025-10-02T04:55:50.365836Z",
     "iopub.status.busy": "2025-10-02T04:55:50.365586Z",
     "iopub.status.idle": "2025-10-02T04:55:51.989015Z",
     "shell.execute_reply": "2025-10-02T04:55:51.988228Z",
     "shell.execute_reply.started": "2025-10-02T04:55:50.365816Z"
    },
    "jupyter": {
     "outputs_hidden": true
    }
   },
   "outputs": [
    {
     "name": "stdout",
     "output_type": "stream",
     "text": [
      "Requirement already satisfied: strands-agents in /opt/conda/lib/python3.12/site-packages (from -r requirements.txt (line 1)) (1.10.0)\n",
      "Requirement already satisfied: strands-agents-tools in /opt/conda/lib/python3.12/site-packages (from -r requirements.txt (line 2)) (0.2.0)\n",
      "Requirement already satisfied: boto3<2.0.0,>=1.26.0 in /opt/conda/lib/python3.12/site-packages (from strands-agents->-r requirements.txt (line 1)) (1.37.1)\n",
      "Requirement already satisfied: botocore<2.0.0,>=1.29.0 in /opt/conda/lib/python3.12/site-packages (from strands-agents->-r requirements.txt (line 1)) (1.37.38)\n",
      "Requirement already satisfied: docstring-parser<1.0,>=0.15 in /opt/conda/lib/python3.12/site-packages (from strands-agents->-r requirements.txt (line 1)) (0.17.0)\n",
      "Requirement already satisfied: mcp<2.0.0,>=1.11.0 in /opt/conda/lib/python3.12/site-packages (from strands-agents->-r requirements.txt (line 1)) (1.12.4)\n",
      "Requirement already satisfied: opentelemetry-api<2.0.0,>=1.30.0 in /opt/conda/lib/python3.12/site-packages (from strands-agents->-r requirements.txt (line 1)) (1.37.0)\n",
      "Requirement already satisfied: opentelemetry-instrumentation-threading<1.00b0,>=0.51b0 in /opt/conda/lib/python3.12/site-packages (from strands-agents->-r requirements.txt (line 1)) (0.58b0)\n",
      "Requirement already satisfied: opentelemetry-sdk<2.0.0,>=1.30.0 in /opt/conda/lib/python3.12/site-packages (from strands-agents->-r requirements.txt (line 1)) (1.37.0)\n",
      "Requirement already satisfied: pydantic<3.0.0,>=2.4.0 in /opt/conda/lib/python3.12/site-packages (from strands-agents->-r requirements.txt (line 1)) (2.11.7)\n",
      "Requirement already satisfied: typing-extensions<5.0.0,>=4.13.2 in /opt/conda/lib/python3.12/site-packages (from strands-agents->-r requirements.txt (line 1)) (4.14.1)\n",
      "Requirement already satisfied: watchdog<7.0.0,>=6.0.0 in /opt/conda/lib/python3.12/site-packages (from strands-agents->-r requirements.txt (line 1)) (6.0.0)\n",
      "Requirement already satisfied: jmespath<2.0.0,>=0.7.1 in /opt/conda/lib/python3.12/site-packages (from boto3<2.0.0,>=1.26.0->strands-agents->-r requirements.txt (line 1)) (1.0.1)\n",
      "Requirement already satisfied: s3transfer<0.12.0,>=0.11.0 in /opt/conda/lib/python3.12/site-packages (from boto3<2.0.0,>=1.26.0->strands-agents->-r requirements.txt (line 1)) (0.11.3)\n",
      "Requirement already satisfied: python-dateutil<3.0.0,>=2.1 in /opt/conda/lib/python3.12/site-packages (from botocore<2.0.0,>=1.29.0->strands-agents->-r requirements.txt (line 1)) (2.9.0.post0)\n",
      "Requirement already satisfied: urllib3!=2.2.0,<3,>=1.25.4 in /opt/conda/lib/python3.12/site-packages (from botocore<2.0.0,>=1.29.0->strands-agents->-r requirements.txt (line 1)) (1.26.19)\n",
      "Requirement already satisfied: anyio>=4.5 in /opt/conda/lib/python3.12/site-packages (from mcp<2.0.0,>=1.11.0->strands-agents->-r requirements.txt (line 1)) (4.10.0)\n",
      "Requirement already satisfied: httpx-sse>=0.4 in /opt/conda/lib/python3.12/site-packages (from mcp<2.0.0,>=1.11.0->strands-agents->-r requirements.txt (line 1)) (0.4.1)\n",
      "Requirement already satisfied: httpx>=0.27 in /opt/conda/lib/python3.12/site-packages (from mcp<2.0.0,>=1.11.0->strands-agents->-r requirements.txt (line 1)) (0.28.1)\n",
      "Requirement already satisfied: jsonschema>=4.20.0 in /opt/conda/lib/python3.12/site-packages (from mcp<2.0.0,>=1.11.0->strands-agents->-r requirements.txt (line 1)) (4.23.0)\n",
      "Requirement already satisfied: pydantic-settings>=2.5.2 in /opt/conda/lib/python3.12/site-packages (from mcp<2.0.0,>=1.11.0->strands-agents->-r requirements.txt (line 1)) (2.10.1)\n",
      "Requirement already satisfied: python-multipart>=0.0.9 in /opt/conda/lib/python3.12/site-packages (from mcp<2.0.0,>=1.11.0->strands-agents->-r requirements.txt (line 1)) (0.0.20)\n",
      "Requirement already satisfied: sse-starlette>=1.6.1 in /opt/conda/lib/python3.12/site-packages (from mcp<2.0.0,>=1.11.0->strands-agents->-r requirements.txt (line 1)) (3.0.2)\n",
      "Requirement already satisfied: starlette>=0.27 in /opt/conda/lib/python3.12/site-packages (from mcp<2.0.0,>=1.11.0->strands-agents->-r requirements.txt (line 1)) (0.47.2)\n",
      "Requirement already satisfied: uvicorn>=0.23.1 in /opt/conda/lib/python3.12/site-packages (from mcp<2.0.0,>=1.11.0->strands-agents->-r requirements.txt (line 1)) (0.35.0)\n",
      "Requirement already satisfied: importlib-metadata<8.8.0,>=6.0 in /opt/conda/lib/python3.12/site-packages (from opentelemetry-api<2.0.0,>=1.30.0->strands-agents->-r requirements.txt (line 1)) (6.10.0)\n",
      "Requirement already satisfied: zipp>=0.5 in /opt/conda/lib/python3.12/site-packages (from importlib-metadata<8.8.0,>=6.0->opentelemetry-api<2.0.0,>=1.30.0->strands-agents->-r requirements.txt (line 1)) (3.23.0)\n",
      "Requirement already satisfied: opentelemetry-instrumentation==0.58b0 in /opt/conda/lib/python3.12/site-packages (from opentelemetry-instrumentation-threading<1.00b0,>=0.51b0->strands-agents->-r requirements.txt (line 1)) (0.58b0)\n",
      "Requirement already satisfied: wrapt<2.0.0,>=1.0.0 in /opt/conda/lib/python3.12/site-packages (from opentelemetry-instrumentation-threading<1.00b0,>=0.51b0->strands-agents->-r requirements.txt (line 1)) (1.17.3)\n",
      "Requirement already satisfied: opentelemetry-semantic-conventions==0.58b0 in /opt/conda/lib/python3.12/site-packages (from opentelemetry-instrumentation==0.58b0->opentelemetry-instrumentation-threading<1.00b0,>=0.51b0->strands-agents->-r requirements.txt (line 1)) (0.58b0)\n",
      "Requirement already satisfied: packaging>=18.0 in /opt/conda/lib/python3.12/site-packages (from opentelemetry-instrumentation==0.58b0->opentelemetry-instrumentation-threading<1.00b0,>=0.51b0->strands-agents->-r requirements.txt (line 1)) (24.2)\n",
      "Requirement already satisfied: annotated-types>=0.6.0 in /opt/conda/lib/python3.12/site-packages (from pydantic<3.0.0,>=2.4.0->strands-agents->-r requirements.txt (line 1)) (0.7.0)\n",
      "Requirement already satisfied: pydantic-core==2.33.2 in /opt/conda/lib/python3.12/site-packages (from pydantic<3.0.0,>=2.4.0->strands-agents->-r requirements.txt (line 1)) (2.33.2)\n",
      "Requirement already satisfied: typing-inspection>=0.4.0 in /opt/conda/lib/python3.12/site-packages (from pydantic<3.0.0,>=2.4.0->strands-agents->-r requirements.txt (line 1)) (0.4.1)\n",
      "Requirement already satisfied: six>=1.5 in /opt/conda/lib/python3.12/site-packages (from python-dateutil<3.0.0,>=2.1->botocore<2.0.0,>=1.29.0->strands-agents->-r requirements.txt (line 1)) (1.17.0)\n",
      "Requirement already satisfied: aws-requests-auth<0.5.0,>=0.4.3 in /opt/conda/lib/python3.12/site-packages (from strands-agents-tools->-r requirements.txt (line 2)) (0.4.3)\n",
      "Requirement already satisfied: dill<0.5.0,>=0.4.0 in /opt/conda/lib/python3.12/site-packages (from strands-agents-tools->-r requirements.txt (line 2)) (0.4.0)\n",
      "Requirement already satisfied: markdownify<2.0.0,>=1.0.0 in /opt/conda/lib/python3.12/site-packages (from strands-agents-tools->-r requirements.txt (line 2)) (1.2.0)\n",
      "Requirement already satisfied: pillow<12.0.0,>=11.2.1 in /opt/conda/lib/python3.12/site-packages (from strands-agents-tools->-r requirements.txt (line 2)) (11.3.0)\n",
      "Requirement already satisfied: prompt-toolkit<4.0.0,>=3.0.51 in /opt/conda/lib/python3.12/site-packages (from strands-agents-tools->-r requirements.txt (line 2)) (3.0.51)\n",
      "Requirement already satisfied: pyjwt<3.0.0,>=2.10.1 in /opt/conda/lib/python3.12/site-packages (from strands-agents-tools->-r requirements.txt (line 2)) (2.10.1)\n",
      "Requirement already satisfied: readabilipy<1.0.0,>=0.2.0 in /opt/conda/lib/python3.12/site-packages (from strands-agents-tools->-r requirements.txt (line 2)) (0.3.0)\n",
      "Requirement already satisfied: rich<15.0.0,>=14.0.0 in /opt/conda/lib/python3.12/site-packages (from strands-agents-tools->-r requirements.txt (line 2)) (14.1.0)\n",
      "Requirement already satisfied: slack-bolt<2.0.0,>=1.23.0 in /opt/conda/lib/python3.12/site-packages (from strands-agents-tools->-r requirements.txt (line 2)) (1.25.0)\n",
      "Requirement already satisfied: sympy<2.0.0,>=1.12.0 in /opt/conda/lib/python3.12/site-packages (from strands-agents-tools->-r requirements.txt (line 2)) (1.14.0)\n",
      "Requirement already satisfied: tenacity<10.0.0,>=9.1.2 in /opt/conda/lib/python3.12/site-packages (from strands-agents-tools->-r requirements.txt (line 2)) (9.1.2)\n",
      "Requirement already satisfied: requests>=0.14.0 in /opt/conda/lib/python3.12/site-packages (from aws-requests-auth<0.5.0,>=0.4.3->strands-agents-tools->-r requirements.txt (line 2)) (2.32.4)\n",
      "Requirement already satisfied: beautifulsoup4<5,>=4.9 in /opt/conda/lib/python3.12/site-packages (from markdownify<2.0.0,>=1.0.0->strands-agents-tools->-r requirements.txt (line 2)) (4.13.4)\n",
      "Requirement already satisfied: soupsieve>1.2 in /opt/conda/lib/python3.12/site-packages (from beautifulsoup4<5,>=4.9->markdownify<2.0.0,>=1.0.0->strands-agents-tools->-r requirements.txt (line 2)) (2.7)\n",
      "Requirement already satisfied: wcwidth in /opt/conda/lib/python3.12/site-packages (from prompt-toolkit<4.0.0,>=3.0.51->strands-agents-tools->-r requirements.txt (line 2)) (0.2.13)\n",
      "Requirement already satisfied: html5lib in /opt/conda/lib/python3.12/site-packages (from readabilipy<1.0.0,>=0.2.0->strands-agents-tools->-r requirements.txt (line 2)) (1.1)\n",
      "Requirement already satisfied: lxml in /opt/conda/lib/python3.12/site-packages (from readabilipy<1.0.0,>=0.2.0->strands-agents-tools->-r requirements.txt (line 2)) (6.0.2)\n",
      "Requirement already satisfied: regex in /opt/conda/lib/python3.12/site-packages (from readabilipy<1.0.0,>=0.2.0->strands-agents-tools->-r requirements.txt (line 2)) (2025.7.34)\n",
      "Requirement already satisfied: markdown-it-py>=2.2.0 in /opt/conda/lib/python3.12/site-packages (from rich<15.0.0,>=14.0.0->strands-agents-tools->-r requirements.txt (line 2)) (4.0.0)\n",
      "Requirement already satisfied: pygments<3.0.0,>=2.13.0 in /opt/conda/lib/python3.12/site-packages (from rich<15.0.0,>=14.0.0->strands-agents-tools->-r requirements.txt (line 2)) (2.19.2)\n",
      "Requirement already satisfied: slack_sdk<4,>=3.35.0 in /opt/conda/lib/python3.12/site-packages (from slack-bolt<2.0.0,>=1.23.0->strands-agents-tools->-r requirements.txt (line 2)) (3.36.0)\n",
      "Requirement already satisfied: mpmath<1.4,>=1.1.0 in /opt/conda/lib/python3.12/site-packages (from sympy<2.0.0,>=1.12.0->strands-agents-tools->-r requirements.txt (line 2)) (1.3.0)\n",
      "Requirement already satisfied: idna>=2.8 in /opt/conda/lib/python3.12/site-packages (from anyio>=4.5->mcp<2.0.0,>=1.11.0->strands-agents->-r requirements.txt (line 1)) (3.10)\n",
      "Requirement already satisfied: sniffio>=1.1 in /opt/conda/lib/python3.12/site-packages (from anyio>=4.5->mcp<2.0.0,>=1.11.0->strands-agents->-r requirements.txt (line 1)) (1.3.1)\n",
      "Requirement already satisfied: certifi in /opt/conda/lib/python3.12/site-packages (from httpx>=0.27->mcp<2.0.0,>=1.11.0->strands-agents->-r requirements.txt (line 1)) (2025.8.3)\n",
      "Requirement already satisfied: httpcore==1.* in /opt/conda/lib/python3.12/site-packages (from httpx>=0.27->mcp<2.0.0,>=1.11.0->strands-agents->-r requirements.txt (line 1)) (1.0.9)\n",
      "Requirement already satisfied: h11>=0.16 in /opt/conda/lib/python3.12/site-packages (from httpcore==1.*->httpx>=0.27->mcp<2.0.0,>=1.11.0->strands-agents->-r requirements.txt (line 1)) (0.16.0)\n",
      "Requirement already satisfied: attrs>=22.2.0 in /opt/conda/lib/python3.12/site-packages (from jsonschema>=4.20.0->mcp<2.0.0,>=1.11.0->strands-agents->-r requirements.txt (line 1)) (23.2.0)\n",
      "Requirement already satisfied: jsonschema-specifications>=2023.03.6 in /opt/conda/lib/python3.12/site-packages (from jsonschema>=4.20.0->mcp<2.0.0,>=1.11.0->strands-agents->-r requirements.txt (line 1)) (2025.4.1)\n",
      "Requirement already satisfied: referencing>=0.28.4 in /opt/conda/lib/python3.12/site-packages (from jsonschema>=4.20.0->mcp<2.0.0,>=1.11.0->strands-agents->-r requirements.txt (line 1)) (0.36.2)\n",
      "Requirement already satisfied: rpds-py>=0.7.1 in /opt/conda/lib/python3.12/site-packages (from jsonschema>=4.20.0->mcp<2.0.0,>=1.11.0->strands-agents->-r requirements.txt (line 1)) (0.27.0)\n",
      "Requirement already satisfied: mdurl~=0.1 in /opt/conda/lib/python3.12/site-packages (from markdown-it-py>=2.2.0->rich<15.0.0,>=14.0.0->strands-agents-tools->-r requirements.txt (line 2)) (0.1.2)\n",
      "Requirement already satisfied: python-dotenv>=0.21.0 in /opt/conda/lib/python3.12/site-packages (from pydantic-settings>=2.5.2->mcp<2.0.0,>=1.11.0->strands-agents->-r requirements.txt (line 1)) (1.1.1)\n",
      "Requirement already satisfied: charset_normalizer<4,>=2 in /opt/conda/lib/python3.12/site-packages (from requests>=0.14.0->aws-requests-auth<0.5.0,>=0.4.3->strands-agents-tools->-r requirements.txt (line 2)) (3.4.3)\n",
      "Requirement already satisfied: click>=7.0 in /opt/conda/lib/python3.12/site-packages (from uvicorn>=0.23.1->mcp<2.0.0,>=1.11.0->strands-agents->-r requirements.txt (line 1)) (8.2.1)\n",
      "Requirement already satisfied: webencodings in /opt/conda/lib/python3.12/site-packages (from html5lib->readabilipy<1.0.0,>=0.2.0->strands-agents-tools->-r requirements.txt (line 2)) (0.5.1)\n"
     ]
    }
   ],
   "source": [
    "!pip install -r requirements.txt"
   ]
  },
  {
   "cell_type": "code",
   "execution_count": 2,
   "metadata": {
    "execution": {
     "iopub.execute_input": "2025-10-02T04:55:53.584952Z",
     "iopub.status.busy": "2025-10-02T04:55:53.584669Z",
     "iopub.status.idle": "2025-10-02T04:55:53.988067Z",
     "shell.execute_reply": "2025-10-02T04:55:53.987449Z",
     "shell.execute_reply.started": "2025-10-02T04:55:53.584927Z"
    }
   },
   "outputs": [],
   "source": [
    "import os\n",
    "\n",
    "from strands import Agent, tool\n",
    "from strands_tools import file_write\n"
   ]
  },
  {
   "cell_type": "markdown",
   "metadata": {},
   "source": [
    "이 모듈에서는 오케스트레이터 기반 멀티 에이전트 워크플로우를 생성하겠습니다.\n",
    "\n",
    "<div style=\"text-align:left\">\n",
    "    <img src=\"images/architecture.png\" width=\"75%\" />\n",
    "</div>\n",
    "\n",
    "또한 중첩된 에이전트를 생성할 수 있게 해주는 `use_llm`도 살펴보겠습니다."
   ]
  },
  {
   "cell_type": "markdown",
   "metadata": {},
   "source": [
    "## 연구 에이전트"
   ]
  },
  {
   "cell_type": "markdown",
   "metadata": {},
   "source": [
    "먼저 http_request 도구를 사용하는 기본 연구 어시스턴트를 만들어보겠습니다."
   ]
  },
  {
   "cell_type": "code",
   "execution_count": 3,
   "metadata": {
    "execution": {
     "iopub.execute_input": "2025-10-02T04:55:56.273537Z",
     "iopub.status.busy": "2025-10-02T04:55:56.273166Z",
     "iopub.status.idle": "2025-10-02T04:55:56.276485Z",
     "shell.execute_reply": "2025-10-02T04:55:56.275890Z",
     "shell.execute_reply.started": "2025-10-02T04:55:56.273515Z"
    }
   },
   "outputs": [],
   "source": [
    "RESEARCH_ASSISTANT_PROMPT = \"\"\"당신은 전문 연구 어시스턴트입니다. 연구 질문에 대한 응답으로\n",
    "사실적이고 잘 출처가 명시된 정보만 제공하는 데 집중하세요.\n",
    "가능할 때마다 항상 출처를 인용하세요.\"\"\""
   ]
  },
  {
   "cell_type": "code",
   "execution_count": 4,
   "metadata": {
    "collapsed": true,
    "execution": {
     "iopub.execute_input": "2025-10-02T04:55:58.268245Z",
     "iopub.status.busy": "2025-10-02T04:55:58.267991Z",
     "iopub.status.idle": "2025-10-02T04:56:19.783481Z",
     "shell.execute_reply": "2025-10-02T04:56:19.782901Z",
     "shell.execute_reply.started": "2025-10-02T04:55:58.268226Z"
    },
    "jupyter": {
     "outputs_hidden": true
    }
   },
   "outputs": [
    {
     "name": "stdout",
     "output_type": "stream",
     "text": [
      "# Amazon Bedrock 개요\n",
      "\n",
      "Amazon Bedrock은 AWS에서 제공하는 완전 관리형 생성형 AI 서비스로, 다양한 기반 모델(FM)을 API를 통해 사용할 수 있게 해주는 플랫폼입니다.\n",
      "\n",
      "## 주요 기능\n",
      "\n",
      "### 1. 다양한 기반 모델 제공\n",
      "Amazon Bedrock은 다음과 같은 여러 AI 모델 제공업체의 기반 모델을 통합 인터페이스로 제공합니다:\n",
      "- Amazon: Titan 모델 제품군\n",
      "- Anthropic: Claude 모델 제품군\n",
      "- AI21 Labs: Jurassic 모델\n",
      "- Cohere: Command 및 Embed 모델\n",
      "- Meta: Llama 2 모델\n",
      "- Stability AI: Stable Diffusion 모델\n",
      "- Mistral AI: Mistral 모델\n",
      "\n",
      "[출처: AWS Amazon Bedrock 공식 문서](https://aws.amazon.com/bedrock/)\n",
      "\n",
      "### 2. 모델 맞춤화 기능\n",
      "- **모델 미세 조정(Fine-tuning)**: 자체 데이터를 사용하여 기본 모델을 특정 사용 사례에 맞게 조정\n",
      "- **검색 증강 생성(RAG)**: 자체 데이터로 모델 응답을 강화하여 최신 정보 제공\n",
      "- **지식 베이스**: 기업 데이터를 검색하고 질문에 답변할 수 있는 RAG 애플리케이션 구축\n",
      "\n",
      "[출처: AWS Bedrock 기능 페이지](https://aws.amazon.com/bedrock/features/)\n",
      "\n",
      "### 3. 보안 및 개인 정보 보호\n",
      "- 데이터와 트래픽은 AWS 내에서 안전하게 암호화\n",
      "- 고객 데이터는 모델 훈련에 사용되지 않음\n",
      "- VPC 엔드포인트 지원으로 프라이빗 네트워크 액세스 가능\n",
      "- AWS IAM과의 통합으로 세밀한 액세스 제어\n",
      "\n",
      "[출처: AWS Bedrock 보안 문서](https://docs.aws.amazon.com/bedrock/latest/userguide/security.html)\n",
      "\n",
      "### 4. 애플리케이션 구축 도구\n",
      "- **Agents for Amazon Bedrock**: 고객 데이터와 백엔드 시스템에 연결하여 작업을 수행하는 AI 비서 생성\n",
      "- **Prompt 관리**: 프롬프트 저장, 테스트 및 반복 기능 제공\n",
      "- **Guardrails for Amazon Bedrock**: 콘텐츠 필터링 및 모델 출력 제어\n",
      "\n",
      "[출처: AWS Bedrock 개발자 안내서](https://docs.aws.amazon.com/bedrock/latest/userguide/what-is-bedrock.html)\n",
      "\n",
      "### 5. 확장성과 효율성\n",
      "- 서버리스 아키텍처로 인프라 관리 불필요\n",
      "- 사용량에 따른 지불 방식(pay-as-you-go)\n",
      "- 높은 처리량과 짧은 지연 시간으로 대규모 사용 사례 지원\n",
      "\n",
      "[출처: AWS Bedrock 제품 페이지](https://aws.amazon.com/bedrock/pricing/)\n",
      "\n",
      "Amazon Bedrock은 기업이 전문 ML 지식 없이도 생성형 AI 애플리케이션을 신속하게 구축하고 확장할 수 있도록 설계되었습니다."
     ]
    }
   ],
   "source": [
    "research_agent = Agent(\n",
    "    model=\"us.anthropic.claude-3-7-sonnet-20250219-v1:0\",\n",
    "    system_prompt=RESEARCH_ASSISTANT_PROMPT,\n",
    "    # tools=[http_request]  # 여기서 에이전트 AI 검색 도구를 활성화할 수 있습니다\n",
    ")\n",
    "\n",
    "query = \"Amazon Bedrock과 그 기능에 대한 개요\"\n",
    "# 에이전트를 호출하고 응답을 반환합니다\n",
    "response = research_agent(query)"
   ]
  },
  {
   "cell_type": "markdown",
   "metadata": {},
   "source": [
    "이제 이 에이전트를 도구로 래핑할 수 있습니다. 다른 에이전트들이 이와 상호작용할 수 있게 됩니다.\n",
    "\n",
    "#### 도구로서의 에이전트 모범 사례\n",
    "\n",
    "Strands Agents로 \"도구로서의 에이전트\" 패턴을 구현할 때:\n",
    "\n",
    "1. 명확한 도구 문서화: 에이전트의 전문 분야를 설명하는 서술적 docstring 작성\n",
    "2. 집중된 시스템 프롬프트: 각 전문 에이전트를 해당 도메인에 집중하도록 유지\n",
    "3. 적절한 응답 처리: 응답을 추출하고 형식화하는 일관된 패턴 사용\n",
    "4. 도구 선택 가이드: 오케스트레이터에게 각 전문 에이전트를 언제 사용할지에 대한 명확한 기준 제공"
   ]
  },
  {
   "cell_type": "code",
   "execution_count": 5,
   "metadata": {
    "execution": {
     "iopub.execute_input": "2025-10-02T04:56:19.784500Z",
     "iopub.status.busy": "2025-10-02T04:56:19.784298Z",
     "iopub.status.idle": "2025-10-02T04:56:19.819868Z",
     "shell.execute_reply": "2025-10-02T04:56:19.819300Z",
     "shell.execute_reply.started": "2025-10-02T04:56:19.784482Z"
    }
   },
   "outputs": [],
   "source": [
    "@tool\n",
    "def research_assistant(query: str) -> str:\n",
    "    \"\"\"\n",
    "    연구 관련 쿼리를 처리하고 응답합니다.\n",
    "\n",
    "    Args:\n",
    "        query: 사실적 정보가 필요한 연구 질문\n",
    "\n",
    "    Returns:\n",
    "        인용이 포함된 상세한 연구 답변\n",
    "    \"\"\"\n",
    "    try:\n",
    "        # Strands agents를 사용하면 전문 에이전트를 쉽게 생성할 수 있습니다\n",
    "        research_agent = Agent(\n",
    "            model=\"us.anthropic.claude-3-7-sonnet-20250219-v1:0\",\n",
    "            system_prompt=RESEARCH_ASSISTANT_PROMPT,\n",
    "        )\n",
    "\n",
    "        # 에이전트를 호출하고 응답을 반환합니다\n",
    "        response = research_agent(query)\n",
    "        return str(response)\n",
    "    except Exception as e:\n",
    "        return f\"연구 어시스턴트 오류: {str(e)}\""
   ]
  },
  {
   "cell_type": "markdown",
   "metadata": {},
   "source": [
    "이제 모범 사례를 따라 `product_recommendation_assistant`, `trip_planning_assistant`, 그리고 `orchestrator` 에이전트를 생성해보겠습니다."
   ]
  },
  {
   "cell_type": "markdown",
   "metadata": {},
   "source": [
    "### 제품 추천 어시스턴트"
   ]
  },
  {
   "cell_type": "code",
   "execution_count": 6,
   "metadata": {
    "execution": {
     "iopub.execute_input": "2025-10-02T04:56:19.820636Z",
     "iopub.status.busy": "2025-10-02T04:56:19.820443Z",
     "iopub.status.idle": "2025-10-02T04:56:19.825097Z",
     "shell.execute_reply": "2025-10-02T04:56:19.824625Z",
     "shell.execute_reply.started": "2025-10-02T04:56:19.820619Z"
    }
   },
   "outputs": [],
   "source": [
    "@tool\n",
    "def product_recommendation_assistant(query: str) -> str:\n",
    "    \"\"\"\n",
    "    적절한 제품을 제안하여 제품 추천 쿼리를 처리합니다.\n",
    "\n",
    "    Args:\n",
    "        query: 사용자 선호도가 포함된 제품 문의\n",
    "\n",
    "    Returns:\n",
    "        근거가 포함된 개인화된 제품 추천\n",
    "    \"\"\"\n",
    "    try:\n",
    "        product_agent = Agent(\n",
    "            model=\"us.anthropic.claude-3-7-sonnet-20250219-v1:0\",  # 선택사항: 모델 ID 지정\n",
    "            system_prompt=\"\"\"당신은 전문 제품 추천 어시스턴트입니다.\n",
    "            사용자 선호도를 기반으로 개인화된 제품 제안을 제공하세요. 항상 출처를 인용하세요.\"\"\",\n",
    "        )\n",
    "        # 에이전트를 호출하고 응답을 반환합니다\n",
    "        response = product_agent(query)\n",
    "\n",
    "        return str(response)\n",
    "    except Exception as e:\n",
    "        return f\"제품 추천 오류: {str(e)}\""
   ]
  },
  {
   "cell_type": "code",
   "execution_count": 7,
   "metadata": {
    "execution": {
     "iopub.execute_input": "2025-10-02T04:56:19.826266Z",
     "iopub.status.busy": "2025-10-02T04:56:19.825941Z",
     "iopub.status.idle": "2025-10-02T04:56:40.774349Z",
     "shell.execute_reply": "2025-10-02T04:56:40.773849Z",
     "shell.execute_reply.started": "2025-10-02T04:56:19.826247Z"
    }
   },
   "outputs": [
    {
     "name": "stdout",
     "output_type": "stream",
     "text": [
      "# 플라잉카 제품 추천\n",
      "\n",
      "현재 상용화된 진정한 플라잉카는 제한적이지만, 개발 중이거나 예약 주문 가능한 흥미로운 모델들이 있습니다.\n",
      "\n",
      "## 추천 제품\n",
      "\n",
      "### 1. PAL-V Liberty\n",
      "* **특징**: 도로 주행과 비행 모두 가능한 하이브리드 차량\n",
      "* **가격대**: 약 3억원부터\n",
      "* **비행 거리**: 약 400-500km\n",
      "* **참고**: 유럽 도로 안전 인증 완료, 항공 인증 진행 중\n",
      "* **출처**: PAL-V 공식 웹사이트\n",
      "\n",
      "### 2. AeroMobil 4.0\n",
      "* **특징**: 스포츠카 디자인의 변형 날개 구조\n",
      "* **가격대**: 약 15억원\n",
      "* **최대 속도**: 도로 160km/h, 비행 360km/h\n",
      "* **출시 예정**: 제한적 생산 주문 가능\n",
      "* **출처**: AeroMobil 공식 자료\n",
      "\n",
      "### 3. Terrafugia Transition\n",
      "* **특징**: 접이식 날개 디자인, 일반 주유소 연료 사용 가능\n",
      "* **가격대**: 약 3.5억원\n",
      "* **비행 범위**: 약 640km\n",
      "* **출처**: Terrafugia 제품 사양\n",
      "\n",
      "### 4. Klein Vision AirCar\n",
      "* **특징**: 2021년 도시 간 비행 테스트 성공\n",
      "* **변환 시간**: 비행-도로 모드 전환 3분 미만\n",
      "* **인증**: 슬로바키아 교통국 비행 인증 획득\n",
      "* **출처**: Klein Vision 발표 자료\n",
      "\n",
      "## 고려사항\n",
      "* 대부분의 플라잉카는 조종사 면허 필요\n",
      "* 각국의 항공 규제 확인 필요\n",
      "* 현재는 예약 주문 단계이며 실제 배송은 제한적\n",
      "* 기술과 규제가 빠르게 발전하는 분야\n",
      "\n",
      "구체적인 구매 계획이 있으시다면 각 제조사의 최신 정보와 귀하의 지역 법규를 확인하는 것이 좋습니다. 추가 정보가 필요하신가요?"
     ]
    },
    {
     "data": {
      "text/plain": [
       "'# 플라잉카 제품 추천\\n\\n현재 상용화된 진정한 플라잉카는 제한적이지만, 개발 중이거나 예약 주문 가능한 흥미로운 모델들이 있습니다.\\n\\n## 추천 제품\\n\\n### 1. PAL-V Liberty\\n* **특징**: 도로 주행과 비행 모두 가능한 하이브리드 차량\\n* **가격대**: 약 3억원부터\\n* **비행 거리**: 약 400-500km\\n* **참고**: 유럽 도로 안전 인증 완료, 항공 인증 진행 중\\n* **출처**: PAL-V 공식 웹사이트\\n\\n### 2. AeroMobil 4.0\\n* **특징**: 스포츠카 디자인의 변형 날개 구조\\n* **가격대**: 약 15억원\\n* **최대 속도**: 도로 160km/h, 비행 360km/h\\n* **출시 예정**: 제한적 생산 주문 가능\\n* **출처**: AeroMobil 공식 자료\\n\\n### 3. Terrafugia Transition\\n* **특징**: 접이식 날개 디자인, 일반 주유소 연료 사용 가능\\n* **가격대**: 약 3.5억원\\n* **비행 범위**: 약 640km\\n* **출처**: Terrafugia 제품 사양\\n\\n### 4. Klein Vision AirCar\\n* **특징**: 2021년 도시 간 비행 테스트 성공\\n* **변환 시간**: 비행-도로 모드 전환 3분 미만\\n* **인증**: 슬로바키아 교통국 비행 인증 획득\\n* **출처**: Klein Vision 발표 자료\\n\\n## 고려사항\\n* 대부분의 플라잉카는 조종사 면허 필요\\n* 각국의 항공 규제 확인 필요\\n* 현재는 예약 주문 단계이며 실제 배송은 제한적\\n* 기술과 규제가 빠르게 발전하는 분야\\n\\n구체적인 구매 계획이 있으시다면 각 제조사의 최신 정보와 귀하의 지역 법규를 확인하는 것이 좋습니다. 추가 정보가 필요하신가요?\\n'"
      ]
     },
     "execution_count": 7,
     "metadata": {},
     "output_type": "execute_result"
    }
   ],
   "source": [
    "product_recommendation_assistant(\"플라잉카에 대한 제품 추천\")"
   ]
  },
  {
   "cell_type": "markdown",
   "metadata": {},
   "source": [
    "### 여행 계획 어시스턴트"
   ]
  },
  {
   "cell_type": "code",
   "execution_count": 8,
   "metadata": {
    "execution": {
     "iopub.execute_input": "2025-10-02T04:56:40.775251Z",
     "iopub.status.busy": "2025-10-02T04:56:40.774975Z",
     "iopub.status.idle": "2025-10-02T04:56:40.780249Z",
     "shell.execute_reply": "2025-10-02T04:56:40.779740Z",
     "shell.execute_reply.started": "2025-10-02T04:56:40.775225Z"
    }
   },
   "outputs": [],
   "source": [
    "@tool\n",
    "def trip_planning_assistant(query: str) -> str:\n",
    "    \"\"\"\n",
    "    여행 일정을 생성하고 여행 조언을 제공합니다.\n",
    "\n",
    "    Args:\n",
    "        query: 목적지와 선호도가 포함된 여행 계획 요청\n",
    "\n",
    "    Returns:\n",
    "        상세한 여행 일정 또는 여행 조언\n",
    "    \"\"\"\n",
    "    try:\n",
    "        travel_agent = Agent(\n",
    "            model=\"us.anthropic.claude-3-7-sonnet-20250219-v1:0\",  # 선택사항: 모델 ID 지정\n",
    "            system_prompt=\"\"\"당신은 전문 여행 계획 어시스턴트입니다.\n",
    "            사용자 선호도를 기반으로 상세한 여행 일정을 생성하세요.\"\"\",\n",
    "        )\n",
    "        # 에이전트를 호출하고 응답을 반환합니다\n",
    "        response = travel_agent(query)\n",
    "\n",
    "        return str(response)\n",
    "    except Exception as e:\n",
    "        return f\"여행 계획 오류: {str(e)}\""
   ]
  },
  {
   "cell_type": "markdown",
   "metadata": {},
   "source": [
    "### 오케스트레이터 에이전트"
   ]
  },
  {
   "cell_type": "code",
   "execution_count": 9,
   "metadata": {
    "execution": {
     "iopub.execute_input": "2025-10-02T04:56:40.781098Z",
     "iopub.status.busy": "2025-10-02T04:56:40.780840Z",
     "iopub.status.idle": "2025-10-02T04:56:40.785855Z",
     "shell.execute_reply": "2025-10-02T04:56:40.785381Z",
     "shell.execute_reply.started": "2025-10-02T04:56:40.781073Z"
    }
   },
   "outputs": [],
   "source": [
    "# 명확한 도구 선택 가이드가 포함된 오케스트레이터 시스템 프롬프트 정의\n",
    "MAIN_SYSTEM_PROMPT = \"\"\"\n",
    "당신은 쿼리를 전문 에이전트에게 라우팅하는 어시스턴트입니다:\n",
    "- 연구 질문과 사실적 정보의 경우 → research_assistant 도구 사용\n",
    "- 제품 추천과 쇼핑 조언의 경우 → product_recommendation_assistant 도구 사용\n",
    "- 여행 계획과 일정의 경우 → trip_planning_assistant 도구 사용\n",
    "- 전문 지식이 필요하지 않은 간단한 질문의 경우 → 직접 답변\n",
    "\n",
    "항상 사용자의 쿼리를 기반으로 가장 적절한 도구를 선택하세요.\n",
    "\"\"\""
   ]
  },
  {
   "cell_type": "code",
   "execution_count": 10,
   "metadata": {
    "execution": {
     "iopub.execute_input": "2025-10-02T04:56:40.787333Z",
     "iopub.status.busy": "2025-10-02T04:56:40.787153Z",
     "iopub.status.idle": "2025-10-02T04:56:40.859986Z",
     "shell.execute_reply": "2025-10-02T04:56:40.859402Z",
     "shell.execute_reply.started": "2025-10-02T04:56:40.787318Z"
    }
   },
   "outputs": [],
   "source": [
    "# Strands Agents는 에이전트 도구의 쉬운 통합을 허용합니다\n",
    "orchestrator = Agent(\n",
    "    model=\"us.anthropic.claude-3-7-sonnet-20250219-v1:0\",  # 선택사항: 모델 ID 지정\n",
    "    system_prompt=MAIN_SYSTEM_PROMPT,\n",
    "    tools=[\n",
    "        research_assistant,\n",
    "        product_recommendation_assistant,\n",
    "        trip_planning_assistant,\n",
    "        file_write,\n",
    "    ],\n",
    ")"
   ]
  },
  {
   "cell_type": "code",
   "execution_count": 11,
   "metadata": {
    "execution": {
     "iopub.execute_input": "2025-10-02T04:56:40.860931Z",
     "iopub.status.busy": "2025-10-02T04:56:40.860573Z",
     "iopub.status.idle": "2025-10-02T04:57:26.269916Z",
     "shell.execute_reply": "2025-10-02T04:57:26.269370Z",
     "shell.execute_reply.started": "2025-10-02T04:56:40.860905Z"
    }
   },
   "outputs": [
    {
     "name": "stdout",
     "output_type": "stream",
     "text": [
      "제품 추천에 대한 문의를 주셨네요. 등산화에 대한 추천 정보를 찾아드리겠습니다. 추천 결과를 파일로 작성해 드리겠습니다.\n",
      "Tool #1: product_recommendation_assistant\n",
      "# 등산화 구매 가이드\n",
      "\n",
      "안녕하세요! 등산화를 찾고 계시는군요. 좋은 등산화는 등산 경험의 질을 크게 좌우하는 중요한 장비입니다. \n",
      "\n",
      "## 좋은 등산화의 특징\n",
      "\n",
      "1. **접지력과 미끄럼 방지**: 다양한 지형에서 안정적인 접지력을 제공하는 아웃솔 패턴\n",
      "2. **방수/투습성**: GORE-TEX 같은 방수 멤브레인으로 발을 건조하게 유지\n",
      "3. **발목 지지력**: 중급 이상 산행에서는 미드컷/하이컷 디자인이 발목 보호에 유리\n",
      "4. **쿠셔닝**: 장시간 산행에도 편안함을 유지하는 미드솔\n",
      "5. **내구성**: 마모와 찢김에 강한 소재 사용\n",
      "6. **무게**: 가벼울수록 피로도 감소\n",
      "7. **발 형태 적합성**: 개인 발 모양에 맞는 라스트(last) 구조\n",
      "\n",
      "## 추천 모델\n",
      "\n",
      "### 초급자용/가벼운 산행\n",
      "- **살로몬 X 울트라 4 GTX**: 가벼우면서도 안정적인 지지력, 방수 기능 탑재 (출처: Salomon)\n",
      "- **머렐 모압 3 GTX**: 편안한 착화감과 우수한 접지력, 합리적 가격 (출처: Merrell)\n",
      "\n",
      "### 중급자용/중장거리 산행\n",
      "- **라스포르티바 울트라 랩토르 II GTX**: 우수한 쿠셔닝과 안정성, 기술적 지형에 적합 (출처: La Sportiva)\n",
      "- **스카르파 조디악 GTX**: 뛰어난 발목 지지력과 내구성, 암벽 지형에 강함 (출처: Scarpa)\n",
      "\n",
      "### 장거리 트레킹/백패킹\n",
      "- **롤링스 알타 GTX**: 견고한 구조와 뛰어난 내구성, 무거운 배낭 착용 시 안정감 (출처: Lowa)\n",
      "- **바세치 비올라 GTX**: 전통적인 가죽 소재와 현대적 기술의 조합, 우수한 내구성 (출처: Vasque)\n",
      "\n",
      "등산화는 반드시 직접 신어보고 본인 발에 맞는 편안한 제품을 선택하는 것이 중요합니다. 어떤 유형의 산행을 계획하고 계신지, 더 구체적인 조언이 필요하시면 말씀해주세요!이제 이 추천 정보를 파일로 저장하겠습니다.\n",
      "Tool #2: file_write\n"
     ]
    },
    {
     "data": {
      "text/html": [
       "<pre style=\"white-space:pre;overflow-x:auto;line-height:normal;font-family:Menlo,'DejaVu Sans Mono',consolas,'Courier New',monospace\"><span style=\"color: #000080; text-decoration-color: #000080\">╔═ </span><span style=\"color: #000080; text-decoration-color: #000080; font-weight: bold\">File Write Operation</span><span style=\"color: #000080; text-decoration-color: #000080\"> ═╗</span>\n",
       "<span style=\"color: #000080; text-decoration-color: #000080\">║</span>                        <span style=\"color: #000080; text-decoration-color: #000080\">║</span>\n",
       "<span style=\"color: #000080; text-decoration-color: #000080\">║</span> <span style=\"color: #008080; text-decoration-color: #008080\">Path: </span><span style=\"color: #808000; text-decoration-color: #808000\">등산화_추천.md</span>   <span style=\"color: #000080; text-decoration-color: #000080\">║</span>\n",
       "<span style=\"color: #000080; text-decoration-color: #000080\">║</span> <span style=\"color: #008080; text-decoration-color: #008080\">Size: </span><span style=\"color: #808000; text-decoration-color: #808000\">905 characters</span>   <span style=\"color: #000080; text-decoration-color: #000080\">║</span>\n",
       "<span style=\"color: #000080; text-decoration-color: #000080\">║</span>                        <span style=\"color: #000080; text-decoration-color: #000080\">║</span>\n",
       "<span style=\"color: #000080; text-decoration-color: #000080\">╚════════════════════════╝</span>\n",
       "</pre>\n"
      ],
      "text/plain": [
       "\u001b[34m╔═\u001b[0m\u001b[34m \u001b[0m\u001b[1;34mFile Write Operation\u001b[0m\u001b[34m \u001b[0m\u001b[34m═╗\u001b[0m\n",
       "\u001b[34m║\u001b[0m                        \u001b[34m║\u001b[0m\n",
       "\u001b[34m║\u001b[0m \u001b[36mPath: \u001b[0m\u001b[33m등산화_추천.md\u001b[0m   \u001b[34m║\u001b[0m\n",
       "\u001b[34m║\u001b[0m \u001b[36mSize: \u001b[0m\u001b[33m905 characters\u001b[0m   \u001b[34m║\u001b[0m\n",
       "\u001b[34m║\u001b[0m                        \u001b[34m║\u001b[0m\n",
       "\u001b[34m╚════════════════════════╝\u001b[0m\n"
      ]
     },
     "metadata": {},
     "output_type": "display_data"
    },
    {
     "data": {
      "text/html": [
       "<pre style=\"white-space:pre;overflow-x:auto;line-height:normal;font-family:Menlo,'DejaVu Sans Mono',consolas,'Courier New',monospace\"><span style=\"color: #008000; text-decoration-color: #008000\">╔═════════════ </span><span style=\"color: #008000; text-decoration-color: #008000; font-weight: bold\">Write Successful</span><span style=\"color: #008000; text-decoration-color: #008000\"> ══════════════╗</span>\n",
       "<span style=\"color: #008000; text-decoration-color: #008000\">║</span> <span style=\"color: #008000; text-decoration-color: #008000; font-weight: bold\">File written successfully to 등산화_추천.md</span> <span style=\"color: #008000; text-decoration-color: #008000\">║</span>\n",
       "<span style=\"color: #008000; text-decoration-color: #008000\">╚═════════════════════════════════════════════╝</span>\n",
       "</pre>\n"
      ],
      "text/plain": [
       "\u001b[32m╔═\u001b[0m\u001b[32m════════════\u001b[0m\u001b[32m \u001b[0m\u001b[1;32mWrite Successful\u001b[0m\u001b[32m \u001b[0m\u001b[32m═════════════\u001b[0m\u001b[32m═╗\u001b[0m\n",
       "\u001b[32m║\u001b[0m \u001b[1;32mFile written successfully to 등산화_추천.md\u001b[0m \u001b[32m║\u001b[0m\n",
       "\u001b[32m╚═════════════════════════════════════════════╝\u001b[0m\n"
      ]
     },
     "metadata": {},
     "output_type": "display_data"
    },
    {
     "name": "stdout",
     "output_type": "stream",
     "text": [
      "등산화 추천 정보를 성공적으로 `등산화_추천.md` 파일에 작성했습니다. 이 파일에는 좋은 등산화의 주요 특징과 산행 난이도별 추천 모델이 포함되어 있습니다.\n",
      "\n",
      "파일에서 다음 내용을 확인하실 수 있습니다:\n",
      "- 좋은 등산화가 갖춰야 할 7가지 주요 특징\n",
      "- 초급자/가벼운 산행에 적합한 추천 모델\n",
      "- 중급자/중장거리 산행에 적합한 추천 모델\n",
      "- 장거리 트레킹/백패킹에 적합한 추천 모델\n",
      "\n",
      "더 구체적인 등산화 추천이 필요하시거나 특정 브랜드, 가격대, 또는 산행 유형에 맞는 추가 정보가 필요하시면 말씀해주세요."
     ]
    }
   ],
   "source": [
    "# 예시: 전자상거래 고객 서비스 시스템\n",
    "customer_query = (\n",
    "    \"등산화를 찾고 있습니다. 최종 응답을 현재 디렉토리에 작성해주세요.\"\n",
    ")\n",
    "\n",
    "os.environ[\"BYPASS_TOOL_CONSENT\"] = \"true\"\n",
    "\n",
    "# 오케스트레이터가 자동으로 여러 전문 에이전트가 필요하다고 판단합니다\n",
    "response = orchestrator(customer_query)"
   ]
  },
  {
   "cell_type": "markdown",
   "metadata": {},
   "source": [
    "오케스트레이터의 메시지를 살펴보겠습니다. 여기서 에이전트가 하위 에이전트를 도구로 사용하기로 결정한 것을 볼 수 있습니다"
   ]
  },
  {
   "cell_type": "code",
   "execution_count": 12,
   "metadata": {
    "execution": {
     "iopub.execute_input": "2025-10-02T04:57:26.270638Z",
     "iopub.status.busy": "2025-10-02T04:57:26.270442Z",
     "iopub.status.idle": "2025-10-02T04:57:26.275113Z",
     "shell.execute_reply": "2025-10-02T04:57:26.274624Z",
     "shell.execute_reply.started": "2025-10-02T04:57:26.270620Z"
    }
   },
   "outputs": [
    {
     "data": {
      "text/plain": [
       "[{'role': 'user',\n",
       "  'content': [{'text': '등산화를 찾고 있습니다. 최종 응답을 현재 디렉토리에 작성해주세요.'}]},\n",
       " {'role': 'assistant',\n",
       "  'content': [{'text': '제품 추천에 대한 문의를 주셨네요. 등산화에 대한 추천 정보를 찾아드리겠습니다. 추천 결과를 파일로 작성해 드리겠습니다.'},\n",
       "   {'toolUse': {'toolUseId': 'tooluse_VLosHGpsSa69GyEywWiMRg',\n",
       "     'name': 'product_recommendation_assistant',\n",
       "     'input': {'query': '등산화를 찾고 있습니다. 좋은 등산화의 특징과 추천 모델에 대해 알려주세요.'}}}]},\n",
       " {'role': 'user',\n",
       "  'content': [{'toolResult': {'toolUseId': 'tooluse_VLosHGpsSa69GyEywWiMRg',\n",
       "     'status': 'success',\n",
       "     'content': [{'text': '# 등산화 구매 가이드\\n\\n안녕하세요! 등산화를 찾고 계시는군요. 좋은 등산화는 등산 경험의 질을 크게 좌우하는 중요한 장비입니다. \\n\\n## 좋은 등산화의 특징\\n\\n1. **접지력과 미끄럼 방지**: 다양한 지형에서 안정적인 접지력을 제공하는 아웃솔 패턴\\n2. **방수/투습성**: GORE-TEX 같은 방수 멤브레인으로 발을 건조하게 유지\\n3. **발목 지지력**: 중급 이상 산행에서는 미드컷/하이컷 디자인이 발목 보호에 유리\\n4. **쿠셔닝**: 장시간 산행에도 편안함을 유지하는 미드솔\\n5. **내구성**: 마모와 찢김에 강한 소재 사용\\n6. **무게**: 가벼울수록 피로도 감소\\n7. **발 형태 적합성**: 개인 발 모양에 맞는 라스트(last) 구조\\n\\n## 추천 모델\\n\\n### 초급자용/가벼운 산행\\n- **살로몬 X 울트라 4 GTX**: 가벼우면서도 안정적인 지지력, 방수 기능 탑재 (출처: Salomon)\\n- **머렐 모압 3 GTX**: 편안한 착화감과 우수한 접지력, 합리적 가격 (출처: Merrell)\\n\\n### 중급자용/중장거리 산행\\n- **라스포르티바 울트라 랩토르 II GTX**: 우수한 쿠셔닝과 안정성, 기술적 지형에 적합 (출처: La Sportiva)\\n- **스카르파 조디악 GTX**: 뛰어난 발목 지지력과 내구성, 암벽 지형에 강함 (출처: Scarpa)\\n\\n### 장거리 트레킹/백패킹\\n- **롤링스 알타 GTX**: 견고한 구조와 뛰어난 내구성, 무거운 배낭 착용 시 안정감 (출처: Lowa)\\n- **바세치 비올라 GTX**: 전통적인 가죽 소재와 현대적 기술의 조합, 우수한 내구성 (출처: Vasque)\\n\\n등산화는 반드시 직접 신어보고 본인 발에 맞는 편안한 제품을 선택하는 것이 중요합니다. 어떤 유형의 산행을 계획하고 계신지, 더 구체적인 조언이 필요하시면 말씀해주세요!\\n'}]}}]},\n",
       " {'role': 'assistant',\n",
       "  'content': [{'text': '이제 이 추천 정보를 파일로 저장하겠습니다.'},\n",
       "   {'toolUse': {'toolUseId': 'tooluse_1n1yAVgASy2yBnZUyJMA5Q',\n",
       "     'name': 'file_write',\n",
       "     'input': {'path': '등산화_추천.md',\n",
       "      'content': '# 등산화 구매 가이드\\n\\n안녕하세요! 등산화를 찾고 계시는군요. 좋은 등산화는 등산 경험의 질을 크게 좌우하는 중요한 장비입니다. \\n\\n## 좋은 등산화의 특징\\n\\n1. **접지력과 미끄럼 방지**: 다양한 지형에서 안정적인 접지력을 제공하는 아웃솔 패턴\\n2. **방수/투습성**: GORE-TEX 같은 방수 멤브레인으로 발을 건조하게 유지\\n3. **발목 지지력**: 중급 이상 산행에서는 미드컷/하이컷 디자인이 발목 보호에 유리\\n4. **쿠셔닝**: 장시간 산행에도 편안함을 유지하는 미드솔\\n5. **내구성**: 마모와 찢김에 강한 소재 사용\\n6. **무게**: 가벼울수록 피로도 감소\\n7. **발 형태 적합성**: 개인 발 모양에 맞는 라스트(last) 구조\\n\\n## 추천 모델\\n\\n### 초급자용/가벼운 산행\\n- **살로몬 X 울트라 4 GTX**: 가벼우면서도 안정적인 지지력, 방수 기능 탑재 (출처: Salomon)\\n- **머렐 모압 3 GTX**: 편안한 착화감과 우수한 접지력, 합리적 가격 (출처: Merrell)\\n\\n### 중급자용/중장거리 산행\\n- **라스포르티바 울트라 랩토르 II GTX**: 우수한 쿠셔닝과 안정성, 기술적 지형에 적합 (출처: La Sportiva)\\n- **스카르파 조디악 GTX**: 뛰어난 발목 지지력과 내구성, 암벽 지형에 강함 (출처: Scarpa)\\n\\n### 장거리 트레킹/백패킹\\n- **롤링스 알타 GTX**: 견고한 구조와 뛰어난 내구성, 무거운 배낭 착용 시 안정감 (출처: Lowa)\\n- **바세치 비올라 GTX**: 전통적인 가죽 소재와 현대적 기술의 조합, 우수한 내구성 (출처: Vasque)\\n\\n등산화는 반드시 직접 신어보고 본인 발에 맞는 편안한 제품을 선택하는 것이 중요합니다. 어떤 유형의 산행을 계획하고 계신지, 더 구체적인 조언이 필요하시면 말씀해주세요!'}}}]},\n",
       " {'role': 'user',\n",
       "  'content': [{'toolResult': {'toolUseId': 'tooluse_1n1yAVgASy2yBnZUyJMA5Q',\n",
       "     'status': 'success',\n",
       "     'content': [{'text': 'File write success: File written successfully to 등산화_추천.md'}]}}]},\n",
       " {'role': 'assistant',\n",
       "  'content': [{'text': '등산화 추천 정보를 성공적으로 `등산화_추천.md` 파일에 작성했습니다. 이 파일에는 좋은 등산화의 주요 특징과 산행 난이도별 추천 모델이 포함되어 있습니다.\\n\\n파일에서 다음 내용을 확인하실 수 있습니다:\\n- 좋은 등산화가 갖춰야 할 7가지 주요 특징\\n- 초급자/가벼운 산행에 적합한 추천 모델\\n- 중급자/중장거리 산행에 적합한 추천 모델\\n- 장거리 트레킹/백패킹에 적합한 추천 모델\\n\\n더 구체적인 등산화 추천이 필요하시거나 특정 브랜드, 가격대, 또는 산행 유형에 맞는 추가 정보가 필요하시면 말씀해주세요.'}]}]"
      ]
     },
     "execution_count": 12,
     "metadata": {},
     "output_type": "execute_result"
    }
   ],
   "source": [
    "orchestrator.messages"
   ]
  },
  {
   "cell_type": "code",
   "execution_count": 13,
   "metadata": {
    "execution": {
     "iopub.execute_input": "2025-10-02T04:57:26.275766Z",
     "iopub.status.busy": "2025-10-02T04:57:26.275593Z",
     "iopub.status.idle": "2025-10-02T04:58:45.053359Z",
     "shell.execute_reply": "2025-10-02T04:58:45.052767Z",
     "shell.execute_reply.started": "2025-10-02T04:57:26.275749Z"
    }
   },
   "outputs": [
    {
     "name": "stdout",
     "output_type": "stream",
     "text": [
      "파타고니아 여행 계획에 도움을 드리겠습니다. 여행 전문 도구를 활용하여 상세한 정보를 찾아드리겠습니다.\n",
      "Tool #3: trip_planning_assistant\n",
      "# 파타고니아 여행 계획 가이드\n",
      "\n",
      "## 최적의 방문 시기\n",
      "* **베스트 시즌: 11월~3월(남반구 여름)** - 온화한 기후, 최대 15°C까지 상승\n",
      "* **숄더 시즌: 10월, 4월** - 관광객이 적고 가격이 저렴하지만 날씨 변동성 있음\n",
      "* **비수기: 5월~9월** - 추운 겨울철, 일부 명소와 트레일 폐쇄, 대신 고요함과 눈 덮인 풍경\n",
      "\n",
      "## 파타고니아 주요 명소\n",
      "\n",
      "### 아르헨티나 측\n",
      "* **로스 글라시아레스 국립공원**\n",
      "  - 페리토 모레노 빙하: 세계적으로 유명한 활동성 빙하\n",
      "  - 피츠로이와 세로 토레 트레킹 코스\n",
      "* **엘 찰텐**: 트레킹의 중심지, 피츠로이 산 뷰\n",
      "* **우수아이아**: \"세상의 끝\" 도시, 비글 해협 크루즈\n",
      "\n",
      "### 칠레 측\n",
      "* **토레스 델 파이네 국립공원**\n",
      "  - W 트레일: 5일 코스 클래식 트레킹\n",
      "  - O 트레일: 8일 풀 서킷\n",
      "  - 그레이 빙하와 호수\n",
      "* **푸에르토 나탈레스**: 토레스 델 파이네 국립공원 관문\n",
      "* **풍티 아레나스**: 마젤란 해협 옆 주요 도시\n",
      "\n",
      "## 추천 일정 (14일 기준)\n",
      "\n",
      "### 일정 1: 칠레-아르헨티나 하이라이트\n",
      "* **1-2일**: 산티아고/부에노스아이레스 도착, 푼타 아레나스/엘 칼라파테로 이동\n",
      "* **3-5일**: 토레스 델 파이네 국립공원(W 트레일 하이라이트)\n",
      "* **6-7일**: 푸에르토 나탈레스에서 휴식, 엘 칼라파테로 이동\n",
      "* **8-10일**: 페리토 모레노 빙하, 로스 글라시아레스 국립공원 탐험\n",
      "* **11-12일**: 엘 찰텐에서 피츠로이 트레킹\n",
      "* **13-14일**: 부에노스아이레스/산티아고로 귀환\n",
      "\n",
      "### 일정 2: 트레킹 중심\n",
      "* **1-2일**: 푼타 아레나스/푸에르토 나탈레스 도착\n",
      "* **3-8일**: 토레스 델 파이네 O 서킷 완주(8일 트레킹)\n",
      "* **9-10일**: 엘 칼라파테로 이동, 페리토 모레노 빙하 방문\n",
      "* **11-13일**: 엘 찰텐에서 다양한 당일 트레킹\n",
      "* **14일**: 귀환 준비\n",
      "\n",
      "## 필수 준비물\n",
      "* **의류**: 레이어링 시스템(방수 외층, 보온 중간층, 기능성 내층), 방수 재킷, 방풍 바지, 모자, 장갑\n",
      "* **신발**: 방수 트레킹 부츠, 편안한 캠프화\n",
      "* **장비**: \n",
      "  - 백팩(30-40L 당일용/60-70L 장거리용)\n",
      "  - 고품질 침낭(-5°C까지 견디는)\n",
      "  - 트레킹 폴\n",
      "  - 헤드랜턴\n",
      "  - 물병(1-2L)\n",
      "* **기타**: \n",
      "  - 선크림(SPF50+), 모기 퇴치제\n",
      "  - 구급약품(개인 처방약 포함)\n",
      "  - 카메라, 여분 배터리\n",
      "  - 전기 어댑터(유형 C/L)\n",
      "\n",
      "## 여행 팁\n",
      "1. **예약은 미리**: 성수기(12월-2월)에는 최소 6개월 전 숙소/캠핑장 예약\n",
      "2. **현금 준비**: 소도시에서는 신용카드 사용 제한적(USD/현지 화폐 준비)\n",
      "3. **날씨 대비**: 하루에 사계절이 모두 나타날 수 있음\n",
      "4. **국경 이동**: 아르헨티나-칠레 국경 통과 시간 고려(2-3시간 소요)\n",
      "5. **교통편**: \n",
      "   - 버스가 주요 도시 연결(예약 필수)\n",
      "   - 렌트카는 자유로운 일정에 편리하나 국경 통과 시 추가 서류 필요\n",
      "6. **인터넷 접속**: 국립공원 내 제한적, 중요 정보/지도 미리 다운로드\n",
      "7. **음식**: 트레일에서는 식량 직접 준비, 주요 마을에서 보급\n",
      "\n",
      "파타고니아 여행에 대해 더 구체적인 질문이 있으시면 언제든지 물어보세요!파타고니아 여행 계획에 관한 상세한 정보를 찾았습니다. 이 정보를 파일로 저장해드리겠습니다.\n",
      "Tool #4: file_write\n"
     ]
    },
    {
     "data": {
      "text/html": [
       "<pre style=\"white-space:pre;overflow-x:auto;line-height:normal;font-family:Menlo,'DejaVu Sans Mono',consolas,'Courier New',monospace\"><span style=\"color: #000080; text-decoration-color: #000080\">╔════ </span><span style=\"color: #000080; text-decoration-color: #000080; font-weight: bold\">File Write Operation</span><span style=\"color: #000080; text-decoration-color: #000080\"> ════╗</span>\n",
       "<span style=\"color: #000080; text-decoration-color: #000080\">║</span>                              <span style=\"color: #000080; text-decoration-color: #000080\">║</span>\n",
       "<span style=\"color: #000080; text-decoration-color: #000080\">║</span> <span style=\"color: #008080; text-decoration-color: #008080\">Path: </span><span style=\"color: #808000; text-decoration-color: #808000\">파타고니아_여행계획.md</span> <span style=\"color: #000080; text-decoration-color: #000080\">║</span>\n",
       "<span style=\"color: #000080; text-decoration-color: #000080\">║</span> <span style=\"color: #008080; text-decoration-color: #008080\">Size: </span><span style=\"color: #808000; text-decoration-color: #808000\">1611 characters</span>        <span style=\"color: #000080; text-decoration-color: #000080\">║</span>\n",
       "<span style=\"color: #000080; text-decoration-color: #000080\">║</span>                              <span style=\"color: #000080; text-decoration-color: #000080\">║</span>\n",
       "<span style=\"color: #000080; text-decoration-color: #000080\">╚══════════════════════════════╝</span>\n",
       "</pre>\n"
      ],
      "text/plain": [
       "\u001b[34m╔═\u001b[0m\u001b[34m═══\u001b[0m\u001b[34m \u001b[0m\u001b[1;34mFile Write Operation\u001b[0m\u001b[34m \u001b[0m\u001b[34m═══\u001b[0m\u001b[34m═╗\u001b[0m\n",
       "\u001b[34m║\u001b[0m                              \u001b[34m║\u001b[0m\n",
       "\u001b[34m║\u001b[0m \u001b[36mPath: \u001b[0m\u001b[33m파타고니아_여행계획.md\u001b[0m \u001b[34m║\u001b[0m\n",
       "\u001b[34m║\u001b[0m \u001b[36mSize: \u001b[0m\u001b[33m1611 characters\u001b[0m        \u001b[34m║\u001b[0m\n",
       "\u001b[34m║\u001b[0m                              \u001b[34m║\u001b[0m\n",
       "\u001b[34m╚══════════════════════════════╝\u001b[0m\n"
      ]
     },
     "metadata": {},
     "output_type": "display_data"
    },
    {
     "data": {
      "text/html": [
       "<pre style=\"white-space:pre;overflow-x:auto;line-height:normal;font-family:Menlo,'DejaVu Sans Mono',consolas,'Courier New',monospace\"><span style=\"color: #008000; text-decoration-color: #008000\">╔═════════════════ </span><span style=\"color: #008000; text-decoration-color: #008000; font-weight: bold\">Write Successful</span><span style=\"color: #008000; text-decoration-color: #008000\"> ══════════════════╗</span>\n",
       "<span style=\"color: #008000; text-decoration-color: #008000\">║</span> <span style=\"color: #008000; text-decoration-color: #008000; font-weight: bold\">File written successfully to 파타고니아_여행계획.md</span> <span style=\"color: #008000; text-decoration-color: #008000\">║</span>\n",
       "<span style=\"color: #008000; text-decoration-color: #008000\">╚═════════════════════════════════════════════════════╝</span>\n",
       "</pre>\n"
      ],
      "text/plain": [
       "\u001b[32m╔═\u001b[0m\u001b[32m════════════════\u001b[0m\u001b[32m \u001b[0m\u001b[1;32mWrite Successful\u001b[0m\u001b[32m \u001b[0m\u001b[32m═════════════════\u001b[0m\u001b[32m═╗\u001b[0m\n",
       "\u001b[32m║\u001b[0m \u001b[1;32mFile written successfully to 파타고니아_여행계획.md\u001b[0m \u001b[32m║\u001b[0m\n",
       "\u001b[32m╚═════════════════════════════════════════════════════╝\u001b[0m\n"
      ]
     },
     "metadata": {},
     "output_type": "display_data"
    },
    {
     "name": "stdout",
     "output_type": "stream",
     "text": [
      "파타고니아 여행 계획을 `파타고니아_여행계획.md` 파일로 성공적으로 저장했습니다!\n",
      "\n",
      "이 파일에는 다음과 같은 유용한 정보가 포함되어 있습니다:\n",
      "\n",
      "1. **최적의 방문 시기** - 남반구에 위치한 파타고니아의 계절별 특징과 최적의 여행 시기\n",
      "2. **주요 명소** - 아르헨티나와 칠레 양국에 걸친 파타고니아의 핵심 관광지\n",
      "3. **추천 일정** - 14일 기준의 두 가지 일정 제안:\n",
      "   - 칠레-아르헨티나 하이라이트 여행\n",
      "   - 트레킹 중심의 일정\n",
      "4. **필수 준비물** - 의류, 신발, 장비 등 파타고니아 여행에 필요한 준비물 리스트\n",
      "5. **여행 팁** - 예약, 현금 준비, 날씨 대비, 국경 이동 등 실용적인 조언\n",
      "\n",
      "파타고니아 여행에 대해 더 구체적인 정보가 필요하시거나 특정 지역, 트레킹 코스, 또는 예산 계획에 대한 질문이 있으시면 언제든지 말씀해 주세요!"
     ]
    }
   ],
   "source": [
    "customer_query = \"파타고니아 여행 계획을 도와주실 수 있나요\"\n",
    "\n",
    "response = orchestrator(customer_query)"
   ]
  },
  {
   "cell_type": "code",
   "execution_count": 14,
   "metadata": {
    "execution": {
     "iopub.execute_input": "2025-10-02T04:58:45.054262Z",
     "iopub.status.busy": "2025-10-02T04:58:45.053991Z",
     "iopub.status.idle": "2025-10-02T04:58:45.059816Z",
     "shell.execute_reply": "2025-10-02T04:58:45.059256Z",
     "shell.execute_reply.started": "2025-10-02T04:58:45.054235Z"
    }
   },
   "outputs": [
    {
     "data": {
      "text/plain": [
       "[{'role': 'user',\n",
       "  'content': [{'text': '등산화를 찾고 있습니다. 최종 응답을 현재 디렉토리에 작성해주세요.'}]},\n",
       " {'role': 'assistant',\n",
       "  'content': [{'text': '제품 추천에 대한 문의를 주셨네요. 등산화에 대한 추천 정보를 찾아드리겠습니다. 추천 결과를 파일로 작성해 드리겠습니다.'},\n",
       "   {'toolUse': {'toolUseId': 'tooluse_VLosHGpsSa69GyEywWiMRg',\n",
       "     'name': 'product_recommendation_assistant',\n",
       "     'input': {'query': '등산화를 찾고 있습니다. 좋은 등산화의 특징과 추천 모델에 대해 알려주세요.'}}}]},\n",
       " {'role': 'user',\n",
       "  'content': [{'toolResult': {'toolUseId': 'tooluse_VLosHGpsSa69GyEywWiMRg',\n",
       "     'status': 'success',\n",
       "     'content': [{'text': '# 등산화 구매 가이드\\n\\n안녕하세요! 등산화를 찾고 계시는군요. 좋은 등산화는 등산 경험의 질을 크게 좌우하는 중요한 장비입니다. \\n\\n## 좋은 등산화의 특징\\n\\n1. **접지력과 미끄럼 방지**: 다양한 지형에서 안정적인 접지력을 제공하는 아웃솔 패턴\\n2. **방수/투습성**: GORE-TEX 같은 방수 멤브레인으로 발을 건조하게 유지\\n3. **발목 지지력**: 중급 이상 산행에서는 미드컷/하이컷 디자인이 발목 보호에 유리\\n4. **쿠셔닝**: 장시간 산행에도 편안함을 유지하는 미드솔\\n5. **내구성**: 마모와 찢김에 강한 소재 사용\\n6. **무게**: 가벼울수록 피로도 감소\\n7. **발 형태 적합성**: 개인 발 모양에 맞는 라스트(last) 구조\\n\\n## 추천 모델\\n\\n### 초급자용/가벼운 산행\\n- **살로몬 X 울트라 4 GTX**: 가벼우면서도 안정적인 지지력, 방수 기능 탑재 (출처: Salomon)\\n- **머렐 모압 3 GTX**: 편안한 착화감과 우수한 접지력, 합리적 가격 (출처: Merrell)\\n\\n### 중급자용/중장거리 산행\\n- **라스포르티바 울트라 랩토르 II GTX**: 우수한 쿠셔닝과 안정성, 기술적 지형에 적합 (출처: La Sportiva)\\n- **스카르파 조디악 GTX**: 뛰어난 발목 지지력과 내구성, 암벽 지형에 강함 (출처: Scarpa)\\n\\n### 장거리 트레킹/백패킹\\n- **롤링스 알타 GTX**: 견고한 구조와 뛰어난 내구성, 무거운 배낭 착용 시 안정감 (출처: Lowa)\\n- **바세치 비올라 GTX**: 전통적인 가죽 소재와 현대적 기술의 조합, 우수한 내구성 (출처: Vasque)\\n\\n등산화는 반드시 직접 신어보고 본인 발에 맞는 편안한 제품을 선택하는 것이 중요합니다. 어떤 유형의 산행을 계획하고 계신지, 더 구체적인 조언이 필요하시면 말씀해주세요!\\n'}]}}]},\n",
       " {'role': 'assistant',\n",
       "  'content': [{'text': '이제 이 추천 정보를 파일로 저장하겠습니다.'},\n",
       "   {'toolUse': {'toolUseId': 'tooluse_1n1yAVgASy2yBnZUyJMA5Q',\n",
       "     'name': 'file_write',\n",
       "     'input': {'path': '등산화_추천.md',\n",
       "      'content': '# 등산화 구매 가이드\\n\\n안녕하세요! 등산화를 찾고 계시는군요. 좋은 등산화는 등산 경험의 질을 크게 좌우하는 중요한 장비입니다. \\n\\n## 좋은 등산화의 특징\\n\\n1. **접지력과 미끄럼 방지**: 다양한 지형에서 안정적인 접지력을 제공하는 아웃솔 패턴\\n2. **방수/투습성**: GORE-TEX 같은 방수 멤브레인으로 발을 건조하게 유지\\n3. **발목 지지력**: 중급 이상 산행에서는 미드컷/하이컷 디자인이 발목 보호에 유리\\n4. **쿠셔닝**: 장시간 산행에도 편안함을 유지하는 미드솔\\n5. **내구성**: 마모와 찢김에 강한 소재 사용\\n6. **무게**: 가벼울수록 피로도 감소\\n7. **발 형태 적합성**: 개인 발 모양에 맞는 라스트(last) 구조\\n\\n## 추천 모델\\n\\n### 초급자용/가벼운 산행\\n- **살로몬 X 울트라 4 GTX**: 가벼우면서도 안정적인 지지력, 방수 기능 탑재 (출처: Salomon)\\n- **머렐 모압 3 GTX**: 편안한 착화감과 우수한 접지력, 합리적 가격 (출처: Merrell)\\n\\n### 중급자용/중장거리 산행\\n- **라스포르티바 울트라 랩토르 II GTX**: 우수한 쿠셔닝과 안정성, 기술적 지형에 적합 (출처: La Sportiva)\\n- **스카르파 조디악 GTX**: 뛰어난 발목 지지력과 내구성, 암벽 지형에 강함 (출처: Scarpa)\\n\\n### 장거리 트레킹/백패킹\\n- **롤링스 알타 GTX**: 견고한 구조와 뛰어난 내구성, 무거운 배낭 착용 시 안정감 (출처: Lowa)\\n- **바세치 비올라 GTX**: 전통적인 가죽 소재와 현대적 기술의 조합, 우수한 내구성 (출처: Vasque)\\n\\n등산화는 반드시 직접 신어보고 본인 발에 맞는 편안한 제품을 선택하는 것이 중요합니다. 어떤 유형의 산행을 계획하고 계신지, 더 구체적인 조언이 필요하시면 말씀해주세요!'}}}]},\n",
       " {'role': 'user',\n",
       "  'content': [{'toolResult': {'toolUseId': 'tooluse_1n1yAVgASy2yBnZUyJMA5Q',\n",
       "     'status': 'success',\n",
       "     'content': [{'text': 'File write success: File written successfully to 등산화_추천.md'}]}}]},\n",
       " {'role': 'assistant',\n",
       "  'content': [{'text': '등산화 추천 정보를 성공적으로 `등산화_추천.md` 파일에 작성했습니다. 이 파일에는 좋은 등산화의 주요 특징과 산행 난이도별 추천 모델이 포함되어 있습니다.\\n\\n파일에서 다음 내용을 확인하실 수 있습니다:\\n- 좋은 등산화가 갖춰야 할 7가지 주요 특징\\n- 초급자/가벼운 산행에 적합한 추천 모델\\n- 중급자/중장거리 산행에 적합한 추천 모델\\n- 장거리 트레킹/백패킹에 적합한 추천 모델\\n\\n더 구체적인 등산화 추천이 필요하시거나 특정 브랜드, 가격대, 또는 산행 유형에 맞는 추가 정보가 필요하시면 말씀해주세요.'}]},\n",
       " {'role': 'user', 'content': [{'text': '파타고니아 여행 계획을 도와주실 수 있나요'}]},\n",
       " {'role': 'assistant',\n",
       "  'content': [{'text': '파타고니아 여행 계획에 도움을 드리겠습니다. 여행 전문 도구를 활용하여 상세한 정보를 찾아드리겠습니다.'},\n",
       "   {'toolUse': {'toolUseId': 'tooluse_RrD7QzfdREql6GYClBuCGA',\n",
       "     'name': 'trip_planning_assistant',\n",
       "     'input': {'query': '파타고니아 여행 계획을 세우고 싶습니다. 파타고니아의 주요 명소, 최적의 방문 시기, 일반적인 여행 일정과 준비물, 그리고 여행 팁을 알려주세요.'}}}]},\n",
       " {'role': 'user',\n",
       "  'content': [{'toolResult': {'toolUseId': 'tooluse_RrD7QzfdREql6GYClBuCGA',\n",
       "     'status': 'success',\n",
       "     'content': [{'text': '# 파타고니아 여행 계획 가이드\\n\\n## 최적의 방문 시기\\n* **베스트 시즌: 11월~3월(남반구 여름)** - 온화한 기후, 최대 15°C까지 상승\\n* **숄더 시즌: 10월, 4월** - 관광객이 적고 가격이 저렴하지만 날씨 변동성 있음\\n* **비수기: 5월~9월** - 추운 겨울철, 일부 명소와 트레일 폐쇄, 대신 고요함과 눈 덮인 풍경\\n\\n## 파타고니아 주요 명소\\n\\n### 아르헨티나 측\\n* **로스 글라시아레스 국립공원**\\n  - 페리토 모레노 빙하: 세계적으로 유명한 활동성 빙하\\n  - 피츠로이와 세로 토레 트레킹 코스\\n* **엘 찰텐**: 트레킹의 중심지, 피츠로이 산 뷰\\n* **우수아이아**: \"세상의 끝\" 도시, 비글 해협 크루즈\\n\\n### 칠레 측\\n* **토레스 델 파이네 국립공원**\\n  - W 트레일: 5일 코스 클래식 트레킹\\n  - O 트레일: 8일 풀 서킷\\n  - 그레이 빙하와 호수\\n* **푸에르토 나탈레스**: 토레스 델 파이네 국립공원 관문\\n* **풍티 아레나스**: 마젤란 해협 옆 주요 도시\\n\\n## 추천 일정 (14일 기준)\\n\\n### 일정 1: 칠레-아르헨티나 하이라이트\\n* **1-2일**: 산티아고/부에노스아이레스 도착, 푼타 아레나스/엘 칼라파테로 이동\\n* **3-5일**: 토레스 델 파이네 국립공원(W 트레일 하이라이트)\\n* **6-7일**: 푸에르토 나탈레스에서 휴식, 엘 칼라파테로 이동\\n* **8-10일**: 페리토 모레노 빙하, 로스 글라시아레스 국립공원 탐험\\n* **11-12일**: 엘 찰텐에서 피츠로이 트레킹\\n* **13-14일**: 부에노스아이레스/산티아고로 귀환\\n\\n### 일정 2: 트레킹 중심\\n* **1-2일**: 푼타 아레나스/푸에르토 나탈레스 도착\\n* **3-8일**: 토레스 델 파이네 O 서킷 완주(8일 트레킹)\\n* **9-10일**: 엘 칼라파테로 이동, 페리토 모레노 빙하 방문\\n* **11-13일**: 엘 찰텐에서 다양한 당일 트레킹\\n* **14일**: 귀환 준비\\n\\n## 필수 준비물\\n* **의류**: 레이어링 시스템(방수 외층, 보온 중간층, 기능성 내층), 방수 재킷, 방풍 바지, 모자, 장갑\\n* **신발**: 방수 트레킹 부츠, 편안한 캠프화\\n* **장비**: \\n  - 백팩(30-40L 당일용/60-70L 장거리용)\\n  - 고품질 침낭(-5°C까지 견디는)\\n  - 트레킹 폴\\n  - 헤드랜턴\\n  - 물병(1-2L)\\n* **기타**: \\n  - 선크림(SPF50+), 모기 퇴치제\\n  - 구급약품(개인 처방약 포함)\\n  - 카메라, 여분 배터리\\n  - 전기 어댑터(유형 C/L)\\n\\n## 여행 팁\\n1. **예약은 미리**: 성수기(12월-2월)에는 최소 6개월 전 숙소/캠핑장 예약\\n2. **현금 준비**: 소도시에서는 신용카드 사용 제한적(USD/현지 화폐 준비)\\n3. **날씨 대비**: 하루에 사계절이 모두 나타날 수 있음\\n4. **국경 이동**: 아르헨티나-칠레 국경 통과 시간 고려(2-3시간 소요)\\n5. **교통편**: \\n   - 버스가 주요 도시 연결(예약 필수)\\n   - 렌트카는 자유로운 일정에 편리하나 국경 통과 시 추가 서류 필요\\n6. **인터넷 접속**: 국립공원 내 제한적, 중요 정보/지도 미리 다운로드\\n7. **음식**: 트레일에서는 식량 직접 준비, 주요 마을에서 보급\\n\\n파타고니아 여행에 대해 더 구체적인 질문이 있으시면 언제든지 물어보세요!\\n'}]}}]},\n",
       " {'role': 'assistant',\n",
       "  'content': [{'text': '파타고니아 여행 계획에 관한 상세한 정보를 찾았습니다. 이 정보를 파일로 저장해드리겠습니다.'},\n",
       "   {'toolUse': {'toolUseId': 'tooluse_P23SWoGuQda_wIGmCInzOw',\n",
       "     'name': 'file_write',\n",
       "     'input': {'path': '파타고니아_여행계획.md',\n",
       "      'content': '# 파타고니아 여행 계획 가이드\\n\\n## 최적의 방문 시기\\n* **베스트 시즌: 11월~3월(남반구 여름)** - 온화한 기후, 최대 15°C까지 상승\\n* **숄더 시즌: 10월, 4월** - 관광객이 적고 가격이 저렴하지만 날씨 변동성 있음\\n* **비수기: 5월~9월** - 추운 겨울철, 일부 명소와 트레일 폐쇄, 대신 고요함과 눈 덮인 풍경\\n\\n## 파타고니아 주요 명소\\n\\n### 아르헨티나 측\\n* **로스 글라시아레스 국립공원**\\n  - 페리토 모레노 빙하: 세계적으로 유명한 활동성 빙하\\n  - 피츠로이와 세로 토레 트레킹 코스\\n* **엘 찰텐**: 트레킹의 중심지, 피츠로이 산 뷰\\n* **우수아이아**: \"세상의 끝\" 도시, 비글 해협 크루즈\\n\\n### 칠레 측\\n* **토레스 델 파이네 국립공원**\\n  - W 트레일: 5일 코스 클래식 트레킹\\n  - O 트레일: 8일 풀 서킷\\n  - 그레이 빙하와 호수\\n* **푸에르토 나탈레스**: 토레스 델 파이네 국립공원 관문\\n* **풍티 아레나스**: 마젤란 해협 옆 주요 도시\\n\\n## 추천 일정 (14일 기준)\\n\\n### 일정 1: 칠레-아르헨티나 하이라이트\\n* **1-2일**: 산티아고/부에노스아이레스 도착, 푼타 아레나스/엘 칼라파테로 이동\\n* **3-5일**: 토레스 델 파이네 국립공원(W 트레일 하이라이트)\\n* **6-7일**: 푸에르토 나탈레스에서 휴식, 엘 칼라파테로 이동\\n* **8-10일**: 페리토 모레노 빙하, 로스 글라시아레스 국립공원 탐험\\n* **11-12일**: 엘 찰텐에서 피츠로이 트레킹\\n* **13-14일**: 부에노스아이레스/산티아고로 귀환\\n\\n### 일정 2: 트레킹 중심\\n* **1-2일**: 푼타 아레나스/푸에르토 나탈레스 도착\\n* **3-8일**: 토레스 델 파이네 O 서킷 완주(8일 트레킹)\\n* **9-10일**: 엘 칼라파테로 이동, 페리토 모레노 빙하 방문\\n* **11-13일**: 엘 찰텐에서 다양한 당일 트레킹\\n* **14일**: 귀환 준비\\n\\n## 필수 준비물\\n* **의류**: 레이어링 시스템(방수 외층, 보온 중간층, 기능성 내층), 방수 재킷, 방풍 바지, 모자, 장갑\\n* **신발**: 방수 트레킹 부츠, 편안한 캠프화\\n* **장비**: \\n  - 백팩(30-40L 당일용/60-70L 장거리용)\\n  - 고품질 침낭(-5°C까지 견디는)\\n  - 트레킹 폴\\n  - 헤드랜턴\\n  - 물병(1-2L)\\n* **기타**: \\n  - 선크림(SPF50+), 모기 퇴치제\\n  - 구급약품(개인 처방약 포함)\\n  - 카메라, 여분 배터리\\n  - 전기 어댑터(유형 C/L)\\n\\n## 여행 팁\\n1. **예약은 미리**: 성수기(12월-2월)에는 최소 6개월 전 숙소/캠핑장 예약\\n2. **현금 준비**: 소도시에서는 신용카드 사용 제한적(USD/현지 화폐 준비)\\n3. **날씨 대비**: 하루에 사계절이 모두 나타날 수 있음\\n4. **국경 이동**: 아르헨티나-칠레 국경 통과 시간 고려(2-3시간 소요)\\n5. **교통편**: \\n   - 버스가 주요 도시 연결(예약 필수)\\n   - 렌트카는 자유로운 일정에 편리하나 국경 통과 시 추가 서류 필요\\n6. **인터넷 접속**: 국립공원 내 제한적, 중요 정보/지도 미리 다운로드\\n7. **음식**: 트레일에서는 식량 직접 준비, 주요 마을에서 보급'}}}]},\n",
       " {'role': 'user',\n",
       "  'content': [{'toolResult': {'toolUseId': 'tooluse_P23SWoGuQda_wIGmCInzOw',\n",
       "     'status': 'success',\n",
       "     'content': [{'text': 'File write success: File written successfully to 파타고니아_여행계획.md'}]}}]},\n",
       " {'role': 'assistant',\n",
       "  'content': [{'text': '파타고니아 여행 계획을 `파타고니아_여행계획.md` 파일로 성공적으로 저장했습니다!\\n\\n이 파일에는 다음과 같은 유용한 정보가 포함되어 있습니다:\\n\\n1. **최적의 방문 시기** - 남반구에 위치한 파타고니아의 계절별 특징과 최적의 여행 시기\\n2. **주요 명소** - 아르헨티나와 칠레 양국에 걸친 파타고니아의 핵심 관광지\\n3. **추천 일정** - 14일 기준의 두 가지 일정 제안:\\n   - 칠레-아르헨티나 하이라이트 여행\\n   - 트레킹 중심의 일정\\n4. **필수 준비물** - 의류, 신발, 장비 등 파타고니아 여행에 필요한 준비물 리스트\\n5. **여행 팁** - 예약, 현금 준비, 날씨 대비, 국경 이동 등 실용적인 조언\\n\\n파타고니아 여행에 대해 더 구체적인 정보가 필요하시거나 특정 지역, 트레킹 코스, 또는 예산 계획에 대한 질문이 있으시면 언제든지 말씀해 주세요!'}]}]"
      ]
     },
     "execution_count": 14,
     "metadata": {},
     "output_type": "execute_result"
    }
   ],
   "source": [
    "orchestrator.messages"
   ]
  },
  {
   "cell_type": "markdown",
   "metadata": {},
   "source": [
    "### 여러 에이전트 호출"
   ]
  },
  {
   "cell_type": "code",
   "execution_count": 15,
   "metadata": {
    "execution": {
     "iopub.execute_input": "2025-10-02T04:58:45.060698Z",
     "iopub.status.busy": "2025-10-02T04:58:45.060423Z",
     "iopub.status.idle": "2025-10-02T04:58:45.063480Z",
     "shell.execute_reply": "2025-10-02T04:58:45.062949Z",
     "shell.execute_reply.started": "2025-10-02T04:58:45.060672Z"
    }
   },
   "outputs": [],
   "source": [
    "orchestrator.messages = []"
   ]
  },
  {
   "cell_type": "code",
   "execution_count": 16,
   "metadata": {
    "execution": {
     "iopub.execute_input": "2025-10-02T04:58:45.064321Z",
     "iopub.status.busy": "2025-10-02T04:58:45.064055Z",
     "iopub.status.idle": "2025-10-02T05:01:00.333015Z",
     "shell.execute_reply": "2025-10-02T05:01:00.332437Z",
     "shell.execute_reply.started": "2025-10-02T04:58:45.064295Z"
    }
   },
   "outputs": [
    {
     "name": "stdout",
     "output_type": "stream",
     "text": [
      "스페인에 관한 연구와 7일 여행 계획을 도와드릴 수 있습니다. 먼저 스페인에 대한 연구부터 진행한 후 여행 계획을 안내해 드리겠습니다.\n",
      "Tool #5: research_assistant\n",
      "# 스페인의 역사, 문화, 지리 및 주요 관광지\n",
      "\n",
      "## 역사\n",
      "\n",
      "스페인의 역사는 다양한 문명의 영향으로 풍부하고 복잡합니다.\n",
      "\n",
      "1. **초기 역사**: 이베리아 반도는 페니키아인, 그리스인, 카르타고인이 정착했으며, 기원전 218년부터 로마 지배를 받았습니다[^1].\n",
      "\n",
      "2. **이슬람 시대(711-1492)**: 무어인들이 이베리아 반도를 정복하여 알-안달루스를 설립했으며, 코르도바를 중심으로 과학, 예술, 건축이 발전했습니다[^2].\n",
      "\n",
      "3. **레콘키스타(722-1492)**: 기독교 왕국들이 점진적으로 무어인들로부터 영토를 되찾는 과정으로, 1492년 그라나다 정복으로 완성되었습니다[^1].\n",
      "\n",
      "4. **제국 시대(15-17세기)**: 페르디난드와 이사벨라의 통일 이후, 스페인은 신대륙 탐험으로 글로벌 제국으로 성장했습니다[^3].\n",
      "\n",
      "5. **현대 스페인**: 스페인 내전(1936-1939) 후 프란시스코 프랑코의 독재를 거쳐, 1975년 이후 민주주의 체제로 전환되었습니다[^1].\n",
      "\n",
      "## 문화\n",
      "\n",
      "스페인 문화는 다양한 지역 전통과 역사적 영향이 혼합된 모자이크입니다.\n",
      "\n",
      "1. **언어**: 공식 언어인 스페인어(카스티야어) 외에도 카탈루냐어, 바스크어, 갈리시아어 등 지역 언어가 존재합니다[^4].\n",
      "\n",
      "2. **예술**: 피카소, 달리, 고야, 벨라스케스와 같은 세계적인 화가들을 배출했습니다[^3].\n",
      "\n",
      "3. **건축**: 가우디의 작품들, 이슬람 영향의 알람브라 궁전, 고딕 및 르네상스 양식의 성당들이 특징적입니다[^3].\n",
      "\n",
      "4. **음식**: 타파스, 파에야, 하몽, 가스파초 등 지중해식 요리가 유명합니다[^5].\n",
      "\n",
      "5. **축제**: 라 토마티나(토마토 축제), 산 페르민(투우 달리기), 세마나 산타(성 주간) 등 다양한 지역 축제가 있습니다[^5].\n",
      "\n",
      "6. **플라멩코**: 안달루시아 지방에서 시작된 전통 음악과 춤으로, 유네스코 무형문화유산으로 등재되었습니다[^5].\n",
      "\n",
      "## 지리적 특성\n",
      "\n",
      "1. **위치 및 면적**: 이베리아 반도의 대부분을 차지하며, 면적은 약 505,990km²로 서유럽에서 두 번째로 큰 국가입니다[^6].\n",
      "\n",
      "2. **지형**: \n",
      "   - 중앙 고원(메세타)\n",
      "   - 피레네 산맥(프랑스와의 국경)\n",
      "   - 지중해 해안\n",
      "   - 대서양 해안\n",
      "   - 칸타브리아 산맥(북부)[^6]\n",
      "\n",
      "3. **기후**: 지역에 따라 지중해성, 대서양성, 대륙성, 산악 기후 등 다양한 기후가 나타납니다[^6].\n",
      "\n",
      "4. **주요 강**: 에브로, 타호, 두에로, 과디아나, 과달키비르 강이 있습니다[^6].\n",
      "\n",
      "## 주요 관광지\n",
      "\n",
      "1. **바르셀로나**:\n",
      "   - 사그라다 파밀리아(성가족성당)\n",
      "   - 구엘 공원\n",
      "   - 람블라스 거리\n",
      "   - 고딕 지구[^7]\n",
      "\n",
      "2. **마드리드**:\n",
      "   - 프라도 미술관\n",
      "   - 레티로 공원\n",
      "   - 마요르 광장\n",
      "   - 왕궁[^7]\n",
      "\n",
      "3. **세비야**:\n",
      "   - 세비야 대성당\n",
      "   - 알카사르\n",
      "   - 히랄다 탑[^7]\n",
      "\n",
      "4. **그라나다**:\n",
      "   - 알함브라 궁전\n",
      "   - 헤네랄리페 정원\n",
      "   - 알바이신 지구[^7]\n",
      "\n",
      "5. **발렌시아**:\n",
      "   - 예술과 과학의 도시\n",
      "   - 구시가지(엘 카르멘)[^7]\n",
      "\n",
      "6. **마요르카와 카나리아 제도**: 아름다운 해변과 자연 경관으로 유명한 스페인의 주요 섬 지역입니다[^7].\n",
      "\n",
      "7. **산티아고 데 콤포스텔라**: 산티아고 순례길의 종착지로 유명한 종교적 중요 도시입니다[^7].\n",
      "\n",
      "[^1]: Carr, Raymond. (2000). Spain: A History. Oxford University Press.\n",
      "[^2]: Fletcher, Richard. (2006). Moorish Spain. University of California Press.\n",
      "[^3]: Phillips, William D. & Phillips, Carla R. (2010). A Concise History of Spain. Cambridge University Press.\n",
      "[^4]: Mar-Molinero, Clare. (2000). The Politics of Language in the Spanish-Speaking World. Routledge.\n",
      "[^5]: Williams, Mark. (2017). The Story of Spain: The Dramatic History of Europe's Most Fascinating Country. Golden Era Books.\n",
      "[^6]: Font, Jaume. (2011). The Physical Geography of Spain. Universitat de Barcelona Press.\n",
      "[^7]: Lonely Planet. (2022). Spain Travel Guide. Lonely Planet Publications.스페인에 대한 연구 정보를 살펴보았습니다. 이제 7일간의 스페인 여행 계획을 위해 도움을 드리겠습니다.\n",
      "Tool #6: trip_planning_assistant\n",
      "# 스페인 7일 여행 일정 계획\n",
      "\n",
      "## 1일차: 바르셀로나 도착 및 시내 탐방\n",
      "\n",
      "**오전**\n",
      "- 바르셀로나 공항 도착 및 호텔 체크인\n",
      "- 카탈루냐 광장(Plaça de Catalunya) 방문으로 시작\n",
      "- 람블라스 거리(La Rambla) 산책 - 활기찬 보행자 거리 체험\n",
      "\n",
      "**오후**\n",
      "- 보케리아 시장(La Boqueria) 방문 - 현지 식재료와 스페인 햄, 치즈 시식\n",
      "- 고딕 지구(Barrio Gótico) 탐방 - 바르셀로나 대성당 방문\n",
      "\n",
      "**저녁**\n",
      "- 고딕 지구 내 현지 타파스 바에서 저녁 식사\n",
      "  * 추천 메뉴: 파타타스 브라바스(Patatas Bravas), 팬 콘 토마테(Pan con Tomate)\n",
      "  * 추천 레스토랑: El Xampanyet 또는 Bar del Pla\n",
      "\n",
      "**이동 방법**: 공항에서 시내까지 에어로버스(Aerobus) 또는 지하철 이용. 시내에서는 도보와 지하철 조합.\n",
      "\n",
      "## 2일차: 바르셀로나 가우디 명소\n",
      "\n",
      "**오전**\n",
      "- 사그라다 파밀리아(Sagrada Familia) 방문 (미리 온라인 예약 권장)\n",
      "- 가우디의 걸작 내부 및 외부 감상 (오디오 가이드 추천)\n",
      "\n",
      "**오후**\n",
      "- 카사 바트요(Casa Batlló)와 카사 밀라(La Pedrera) 방문\n",
      "- 그라시아 거리(Passeig de Gràcia)에서 쇼핑 및 휴식\n",
      "\n",
      "**저녁**\n",
      "- 바르셀로네타(Barceloneta) 해변 지역에서 해산물 파에야 저녁 식사\n",
      "  * 추천 레스토랑: Can Solé 또는 Barraca\n",
      "\n",
      "**이동 방법**: 지하철 및 도보. 사그라다 파밀리아는 L2, L5 지하철 노선으로 접근 가능.\n",
      "\n",
      "## 3일차: 바르셀로나 추가 명소 및 마드리드로 이동\n",
      "\n",
      "**오전**\n",
      "- 구엘 공원(Park Güell) 방문 (미리 예약 필수)\n",
      "- 몬주익 언덕(Montjuïc)으로 이동, 전망대에서 도시 전경 감상\n",
      "\n",
      "**오후**\n",
      "- 피카소 미술관 방문\n",
      "- 바르셀로나 기차역(Sants)으로 이동, 마드리드행 고속철도(AVE) 탑승\n",
      "- 마드리드 도착 후 호텔 체크인\n",
      "\n",
      "**저녁**\n",
      "- 마드리드 솔 광장(Puerta del Sol) 주변 탐방\n",
      "- 산 미구엘 시장(Mercado de San Miguel)에서 다양한 타파스 식사\n",
      "\n",
      "**이동 방법**: 바르셀로나에서 마드리드까지 AVE 고속열차 (약 2시간 30분 소요). 미리 예약 권장.\n",
      "\n",
      "## 4일차: 마드리드 주요 명소\n",
      "\n",
      "**오전**\n",
      "- 프라도 미술관(Museo del Prado) 방문 - 고야, 벨라스케스 작품 감상\n",
      "- 레티로 공원(Parque del Retiro) 산책 및 수정궁(Palacio de Cristal) 방문\n",
      "\n",
      "**오후**\n",
      "- 마드리드 왕궁(Palacio Real) 및 알무데나 대성당(Catedral de la Almudena) 방문\n",
      "- 마요르 광장(Plaza Mayor) 및 주변 탐방\n",
      "\n",
      "**저녁**\n",
      "- 라 라티나(La Latina) 지역에서 전통 스페인 요리 체험\n",
      "  * 추천 메뉴: 코시도 마드릴레뇨(Cocido Madrileño), 토르티야 에스파뇰라(Tortilla Española)\n",
      "  * 추천 레스토랑: Casa Lucio 또는 La Bola\n",
      "\n",
      "**이동 방법**: 마드리드 지하철과 도보. 관광 명소들이 비교적 가까운 거리에 위치.\n",
      "\n",
      "## 5일차: 톨레도 당일 여행\n",
      "\n",
      "**오전**\n",
      "- 마드리드 아토차(Atocha) 기차역에서 톨레도행 기차 탑승 (약 33분 소요)\n",
      "- 톨레도 도착 후 구시가지로 이동\n",
      "- 톨레도 대성당(Catedral de Toledo) 방문\n",
      "\n",
      "**오후**\n",
      "- 알카사르 요새(Alcázar of Toledo) 방문\n",
      "- 산토 토메 교회(Iglesia de Santo Tomé)에서 엘 그레코의 '오르가즈 백작의 매장' 감상\n",
      "- 유대인 지구(Judería) 탐방\n",
      "\n",
      "**저녁**\n",
      "- 마드리드로 귀환\n",
      "- 그란비아(Gran Vía)에서 저녁 식사 및 쇼핑\n",
      "\n",
      "**이동 방법**: 마드리드-톨레도 왕복 기차. 톨레도 내에서는 주로 도보로 이동.\n",
      "\n",
      "## 6일차: 마드리드 추가 탐방 및 문화 체험\n",
      "\n",
      "**오전**\n",
      "- 레이나 소피아 미술관(Museo Reina Sofía) 방문 - 피카소의 게르니카 감상\n",
      "- 티센-보르네미사 미술관(Thyssen-Bornemisza Museum) 방문\n",
      "\n",
      "**오후**\n",
      "- 데보드 신전(Templo de Debod) - 이집트에서 기증받은 고대 신전\n",
      "- 츄에카(Chueca)와 말라사냐(Malasaña) 지역의 트렌디한 상점과 카페 탐방\n",
      "\n",
      "**저녁**\n",
      "- 플라멩코 쇼 관람 (코랄 데 라 모레리아 등 예약 권장)\n",
      "- 쇼 후 현지 바에서 와인과 함께하는 가벼운 식사\n",
      "  * 추천: 리오하(Rioja) 또는 리베라 델 두에로(Ribera del Duero) 와인\n",
      "\n",
      "**이동 방법**: 지하철과 도보.\n",
      "\n",
      "## 7일차: 세고비아 방문 및 귀국\n",
      "\n",
      "**오전**\n",
      "- 마드리드 차마르틴(Chamartín) 기차역에서 세고비아행 기차 탑승 (약 30분 소요)\n",
      "- 세고비아 도착 후 로마 수도교(Aqueduct of Segovia) 방문\n",
      "- 알카사르 성(Alcázar of Segovia) 탐방\n",
      "\n",
      "**오후**\n",
      "- 세고비아 대성당(Catedral de Segovia) 방문\n",
      "- 현지 식당에서 유명한 세고비아식 구운 아기돼지(Cochinillo Asado) 점심 식사\n",
      "- 마드리드로 귀환 후 공항으로 이동, 귀국 준비\n",
      "\n",
      "**이동 방법**: 마드리드-세고비아 왕복 기차. 마드리드 공항까지는 지하철 또는 공항 버스 이용.\n",
      "\n",
      "## 여행 팁:\n",
      "\n",
      "1. **교통**: 주요 도시 간 이동은 AVE 고속철도가 편리하며, 도시 내에서는 지하철(Metro) 이용이 경제적\n",
      "2. **메트로 패스**: 바르셀로나와 마드리드에서 관광객용 메트로 패스 구매 고려\n",
      "3. **식사 시간**: 스페인의 식사 시간은 한국보다 늦음 (점심 14:00-16:00, 저녁 21:00-23:00)\n",
      "4. **물 주문**: 레스토랑에서 \"agua del grifo\"(수돗물)를 주문하면 무료로 물을 제공받을 수 있음\n",
      "5. **치안**: 주요 관광지에서는 소매치기 주의, 귀중품은 몸 앞쪽에 휴대\n",
      "6. **예약**: 사그라다 파밀리아, 구엘 공원, 프라도 미술관 등은 사전 예약 필수\n",
      "\n",
      "즐겁고 풍요로운 스페인 여행 되세요!위의 정보를 바탕으로 스페인에 대한 간략한 요약과 여행 계획을 정리해 드리겠습니다.\n",
      "\n",
      "## 스페인 개요\n",
      "\n",
      "스페인은 풍부한 역사와 다양한 문화적 유산을 지닌 나라입니다. 이베리아 반도에 위치하며 로마 제국, 이슬람 시대, 레콘키스타, 제국 시대를 거쳐 현대 민주주의 국가로 발전했습니다. 스페인어(카스티야어)가 공식 언어이며, 카탈루냐어, 바스크어 등 지역 언어도 사용됩니다.\n",
      "\n",
      "문화적으로는 피카소, 달리, 고야와 같은 세계적 화가들과 가우디의 건축물, 그리고 플라멩코, 타파스, 파에야 같은 독특한 음식문화가 유명합니다. 라 토마티나(토마토 축제), 산 페르민(투우 달리기) 등 다양한 축제도 스페인 문화의 중요한 부분입니다.\n",
      "\n",
      "지리적으로는 중앙 고원, 피레네 산맥, 다양한 해안선을 갖추고 있으며, 바르셀로나, 마드리드, 세비야, 그라나다, 발렌시아 등 매력적인 도시들이 있습니다.\n",
      "\n",
      "## 7일 여행 계획 요약\n",
      "\n",
      "제안된 7일 여행 계획은 스페인의 주요 명소를 효율적으로 둘러볼 수 있도록 구성되었습니다:\n",
      "\n",
      "- **1-3일차**: 바르셀로나에서 람블라스 거리, 고딕 지구, 사그라다 파밀리아, 구엘 공원 등 가우디 명소 탐방\n",
      "- **3-6일차**: 마드리드로 이동하여 프라도 미술관, 레티로 공원, 왕궁, 마요르 광장 등 방문\n",
      "- **5일차**: 톨레도 당일 여행 (마드리드에서 기차로 33분)\n",
      "- **6일차**: 마드리드에서 추가 문화 체험 및 플라멩코 쇼\n",
      "- **7일차**: 세고비아 방문 후 귀국\n",
      "\n",
      "현지 교통은 도시 간 이동은 AVE 고속철도, 도시 내 이동은 메트로와 도보를 활용하면 편리합니다. 주요 관광지는 사전 예약이 필수이며, 스페인의 늦은 식사 시간(점심 14-16시, 저녁 21-23시)에 맞춰 일정을 조정하는 것이 좋습니다.\n",
      "\n",
      "이 여행을 통해 스페인의 다양한 역사, 문화, 음식을 경험하실 수 있을 것입니다. 추가 질문이나 더 자세한 정보가 필요하시면 말씀해 주세요!"
     ]
    },
    {
     "data": {
      "text/plain": [
       "AgentResult(stop_reason='end_turn', message={'role': 'assistant', 'content': [{'text': '위의 정보를 바탕으로 스페인에 대한 간략한 요약과 여행 계획을 정리해 드리겠습니다.\\n\\n## 스페인 개요\\n\\n스페인은 풍부한 역사와 다양한 문화적 유산을 지닌 나라입니다. 이베리아 반도에 위치하며 로마 제국, 이슬람 시대, 레콘키스타, 제국 시대를 거쳐 현대 민주주의 국가로 발전했습니다. 스페인어(카스티야어)가 공식 언어이며, 카탈루냐어, 바스크어 등 지역 언어도 사용됩니다.\\n\\n문화적으로는 피카소, 달리, 고야와 같은 세계적 화가들과 가우디의 건축물, 그리고 플라멩코, 타파스, 파에야 같은 독특한 음식문화가 유명합니다. 라 토마티나(토마토 축제), 산 페르민(투우 달리기) 등 다양한 축제도 스페인 문화의 중요한 부분입니다.\\n\\n지리적으로는 중앙 고원, 피레네 산맥, 다양한 해안선을 갖추고 있으며, 바르셀로나, 마드리드, 세비야, 그라나다, 발렌시아 등 매력적인 도시들이 있습니다.\\n\\n## 7일 여행 계획 요약\\n\\n제안된 7일 여행 계획은 스페인의 주요 명소를 효율적으로 둘러볼 수 있도록 구성되었습니다:\\n\\n- **1-3일차**: 바르셀로나에서 람블라스 거리, 고딕 지구, 사그라다 파밀리아, 구엘 공원 등 가우디 명소 탐방\\n- **3-6일차**: 마드리드로 이동하여 프라도 미술관, 레티로 공원, 왕궁, 마요르 광장 등 방문\\n- **5일차**: 톨레도 당일 여행 (마드리드에서 기차로 33분)\\n- **6일차**: 마드리드에서 추가 문화 체험 및 플라멩코 쇼\\n- **7일차**: 세고비아 방문 후 귀국\\n\\n현지 교통은 도시 간 이동은 AVE 고속철도, 도시 내 이동은 메트로와 도보를 활용하면 편리합니다. 주요 관광지는 사전 예약이 필수이며, 스페인의 늦은 식사 시간(점심 14-16시, 저녁 21-23시)에 맞춰 일정을 조정하는 것이 좋습니다.\\n\\n이 여행을 통해 스페인의 다양한 역사, 문화, 음식을 경험하실 수 있을 것입니다. 추가 질문이나 더 자세한 정보가 필요하시면 말씀해 주세요!'}]}, metrics=EventLoopMetrics(cycle_count=9, tool_metrics={'product_recommendation_assistant': ToolMetrics(tool={'toolUseId': 'tooluse_VLosHGpsSa69GyEywWiMRg', 'name': 'product_recommendation_assistant', 'input': {'query': '등산화를 찾고 있습니다. 좋은 등산화의 특징과 추천 모델에 대해 알려주세요.'}}, call_count=1, success_count=1, error_count=0, total_time=18.06613302230835), 'file_write': ToolMetrics(tool={'toolUseId': 'tooluse_P23SWoGuQda_wIGmCInzOw', 'name': 'file_write', 'input': {'path': '파타고니아_여행계획.md', 'content': '# 파타고니아 여행 계획 가이드\\n\\n## 최적의 방문 시기\\n* **베스트 시즌: 11월~3월(남반구 여름)** - 온화한 기후, 최대 15°C까지 상승\\n* **숄더 시즌: 10월, 4월** - 관광객이 적고 가격이 저렴하지만 날씨 변동성 있음\\n* **비수기: 5월~9월** - 추운 겨울철, 일부 명소와 트레일 폐쇄, 대신 고요함과 눈 덮인 풍경\\n\\n## 파타고니아 주요 명소\\n\\n### 아르헨티나 측\\n* **로스 글라시아레스 국립공원**\\n  - 페리토 모레노 빙하: 세계적으로 유명한 활동성 빙하\\n  - 피츠로이와 세로 토레 트레킹 코스\\n* **엘 찰텐**: 트레킹의 중심지, 피츠로이 산 뷰\\n* **우수아이아**: \"세상의 끝\" 도시, 비글 해협 크루즈\\n\\n### 칠레 측\\n* **토레스 델 파이네 국립공원**\\n  - W 트레일: 5일 코스 클래식 트레킹\\n  - O 트레일: 8일 풀 서킷\\n  - 그레이 빙하와 호수\\n* **푸에르토 나탈레스**: 토레스 델 파이네 국립공원 관문\\n* **풍티 아레나스**: 마젤란 해협 옆 주요 도시\\n\\n## 추천 일정 (14일 기준)\\n\\n### 일정 1: 칠레-아르헨티나 하이라이트\\n* **1-2일**: 산티아고/부에노스아이레스 도착, 푼타 아레나스/엘 칼라파테로 이동\\n* **3-5일**: 토레스 델 파이네 국립공원(W 트레일 하이라이트)\\n* **6-7일**: 푸에르토 나탈레스에서 휴식, 엘 칼라파테로 이동\\n* **8-10일**: 페리토 모레노 빙하, 로스 글라시아레스 국립공원 탐험\\n* **11-12일**: 엘 찰텐에서 피츠로이 트레킹\\n* **13-14일**: 부에노스아이레스/산티아고로 귀환\\n\\n### 일정 2: 트레킹 중심\\n* **1-2일**: 푼타 아레나스/푸에르토 나탈레스 도착\\n* **3-8일**: 토레스 델 파이네 O 서킷 완주(8일 트레킹)\\n* **9-10일**: 엘 칼라파테로 이동, 페리토 모레노 빙하 방문\\n* **11-13일**: 엘 찰텐에서 다양한 당일 트레킹\\n* **14일**: 귀환 준비\\n\\n## 필수 준비물\\n* **의류**: 레이어링 시스템(방수 외층, 보온 중간층, 기능성 내층), 방수 재킷, 방풍 바지, 모자, 장갑\\n* **신발**: 방수 트레킹 부츠, 편안한 캠프화\\n* **장비**: \\n  - 백팩(30-40L 당일용/60-70L 장거리용)\\n  - 고품질 침낭(-5°C까지 견디는)\\n  - 트레킹 폴\\n  - 헤드랜턴\\n  - 물병(1-2L)\\n* **기타**: \\n  - 선크림(SPF50+), 모기 퇴치제\\n  - 구급약품(개인 처방약 포함)\\n  - 카메라, 여분 배터리\\n  - 전기 어댑터(유형 C/L)\\n\\n## 여행 팁\\n1. **예약은 미리**: 성수기(12월-2월)에는 최소 6개월 전 숙소/캠핑장 예약\\n2. **현금 준비**: 소도시에서는 신용카드 사용 제한적(USD/현지 화폐 준비)\\n3. **날씨 대비**: 하루에 사계절이 모두 나타날 수 있음\\n4. **국경 이동**: 아르헨티나-칠레 국경 통과 시간 고려(2-3시간 소요)\\n5. **교통편**: \\n   - 버스가 주요 도시 연결(예약 필수)\\n   - 렌트카는 자유로운 일정에 편리하나 국경 통과 시 추가 서류 필요\\n6. **인터넷 접속**: 국립공원 내 제한적, 중요 정보/지도 미리 다운로드\\n7. **음식**: 트레일에서는 식량 직접 준비, 주요 마을에서 보급'}}, call_count=2, success_count=2, error_count=0, total_time=0.008414030075073242), 'trip_planning_assistant': ToolMetrics(tool={'toolUseId': 'tooluse_AGhk_ICoS1WD-zQwIwNdZA', 'name': 'trip_planning_assistant', 'input': {'query': '스페인 7일 여행 일정 계획. 주요 도시(바르셀로나, 마드리드)와 문화 유적지 포함, 현지 음식 경험, 효율적인 이동 방법 안내.'}}, call_count=2, success_count=2, error_count=0, total_time=99.57942032814026), 'research_assistant': ToolMetrics(tool={'toolUseId': 'tooluse_nPADvi6CTt-loJC_vdnKzA', 'name': 'research_assistant', 'input': {'query': '스페인의 역사, 문화, 지리적 특성과 주요 관광지에 대한 정보'}}, call_count=1, success_count=1, error_count=0, total_time=42.72478222846985)}, cycle_durations=[5.611303091049194, 8.43612289428711, 21.136630535125732], traces=[<strands.telemetry.metrics.Trace object at 0x7fc7af467ec0>, <strands.telemetry.metrics.Trace object at 0x7fc7e451a9f0>, <strands.telemetry.metrics.Trace object at 0x7fc7aec37ec0>, <strands.telemetry.metrics.Trace object at 0x7fc7bc0b29f0>, <strands.telemetry.metrics.Trace object at 0x7fc7aecec3b0>, <strands.telemetry.metrics.Trace object at 0x7fc7bc0d8710>, <strands.telemetry.metrics.Trace object at 0x7fc7aec7fec0>, <strands.telemetry.metrics.Trace object at 0x7fc7af98f9e0>, <strands.telemetry.metrics.Trace object at 0x7fc7ae47ccb0>], accumulated_usage={'inputTokens': 37301, 'outputTokens': 4975, 'totalTokens': 42276}, accumulated_metrics={'latencyMs': 98991}), state={})"
      ]
     },
     "execution_count": 16,
     "metadata": {},
     "output_type": "execute_result"
    }
   ],
   "source": [
    "query = \"스페인에 대한 연구를 해주실 수 있나요? 또한 7일 여행 계획도 도와주세요.\"\n",
    "\n",
    "orchestrator(query)"
   ]
  },
  {
   "cell_type": "markdown",
   "metadata": {},
   "source": [
    "내부적으로 오케스트레이터는:\n",
    "1. 먼저 `research_assistant`를 호출합니다\n",
    "2. 그다음 `trip_planning_assistant`를 호출합니다\n",
    "3. 이러한 전문화된 응답들을 두 쿼리 모두를 다루는 일관된 답변으로 결합합니다"
   ]
  },
  {
   "cell_type": "markdown",
   "metadata": {},
   "source": [
    "### 순차적 에이전트 통신 패턴\n"
   ]
  },
  {
   "cell_type": "markdown",
   "metadata": {},
   "source": [
    "에이전트 도구는 여러 에이전트를 함께 결합할 수도 있습니다. 이 예시에서는 `research_agent`의 출력을 `summary_agent`에 제공하고 요약된 응답을 반환하겠습니다."
   ]
  },
  {
   "cell_type": "code",
   "execution_count": 17,
   "metadata": {
    "execution": {
     "iopub.execute_input": "2025-10-02T05:01:00.333780Z",
     "iopub.status.busy": "2025-10-02T05:01:00.333592Z",
     "iopub.status.idle": "2025-10-02T05:01:38.126050Z",
     "shell.execute_reply": "2025-10-02T05:01:38.125378Z",
     "shell.execute_reply.started": "2025-10-02T05:01:00.333763Z"
    }
   },
   "outputs": [
    {
     "name": "stdout",
     "output_type": "stream",
     "text": [
      "여러 에이전트가 성공적으로 생성되었습니다!\n",
      "\n",
      "🔍 연구 에이전트가 작업 중: 생성형 AI\n",
      "\n",
      "# 생성형 AI에 대한 포괄적인 정보\n",
      "\n",
      "생성형 AI(Generative AI)는 콘텐츠를 생성하기 위한 인공지능 시스템으로, 최근 몇 년간 기술적 발전과 함께 다양한 분야에서 주목받고 있습니다. 아래에서 생성형 AI에 대한 포괄적인 정보를 제시합니다.\n",
      "\n",
      "## 정의 및 작동 원리\n",
      "\n",
      "생성형 AI는 기존 데이터를 학습하여 새로운 콘텐츠(텍스트, 이미지, 음악, 영상 등)를 생성하는 AI 시스템입니다. 주로 다음과 같은 모델 유형을 기반으로 합니다:\n",
      "\n",
      "- **생성적 적대 신경망(GANs)**: 생성자와 판별자 네트워크 간의 경쟁을 통해 학습하는 구조\n",
      "- **변분 오토인코더(VAEs)**: 확률적 접근 방식으로 데이터의 잠재 표현을 학습\n",
      "- **확산 모델(Diffusion Models)**: 점진적으로 노이즈를 제거하며 콘텐츠를 생성\n",
      "- **트랜스포머(Transformer)**: 자연어 처리와 멀티모달 태스크에서 주로 사용되는 아키텍처\n",
      "\n",
      "최근에는 대규모 언어 모델(LLMs)이 주목받고 있으며, 대표적으로 GPT(Generative Pre-trained Transformer) 계열이 있습니다[1].\n",
      "\n",
      "## 주요 적용 분야\n",
      "\n",
      "생성형 AI는 다양한 분야에서 활용되고 있습니다:\n",
      "\n",
      "1. **텍스트 생성**: 콘텐츠 작성, 번역, 요약, 챗봇 등\n",
      "2. **이미지 생성**: DALL-E, Midjourney, Stable Diffusion 등을 통한 사실적 이미지 생성\n",
      "3. **음악 및 오디오 생성**: 작곡, 음성 합성, 사운드 디자인\n",
      "4. **비디오 생성**: 짧은 클립부터 장면 합성까지\n",
      "5. **코드 생성**: GitHub Copilot 등 프로그래밍 지원 도구\n",
      "6. **제품 설계 및 개발**: 제품 디자인, 구조 최적화 등[2]\n",
      "\n",
      "## 기술적 발전과 주요 모델\n",
      "\n",
      "최근 몇 년간 생성형 AI 분야에서 중요한 발전이 있었습니다:\n",
      "\n",
      "- **2017년**: NVIDIA의 고해상도 GAN 이미지 생성 기술 등장\n",
      "- **2020년**: OpenAI의 GPT-3 발표, 1750억 매개변수 규모의 언어 모델\n",
      "- **2021년**: DALL-E와 같은 텍스트-이미지 생성 모델 등장\n",
      "- **2022년**: Stable Diffusion의 오픈소스 출시, ChatGPT 출시\n",
      "- **2023년**: GPT-4, Claude 2, Llama 2 등 고급 LLM 출시[3][4]\n",
      "\n",
      "## 경제적 영향\n",
      "\n",
      "McKinsey에 따르면 생성형 AI는 연간 2.6조에서 4.4조 달러의 경제적 가치를 창출할 잠재력이 있습니다. 특히 마케팅, 고객 서비스, 소프트웨어 개발, R&D 분야에서 생산성을 크게 향상시킬 것으로 예상됩니다[5].\n",
      "\n",
      "## 윤리적 고려사항 및 도전과제\n",
      "\n",
      "생성형 AI는 다음과 같은 윤리적 문제와 도전과제를 안고 있습니다:\n",
      "\n",
      "- **저작권 및 지적재산권**: 학습 데이터 및 생성물에 대한 권리 문제\n",
      "- **딥페이크 및 오정보**: 사실적인 가짜 콘텐츠 생성 위험\n",
      "- **편향성**: 학습 데이터에 내재된 편향이 결과물에 반영될 가능성\n",
      "- **개인정보 보호**: 학습 데이터에 포함된 개인정보 문제\n",
      "- **자동화로 인한 일자리 변화**: 특정 직업군의 업무 변화 또는 대체[6]\n",
      "\n",
      "## 미래 전망\n",
      "\n",
      "생성형 AI는 계속 발전하며 다음과 같은 방향으로 진화할 것으로 예상됩니다:\n",
      "\n",
      "- 멀티모달 능력 강화 (텍스트, 이미지, 오디오, 비디오 등을 통합 처리)\n",
      "- 도메인별 특화 모델의 증가\n",
      "- 더 작고 효율적인 모델 개발 (환경 및 비용 측면)\n",
      "- 생성 콘텐츠 식별 기술 발전\n",
      "- 규제 프레임워크의 발전 및 적용[7]\n",
      "\n",
      "---\n",
      "\n",
      "**출처:**\n",
      "[1] LeCun, Y., & Hinton, G. (2022). Deep Learning Revolution. MIT Press.\n",
      "[2] Stanford HAI. (2023). \"Artificial Intelligence Index Report 2023.\"\n",
      "[3] OpenAI. (2022). \"GPT-4 Technical Report.\"\n",
      "[4] Anthropic. (2023). \"Claude 2 Technical Documentation.\"\n",
      "[5] McKinsey Global Institute. (2023). \"The Economic Potential of Generative AI.\"\n",
      "[6] Ethics in AI Research Institute. (2023). \"Ethical Challenges in Generative AI.\"\n",
      "[7] World Economic Forum. (2023). \"Future of Generative AI Technologies.\"연구 어시스턴트 오류: 'dict' object has no attribute 'content'\n"
     ]
    }
   ],
   "source": [
    " # 사용자 쿼리 정의\n",
    "topic = \"생성형 AI\"\n",
    "# 연구 에이전트 생성\n",
    "research_agent = Agent(\n",
    "    model=\"us.anthropic.claude-3-7-sonnet-20250219-v1:0\",\n",
    "    system_prompt=RESEARCH_ASSISTANT_PROMPT,\n",
    ")\n",
    "# 요약 에이전트 생성\n",
    "summary_agent = Agent(\n",
    "    model=\"us.anthropic.claude-3-7-sonnet-20250219-v1:0\",\n",
    "    system_prompt=\"\"\"\n",
    "    당신은 복잡한 정보를 명확하고 간결한 요약으로 정제하는 데 집중하는 요약 전문가입니다.\n",
    "    주요 목표는 상세한 정보를 받아 핵심 포인트, 주요 논점, 중요한 데이터를 추출하는 것입니다.\n",
    "    원본 내용의 정확성을 유지하면서 더 소화하기 쉽게 만들어야 합니다.\n",
    "    명확성, 간결성, 그리고 정보의 가장 중요한 측면을 강조하는 데 집중하세요.\n",
    "    \"\"\",\n",
    ")\n",
    "\n",
    "print(\"여러 에이전트가 성공적으로 생성되었습니다!\")\n",
    "print(f\"\\n🔍 연구 에이전트가 작업 중: {topic}\\n\") \n",
    "try:\n",
    "    # 에이전트 1: 연구 에이전트 호출\n",
    "    research_response = research_agent(\n",
    "        f\"{topic}에 대한 포괄적인 정보를 수집해주세요.\"\n",
    "    )\n",
    "    research_text = research_response.message.content[0][\"text\"]\n",
    "    print(\"\\n✂️ 요약 에이전트가 연구를 정제하는 중\\n\")\n",
    "    \n",
    "    # 에이전트 2: 요약 에이전트에게 간결한 요약 생성 요청\n",
    "    summary_response = summary_agent(\n",
    "        f\"이 연구의 간결한 요약을 작성해주세요: {research_text}\"\n",
    "    )\n",
    "    summary_text = summary_response.message.content[0][\"text\"]\n",
    "    \n",
    "    print(summary_text)\n",
    "except Exception as e:\n",
    "    print(f\"연구 어시스턴트 오류: {str(e)}\")"
   ]
  },
  {
   "cell_type": "markdown",
   "metadata": {},
   "source": [
    "## 축하합니다!\n",
    "\n",
    "Strands Agents에서 에이전트를 도구로 사용하여 더 복잡한 에이전트 애플리케이션을 생성하는 방법을 배웠습니다"
   ]
  }
 ],
 "metadata": {
  "kernelspec": {
   "display_name": "Python 3 (ipykernel)",
   "language": "python",
   "name": "python3"
  },
  "language_info": {
   "codemirror_mode": {
    "name": "ipython",
    "version": 3
   },
   "file_extension": ".py",
   "mimetype": "text/x-python",
   "name": "python",
   "nbconvert_exporter": "python",
   "pygments_lexer": "ipython3",
   "version": "3.12.9"
  }
 },
 "nbformat": 4,
 "nbformat_minor": 4
}
