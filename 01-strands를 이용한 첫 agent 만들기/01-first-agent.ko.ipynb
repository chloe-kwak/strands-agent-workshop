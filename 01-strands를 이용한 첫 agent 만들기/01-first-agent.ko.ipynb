{
 "cells": [
  {
   "cell_type": "markdown",
   "id": "8e394456",
   "metadata": {},
   "source": [
    "# Strands Agents 빠른 시작 가이드\n",
    "\n",
    "Strands Agents는 AWS 서비스와 상호작용하고 복잡한 작업을 수행할 수 있는 AI 에이전트를 구축하기 위한 강력한 프레임워크입니다. 이 빠른 시작 가이드는 첫 번째 Strands 에이전트를 만드는 데 도움을 줄 것입니다.\n",
    "\n",
    "## 사전 요구사항\n",
    "\n",
    "- Python 3.10 이상\n",
    "- 적절한 권한으로 구성된 AWS 계정\n",
    "- Python 프로그래밍에 대한 기본 이해\n",
    "\n",
    "시작해봅시다!"
   ]
  },
  {
   "cell_type": "code",
   "execution_count": 1,
   "id": "5f7b62fd",
   "metadata": {
    "collapsed": true,
    "execution": {
     "iopub.execute_input": "2025-10-01T23:24:53.332062Z",
     "iopub.status.busy": "2025-10-01T23:24:53.331716Z",
     "iopub.status.idle": "2025-10-01T23:24:54.926978Z",
     "shell.execute_reply": "2025-10-01T23:24:54.926395Z",
     "shell.execute_reply.started": "2025-10-01T23:24:53.332031Z"
    },
    "jupyter": {
     "outputs_hidden": true
    }
   },
   "outputs": [
    {
     "name": "stdout",
     "output_type": "stream",
     "text": [
      "Requirement already satisfied: strands-agents in /opt/conda/lib/python3.12/site-packages (1.10.0)\n",
      "Requirement already satisfied: strands-agents-tools in /opt/conda/lib/python3.12/site-packages (0.2.0)\n",
      "Requirement already satisfied: boto3<2.0.0,>=1.26.0 in /opt/conda/lib/python3.12/site-packages (from strands-agents) (1.37.1)\n",
      "Requirement already satisfied: botocore<2.0.0,>=1.29.0 in /opt/conda/lib/python3.12/site-packages (from strands-agents) (1.37.1)\n",
      "Requirement already satisfied: docstring-parser<1.0,>=0.15 in /opt/conda/lib/python3.12/site-packages (from strands-agents) (0.17.0)\n",
      "Requirement already satisfied: mcp<2.0.0,>=1.11.0 in /opt/conda/lib/python3.12/site-packages (from strands-agents) (1.12.4)\n",
      "Requirement already satisfied: opentelemetry-api<2.0.0,>=1.30.0 in /opt/conda/lib/python3.12/site-packages (from strands-agents) (1.37.0)\n",
      "Requirement already satisfied: opentelemetry-instrumentation-threading<1.00b0,>=0.51b0 in /opt/conda/lib/python3.12/site-packages (from strands-agents) (0.58b0)\n",
      "Requirement already satisfied: opentelemetry-sdk<2.0.0,>=1.30.0 in /opt/conda/lib/python3.12/site-packages (from strands-agents) (1.37.0)\n",
      "Requirement already satisfied: pydantic<3.0.0,>=2.4.0 in /opt/conda/lib/python3.12/site-packages (from strands-agents) (2.11.7)\n",
      "Requirement already satisfied: typing-extensions<5.0.0,>=4.13.2 in /opt/conda/lib/python3.12/site-packages (from strands-agents) (4.14.1)\n",
      "Requirement already satisfied: watchdog<7.0.0,>=6.0.0 in /opt/conda/lib/python3.12/site-packages (from strands-agents) (6.0.0)\n",
      "Requirement already satisfied: jmespath<2.0.0,>=0.7.1 in /opt/conda/lib/python3.12/site-packages (from boto3<2.0.0,>=1.26.0->strands-agents) (1.0.1)\n",
      "Requirement already satisfied: s3transfer<0.12.0,>=0.11.0 in /opt/conda/lib/python3.12/site-packages (from boto3<2.0.0,>=1.26.0->strands-agents) (0.11.3)\n",
      "Requirement already satisfied: python-dateutil<3.0.0,>=2.1 in /opt/conda/lib/python3.12/site-packages (from botocore<2.0.0,>=1.29.0->strands-agents) (2.9.0.post0)\n",
      "Requirement already satisfied: urllib3!=2.2.0,<3,>=1.25.4 in /opt/conda/lib/python3.12/site-packages (from botocore<2.0.0,>=1.29.0->strands-agents) (1.26.19)\n",
      "Requirement already satisfied: anyio>=4.5 in /opt/conda/lib/python3.12/site-packages (from mcp<2.0.0,>=1.11.0->strands-agents) (4.10.0)\n",
      "Requirement already satisfied: httpx-sse>=0.4 in /opt/conda/lib/python3.12/site-packages (from mcp<2.0.0,>=1.11.0->strands-agents) (0.4.1)\n",
      "Requirement already satisfied: httpx>=0.27 in /opt/conda/lib/python3.12/site-packages (from mcp<2.0.0,>=1.11.0->strands-agents) (0.28.1)\n",
      "Requirement already satisfied: jsonschema>=4.20.0 in /opt/conda/lib/python3.12/site-packages (from mcp<2.0.0,>=1.11.0->strands-agents) (4.23.0)\n",
      "Requirement already satisfied: pydantic-settings>=2.5.2 in /opt/conda/lib/python3.12/site-packages (from mcp<2.0.0,>=1.11.0->strands-agents) (2.10.1)\n",
      "Requirement already satisfied: python-multipart>=0.0.9 in /opt/conda/lib/python3.12/site-packages (from mcp<2.0.0,>=1.11.0->strands-agents) (0.0.20)\n",
      "Requirement already satisfied: sse-starlette>=1.6.1 in /opt/conda/lib/python3.12/site-packages (from mcp<2.0.0,>=1.11.0->strands-agents) (3.0.2)\n",
      "Requirement already satisfied: starlette>=0.27 in /opt/conda/lib/python3.12/site-packages (from mcp<2.0.0,>=1.11.0->strands-agents) (0.47.2)\n",
      "Requirement already satisfied: uvicorn>=0.23.1 in /opt/conda/lib/python3.12/site-packages (from mcp<2.0.0,>=1.11.0->strands-agents) (0.35.0)\n",
      "Requirement already satisfied: importlib-metadata<8.8.0,>=6.0 in /opt/conda/lib/python3.12/site-packages (from opentelemetry-api<2.0.0,>=1.30.0->strands-agents) (6.10.0)\n",
      "Requirement already satisfied: zipp>=0.5 in /opt/conda/lib/python3.12/site-packages (from importlib-metadata<8.8.0,>=6.0->opentelemetry-api<2.0.0,>=1.30.0->strands-agents) (3.23.0)\n",
      "Requirement already satisfied: opentelemetry-instrumentation==0.58b0 in /opt/conda/lib/python3.12/site-packages (from opentelemetry-instrumentation-threading<1.00b0,>=0.51b0->strands-agents) (0.58b0)\n",
      "Requirement already satisfied: wrapt<2.0.0,>=1.0.0 in /opt/conda/lib/python3.12/site-packages (from opentelemetry-instrumentation-threading<1.00b0,>=0.51b0->strands-agents) (1.17.3)\n",
      "Requirement already satisfied: opentelemetry-semantic-conventions==0.58b0 in /opt/conda/lib/python3.12/site-packages (from opentelemetry-instrumentation==0.58b0->opentelemetry-instrumentation-threading<1.00b0,>=0.51b0->strands-agents) (0.58b0)\n",
      "Requirement already satisfied: packaging>=18.0 in /opt/conda/lib/python3.12/site-packages (from opentelemetry-instrumentation==0.58b0->opentelemetry-instrumentation-threading<1.00b0,>=0.51b0->strands-agents) (24.2)\n",
      "Requirement already satisfied: annotated-types>=0.6.0 in /opt/conda/lib/python3.12/site-packages (from pydantic<3.0.0,>=2.4.0->strands-agents) (0.7.0)\n",
      "Requirement already satisfied: pydantic-core==2.33.2 in /opt/conda/lib/python3.12/site-packages (from pydantic<3.0.0,>=2.4.0->strands-agents) (2.33.2)\n",
      "Requirement already satisfied: typing-inspection>=0.4.0 in /opt/conda/lib/python3.12/site-packages (from pydantic<3.0.0,>=2.4.0->strands-agents) (0.4.1)\n",
      "Requirement already satisfied: six>=1.5 in /opt/conda/lib/python3.12/site-packages (from python-dateutil<3.0.0,>=2.1->botocore<2.0.0,>=1.29.0->strands-agents) (1.17.0)\n",
      "Requirement already satisfied: aws-requests-auth<0.5.0,>=0.4.3 in /opt/conda/lib/python3.12/site-packages (from strands-agents-tools) (0.4.3)\n",
      "Requirement already satisfied: dill<0.5.0,>=0.4.0 in /opt/conda/lib/python3.12/site-packages (from strands-agents-tools) (0.4.0)\n",
      "Requirement already satisfied: markdownify<2.0.0,>=1.0.0 in /opt/conda/lib/python3.12/site-packages (from strands-agents-tools) (1.2.0)\n",
      "Requirement already satisfied: pillow<12.0.0,>=11.2.1 in /opt/conda/lib/python3.12/site-packages (from strands-agents-tools) (11.3.0)\n",
      "Requirement already satisfied: prompt-toolkit<4.0.0,>=3.0.51 in /opt/conda/lib/python3.12/site-packages (from strands-agents-tools) (3.0.51)\n",
      "Requirement already satisfied: pyjwt<3.0.0,>=2.10.1 in /opt/conda/lib/python3.12/site-packages (from strands-agents-tools) (2.10.1)\n",
      "Requirement already satisfied: readabilipy<1.0.0,>=0.2.0 in /opt/conda/lib/python3.12/site-packages (from strands-agents-tools) (0.3.0)\n",
      "Requirement already satisfied: rich<15.0.0,>=14.0.0 in /opt/conda/lib/python3.12/site-packages (from strands-agents-tools) (14.1.0)\n",
      "Requirement already satisfied: slack-bolt<2.0.0,>=1.23.0 in /opt/conda/lib/python3.12/site-packages (from strands-agents-tools) (1.25.0)\n",
      "Requirement already satisfied: sympy<2.0.0,>=1.12.0 in /opt/conda/lib/python3.12/site-packages (from strands-agents-tools) (1.14.0)\n",
      "Requirement already satisfied: tenacity<10.0.0,>=9.1.2 in /opt/conda/lib/python3.12/site-packages (from strands-agents-tools) (9.1.2)\n",
      "Requirement already satisfied: requests>=0.14.0 in /opt/conda/lib/python3.12/site-packages (from aws-requests-auth<0.5.0,>=0.4.3->strands-agents-tools) (2.32.4)\n",
      "Requirement already satisfied: beautifulsoup4<5,>=4.9 in /opt/conda/lib/python3.12/site-packages (from markdownify<2.0.0,>=1.0.0->strands-agents-tools) (4.13.4)\n",
      "Requirement already satisfied: soupsieve>1.2 in /opt/conda/lib/python3.12/site-packages (from beautifulsoup4<5,>=4.9->markdownify<2.0.0,>=1.0.0->strands-agents-tools) (2.7)\n",
      "Requirement already satisfied: wcwidth in /opt/conda/lib/python3.12/site-packages (from prompt-toolkit<4.0.0,>=3.0.51->strands-agents-tools) (0.2.13)\n",
      "Requirement already satisfied: html5lib in /opt/conda/lib/python3.12/site-packages (from readabilipy<1.0.0,>=0.2.0->strands-agents-tools) (1.1)\n",
      "Requirement already satisfied: lxml in /opt/conda/lib/python3.12/site-packages (from readabilipy<1.0.0,>=0.2.0->strands-agents-tools) (6.0.2)\n",
      "Requirement already satisfied: regex in /opt/conda/lib/python3.12/site-packages (from readabilipy<1.0.0,>=0.2.0->strands-agents-tools) (2025.7.34)\n",
      "Requirement already satisfied: markdown-it-py>=2.2.0 in /opt/conda/lib/python3.12/site-packages (from rich<15.0.0,>=14.0.0->strands-agents-tools) (4.0.0)\n",
      "Requirement already satisfied: pygments<3.0.0,>=2.13.0 in /opt/conda/lib/python3.12/site-packages (from rich<15.0.0,>=14.0.0->strands-agents-tools) (2.19.2)\n",
      "Requirement already satisfied: slack_sdk<4,>=3.35.0 in /opt/conda/lib/python3.12/site-packages (from slack-bolt<2.0.0,>=1.23.0->strands-agents-tools) (3.36.0)\n",
      "Requirement already satisfied: mpmath<1.4,>=1.1.0 in /opt/conda/lib/python3.12/site-packages (from sympy<2.0.0,>=1.12.0->strands-agents-tools) (1.3.0)\n",
      "Requirement already satisfied: idna>=2.8 in /opt/conda/lib/python3.12/site-packages (from anyio>=4.5->mcp<2.0.0,>=1.11.0->strands-agents) (3.10)\n",
      "Requirement already satisfied: sniffio>=1.1 in /opt/conda/lib/python3.12/site-packages (from anyio>=4.5->mcp<2.0.0,>=1.11.0->strands-agents) (1.3.1)\n",
      "Requirement already satisfied: certifi in /opt/conda/lib/python3.12/site-packages (from httpx>=0.27->mcp<2.0.0,>=1.11.0->strands-agents) (2025.8.3)\n",
      "Requirement already satisfied: httpcore==1.* in /opt/conda/lib/python3.12/site-packages (from httpx>=0.27->mcp<2.0.0,>=1.11.0->strands-agents) (1.0.9)\n",
      "Requirement already satisfied: h11>=0.16 in /opt/conda/lib/python3.12/site-packages (from httpcore==1.*->httpx>=0.27->mcp<2.0.0,>=1.11.0->strands-agents) (0.16.0)\n",
      "Requirement already satisfied: attrs>=22.2.0 in /opt/conda/lib/python3.12/site-packages (from jsonschema>=4.20.0->mcp<2.0.0,>=1.11.0->strands-agents) (23.2.0)\n",
      "Requirement already satisfied: jsonschema-specifications>=2023.03.6 in /opt/conda/lib/python3.12/site-packages (from jsonschema>=4.20.0->mcp<2.0.0,>=1.11.0->strands-agents) (2025.4.1)\n",
      "Requirement already satisfied: referencing>=0.28.4 in /opt/conda/lib/python3.12/site-packages (from jsonschema>=4.20.0->mcp<2.0.0,>=1.11.0->strands-agents) (0.36.2)\n",
      "Requirement already satisfied: rpds-py>=0.7.1 in /opt/conda/lib/python3.12/site-packages (from jsonschema>=4.20.0->mcp<2.0.0,>=1.11.0->strands-agents) (0.27.0)\n",
      "Requirement already satisfied: mdurl~=0.1 in /opt/conda/lib/python3.12/site-packages (from markdown-it-py>=2.2.0->rich<15.0.0,>=14.0.0->strands-agents-tools) (0.1.2)\n",
      "Requirement already satisfied: python-dotenv>=0.21.0 in /opt/conda/lib/python3.12/site-packages (from pydantic-settings>=2.5.2->mcp<2.0.0,>=1.11.0->strands-agents) (1.1.1)\n",
      "Requirement already satisfied: charset_normalizer<4,>=2 in /opt/conda/lib/python3.12/site-packages (from requests>=0.14.0->aws-requests-auth<0.5.0,>=0.4.3->strands-agents-tools) (3.4.3)\n",
      "Requirement already satisfied: click>=7.0 in /opt/conda/lib/python3.12/site-packages (from uvicorn>=0.23.1->mcp<2.0.0,>=1.11.0->strands-agents) (8.2.1)\n",
      "Requirement already satisfied: webencodings in /opt/conda/lib/python3.12/site-packages (from html5lib->readabilipy<1.0.0,>=0.2.0->strands-agents-tools) (0.5.1)\n"
     ]
    }
   ],
   "source": [
    "# pip를 사용하여 Strands 설치\n",
    "\n",
    "!pip install strands-agents strands-agents-tools"
   ]
  },
  {
   "cell_type": "markdown",
   "id": "79a45632",
   "metadata": {
    "vscode": {
     "languageId": "plaintext"
    }
   },
   "source": [
    "\n",
    "## 첫 번째 에이전트 만들기\n",
    "\n",
    "필요한 에이전트 구성 요소에 대한 개요를 살펴보겠습니다.\n",
    "\n",
    "### 1. 간단한 에이전트 만들기:\n",
    "\n",
    "이것은 기본 모델 제공자인 [Amazon Bedrock](https://aws.amazon.com/bedrock/)과 기본 모델인 Claude 3.7 Sonnet을 AWS 설정 지역에서 사용하는 에이전트를 만듭니다. 에이전트는 호출되는 것과 동일한 로컬 환경에서 실행되지만, Amazon Bedrock 모델은 AWS 계정에서 실행되고 에이전트는 클라우드 계정의 모델을 호출합니다. 아키텍처는 다음과 같습니다:\n",
    "\n",
    "<div style=\"text-align:center\">\n",
    "    <img src=\"images/simple_agent.png\" width=\"75%\" />\n",
    "</div>"
   ]
  },
  {
   "cell_type": "code",
   "execution_count": 2,
   "id": "8d549346",
   "metadata": {
    "execution": {
     "iopub.execute_input": "2025-10-01T23:27:04.270125Z",
     "iopub.status.busy": "2025-10-01T23:27:04.269858Z",
     "iopub.status.idle": "2025-10-01T23:27:06.601992Z",
     "shell.execute_reply": "2025-10-01T23:27:06.601499Z",
     "shell.execute_reply.started": "2025-10-01T23:27:04.270098Z"
    }
   },
   "outputs": [
    {
     "name": "stdout",
     "output_type": "stream",
     "text": [
      "네, 오늘의 Strands Agent 워크샵은 재미있을 것 같습니다. 새로운 기술과 아이디어를 배우고 다른 참가자들과 교류할 좋은 기회가 될 것입니다."
     ]
    }
   ],
   "source": [
    "import warnings\n",
    "warnings.filterwarnings(action=\"ignore\", message=r\"datetime.datetime.utcnow\") \n",
    "\n",
    "from strands import Agent\n",
    "# 에이전트 초기화\n",
    "agent = Agent(\n",
    "    model=\"us.anthropic.claude-3-7-sonnet-20250219-v1:0\",  # 선택사항: 모델 ID 지정\n",
    "    system_prompt=\"당신은 간결한 응답을 제공하는 도움이 되는 어시스턴트입니다.\"\n",
    ")\n",
    "\n",
    "# 에이전트에게 메시지 보내기\n",
    "response = agent(\"오늘 strands agent workshop이 재미있을까?\")"
   ]
  },
  {
   "cell_type": "markdown",
   "id": "cc305d76",
   "metadata": {},
   "source": [
    "### 2. 에이전트에 도구 추가하기:\n",
    "\n",
    "[strands-agents-tools](https://github.com/strands-agents/tools) 저장소는 가져올 수 있는 내장 도구들을 제공합니다. `@tool` 데코레이터를 사용하여 사용자 정의 도구를 만들 수도 있습니다. 내장 도구와 사용자 정의 도구를 가진 에이전트를 만들 수 있습니다. 예를 들어, 계산기의 내장 도구와 날씨를 가져오는 사용자 정의 도구를 추가하면 다음과 같은 아키텍처를 얻습니다:\n",
    "<div style=\"text-align:center\">\n",
    "    <img src=\"images/agent_with_tools.png\" width=\"75%\" />\n",
    "</div>\n",
    "\n",
    "이 아키텍처를 구현하면 다음과 같습니다:"
   ]
  },
  {
   "cell_type": "code",
   "execution_count": 3,
   "id": "c84d9466",
   "metadata": {
    "execution": {
     "iopub.execute_input": "2025-10-01T23:27:14.371768Z",
     "iopub.status.busy": "2025-10-01T23:27:14.371446Z",
     "iopub.status.idle": "2025-10-01T23:27:18.542166Z",
     "shell.execute_reply": "2025-10-01T23:27:18.541627Z",
     "shell.execute_reply.started": "2025-10-01T23:27:14.371748Z"
    }
   },
   "outputs": [
    {
     "name": "stdout",
     "output_type": "stream",
     "text": [
      "오늘 날씨에 대한 정보를 확인해드리겠습니다. 날씨 정보를 가져오겠습니다.\n",
      "Tool #1: weather\n",
      "오늘 날씨는 맑습니다. 좋은 하루 보내세요!오늘 날씨는 맑습니다. 좋은 하루 보내세요!\n",
      "\n"
     ]
    }
   ],
   "source": [
    "from strands import Agent, tool\n",
    "from strands_tools import calculator # 계산기 도구 가져오기\n",
    "\n",
    "# 사용자 정의 도구 만들기\n",
    "@tool\n",
    "def weather():\n",
    "    \"\"\" 날씨 가져오기 \"\"\" # 더미 구현\n",
    "    return \"맑음\"\n",
    "\n",
    "agent = Agent(\n",
    "    model=\"us.anthropic.claude-3-7-sonnet-20250219-v1:0\",  # 선택사항: 모델 ID 지정\n",
    "    tools=[calculator, weather],\n",
    "    system_prompt=\"당신은 도움이 되는 어시스턴트입니다. 간단한 수학 계산을 할 수 있고, 날씨를 알려줄 수 있습니다.\")\n",
    "\n",
    "response = agent(\"오늘 날씨는 어떤가요?\")\n",
    "print(response)"
   ]
  },
  {
   "cell_type": "markdown",
   "id": "c96537ad-a5af-49d9-aaff-c9101ae31e73",
   "metadata": {},
   "source": [
    "### 도구 직접 호출하기\n",
    "\n",
    "일부 애플리케이션에서는 도구를 직접 호출하는 것이 중요합니다. 예를 들어, 도구를 디버그하거나, 고객 정보로 에이전트 지식을 미리 채우거나, 다른 도구 내에서 도구를 사용하고 싶을 수 있습니다. Strands에서는 에이전트의 ``tool`` 메서드 다음에 도구 이름을 사용하여 이를 수행할 수 있습니다."
   ]
  },
  {
   "cell_type": "code",
   "execution_count": 4,
   "id": "7743fe69",
   "metadata": {
    "execution": {
     "iopub.execute_input": "2025-10-01T23:27:21.230847Z",
     "iopub.status.busy": "2025-10-01T23:27:21.230514Z",
     "iopub.status.idle": "2025-10-01T23:27:21.247264Z",
     "shell.execute_reply": "2025-10-01T23:27:21.246862Z",
     "shell.execute_reply.started": "2025-10-01T23:27:21.230826Z"
    }
   },
   "outputs": [
    {
     "data": {
      "text/html": [
       "<pre style=\"white-space:pre;overflow-x:auto;line-height:normal;font-family:Menlo,'DejaVu Sans Mono',consolas,'Courier New',monospace\"><span style=\"color: #000080; text-decoration-color: #000080\">╭────────────────────────────────────────────── </span><span style=\"color: #000080; text-decoration-color: #000080; font-weight: bold\">Calculation Result</span><span style=\"color: #000080; text-decoration-color: #000080\"> ───────────────────────────────────────────────╮</span>\n",
       "<span style=\"color: #000080; text-decoration-color: #000080\">│</span>                                                                                                                 <span style=\"color: #000080; text-decoration-color: #000080\">│</span>\n",
       "<span style=\"color: #000080; text-decoration-color: #000080\">│</span>  ╭─────────────────┬───────────────────────────╮                                                                <span style=\"color: #000080; text-decoration-color: #000080\">│</span>\n",
       "<span style=\"color: #000080; text-decoration-color: #000080\">│</span>  │<span style=\"color: #008080; text-decoration-color: #008080\"> Operation       </span>│<span style=\"color: #008000; text-decoration-color: #008000\"> Calculate 2-th Derivative </span>│                                                                <span style=\"color: #000080; text-decoration-color: #000080\">│</span>\n",
       "<span style=\"color: #000080; text-decoration-color: #000080\">│</span>  │<span style=\"color: #008080; text-decoration-color: #008080\"> Input           </span>│<span style=\"color: #008000; text-decoration-color: #008000\"> sin(x)                    </span>│                                                                <span style=\"color: #000080; text-decoration-color: #000080\">│</span>\n",
       "<span style=\"color: #000080; text-decoration-color: #000080\">│</span>  │<span style=\"color: #008080; text-decoration-color: #008080\"> Result          </span>│<span style=\"color: #008000; text-decoration-color: #008000\"> -sin(x)                   </span>│                                                                <span style=\"color: #000080; text-decoration-color: #000080\">│</span>\n",
       "<span style=\"color: #000080; text-decoration-color: #000080\">│</span>  │<span style=\"color: #008080; text-decoration-color: #008080\"> With respect to </span>│<span style=\"color: #008000; text-decoration-color: #008000\"> x                         </span>│                                                                <span style=\"color: #000080; text-decoration-color: #000080\">│</span>\n",
       "<span style=\"color: #000080; text-decoration-color: #000080\">│</span>  ╰─────────────────┴───────────────────────────╯                                                                <span style=\"color: #000080; text-decoration-color: #000080\">│</span>\n",
       "<span style=\"color: #000080; text-decoration-color: #000080\">│</span>                                                                                                                 <span style=\"color: #000080; text-decoration-color: #000080\">│</span>\n",
       "<span style=\"color: #000080; text-decoration-color: #000080\">╰─────────────────────────────────────────────────────────────────────────────────────────────────────────────────╯</span>\n",
       "</pre>\n"
      ],
      "text/plain": [
       "\u001b[34m╭─\u001b[0m\u001b[34m─────────────────────────────────────────────\u001b[0m\u001b[34m \u001b[0m\u001b[1;34mCalculation Result\u001b[0m\u001b[34m \u001b[0m\u001b[34m──────────────────────────────────────────────\u001b[0m\u001b[34m─╮\u001b[0m\n",
       "\u001b[34m│\u001b[0m                                                                                                                 \u001b[34m│\u001b[0m\n",
       "\u001b[34m│\u001b[0m  ╭─────────────────┬───────────────────────────╮                                                                \u001b[34m│\u001b[0m\n",
       "\u001b[34m│\u001b[0m  │\u001b[36m \u001b[0m\u001b[36mOperation      \u001b[0m\u001b[36m \u001b[0m│\u001b[32m \u001b[0m\u001b[32mCalculate 2-th Derivative\u001b[0m\u001b[32m \u001b[0m│                                                                \u001b[34m│\u001b[0m\n",
       "\u001b[34m│\u001b[0m  │\u001b[36m \u001b[0m\u001b[36mInput          \u001b[0m\u001b[36m \u001b[0m│\u001b[32m \u001b[0m\u001b[32msin(x)                   \u001b[0m\u001b[32m \u001b[0m│                                                                \u001b[34m│\u001b[0m\n",
       "\u001b[34m│\u001b[0m  │\u001b[36m \u001b[0m\u001b[36mResult         \u001b[0m\u001b[36m \u001b[0m│\u001b[32m \u001b[0m\u001b[32m-sin(x)                  \u001b[0m\u001b[32m \u001b[0m│                                                                \u001b[34m│\u001b[0m\n",
       "\u001b[34m│\u001b[0m  │\u001b[36m \u001b[0m\u001b[36mWith respect to\u001b[0m\u001b[36m \u001b[0m│\u001b[32m \u001b[0m\u001b[32mx                        \u001b[0m\u001b[32m \u001b[0m│                                                                \u001b[34m│\u001b[0m\n",
       "\u001b[34m│\u001b[0m  ╰─────────────────┴───────────────────────────╯                                                                \u001b[34m│\u001b[0m\n",
       "\u001b[34m│\u001b[0m                                                                                                                 \u001b[34m│\u001b[0m\n",
       "\u001b[34m╰─────────────────────────────────────────────────────────────────────────────────────────────────────────────────╯\u001b[0m\n"
      ]
     },
     "metadata": {},
     "output_type": "display_data"
    },
    {
     "data": {
      "text/plain": [
       "{'status': 'success',\n",
       " 'content': [{'text': 'Result: -sin(x)'}],\n",
       " 'toolUseId': 'tooluse_calculator_390466580'}"
      ]
     },
     "execution_count": 4,
     "metadata": {},
     "output_type": "execute_result"
    }
   ],
   "source": [
    "# 또는 다음과 같이 도구를 직접 호출할 수 있습니다:\n",
    "agent.tool.calculator(expression=\"sin(x)\", mode=\"derive\", wrt=\"x\", order=2)"
   ]
  },
  {
   "cell_type": "markdown",
   "id": "1f6bceed",
   "metadata": {},
   "source": [
    "\n",
    "### 3. 로그 레벨과 형식 변경하기:\n",
    "\n",
    "Strands SDK는 Python의 표준 `logging` 모듈을 사용하여 작업에 대한 가시성을 제공합니다.\n",
    "\n",
    "Strands Agents SDK는 간단한 로깅 접근 방식을 구현합니다:\n",
    "\n",
    "1. **모듈 레벨 로거**: SDK의 각 모듈은 logging.getLogger(__name__)을 사용하여 자체 로거를 만들며, 계층적 로깅을 위한 Python 모범 사례를 따릅니다.\n",
    "2. **루트 로거**: SDK의 모든 로거는 \"strands\" 루트 로거의 자식이므로 전체 SDK에 대한 로깅을 쉽게 구성할 수 있습니다.\n",
    "3. **기본 동작**: 기본적으로 SDK는 핸들러나 로그 레벨을 구성하지 않으므로 애플리케이션의 로깅 구성과 통합할 수 있습니다.\n",
    "\n",
    "Strands Agents SDK에 대한 로깅을 활성화하려면 **\"strands\"** 로거를 구성할 수 있습니다. 디버깅 중에 로그 레벨을 변경하거나 로그 형식을 수정하려면 다음과 같이 로거 구성을 설정할 수 있습니다:"
   ]
  },
  {
   "cell_type": "code",
   "execution_count": 5,
   "id": "66415155",
   "metadata": {
    "execution": {
     "iopub.execute_input": "2025-10-01T23:27:24.007264Z",
     "iopub.status.busy": "2025-10-01T23:27:24.007013Z",
     "iopub.status.idle": "2025-10-01T23:27:25.440846Z",
     "shell.execute_reply": "2025-10-01T23:27:25.440353Z",
     "shell.execute_reply.started": "2025-10-01T23:27:24.007244Z"
    }
   },
   "outputs": [
    {
     "name": "stderr",
     "output_type": "stream",
     "text": [
      "DEBUG | strands.models.bedrock | config=<{'model_id': 'us.anthropic.claude-3-7-sonnet-20250219-v1:0', 'include_tool_result_status': 'auto'}> | initializing\n",
      "DEBUG | strands.models.bedrock | region=<us-west-2> | bedrock client created\n",
      "DEBUG | strands.tools.registry | tools_dir=</home/sagemaker-user/2025-strands-ggent-workshop/01-strands를 이용한 첫 agent 만들기/tools> | tools directory not found\n",
      "DEBUG | strands.tools.registry | tool_modules=<[]> | discovered\n",
      "DEBUG | strands.tools.registry | tool_count=<0>, success_count=<0> | finished loading tools\n",
      "DEBUG | strands.tools.registry | getting tool configurations\n",
      "DEBUG | strands.tools.registry | tool_count=<0> | tools configured\n",
      "DEBUG | strands.tools.registry | getting tool configurations\n",
      "DEBUG | strands.tools.registry | tool_count=<0> | tools configured\n",
      "DEBUG | strands.event_loop.streaming | model=<<strands.models.bedrock.BedrockModel object at 0x7fcdb1b7f590>> | streaming messages\n",
      "DEBUG | strands.models.bedrock | formatting request\n",
      "DEBUG | strands.models.bedrock | request=<{'modelId': 'us.anthropic.claude-3-7-sonnet-20250219-v1:0', 'messages': [{'content': [{'text': '안녕하세요!'}], 'role': 'user'}], 'system': [], 'inferenceConfig': {}}>\n",
      "DEBUG | strands.models.bedrock | invoking model\n",
      "DEBUG | strands.models.bedrock | got response from model\n"
     ]
    },
    {
     "name": "stdout",
     "output_type": "stream",
     "text": [
      "안녕하세요! 무엇을 도와드릴까요? 질문이 있으시거나 도움이 필요하신 것이 있으면 말씀"
     ]
    },
    {
     "name": "stderr",
     "output_type": "stream",
     "text": [
      "DEBUG | strands.models.bedrock | finished streaming response from model\n",
      "DEBUG | strands.agent.conversation_manager.sliding_window_conversation_manager | message_count=<2>, window_size=<40> | skipping context reduction\n"
     ]
    },
    {
     "name": "stdout",
     "output_type": "stream",
     "text": [
      "해 주세요."
     ]
    },
    {
     "data": {
      "text/plain": [
       "AgentResult(stop_reason='end_turn', message={'role': 'assistant', 'content': [{'text': '안녕하세요! 무엇을 도와드릴까요? 질문이 있으시거나 도움이 필요하신 것이 있으면 말씀해 주세요.'}]}, metrics=EventLoopMetrics(cycle_count=1, tool_metrics={}, cycle_durations=[1.370363712310791], traces=[<strands.telemetry.metrics.Trace object at 0x7fcdb28f4950>], accumulated_usage={'inputTokens': 15, 'outputTokens': 61, 'totalTokens': 76}, accumulated_metrics={'latencyMs': 1348}), state={})"
      ]
     },
     "execution_count": 5,
     "metadata": {},
     "output_type": "execute_result"
    }
   ],
   "source": [
    "import logging\n",
    "from strands import Agent\n",
    "\n",
    "# Strands 디버그 로그 레벨 활성화\n",
    "logging.getLogger(\"strands\").setLevel(logging.DEBUG) # 또는 logging.INFO\n",
    "\n",
    "# 로깅 형식을 설정하고 로그를 stderr로 스트림\n",
    "logging.basicConfig(\n",
    "    format=\"%(levelname)s | %(name)s | %(message)s\",\n",
    "    handlers=[logging.StreamHandler()]\n",
    ")\n",
    "\n",
    "agent = Agent(model=\"us.anthropic.claude-3-7-sonnet-20250219-v1:0\")  # 선택사항: 모델 ID 지정\n",
    "agent(\"안녕하세요!\")"
   ]
  },
  {
   "cell_type": "markdown",
   "id": "7c5ddfed",
   "metadata": {},
   "source": [
    "\n",
    "### 4. 모델 제공자\n",
    "\n",
    "기본 모델 제공자는 [Amazon Bedrock](https://aws.amazon.com/bedrock/)이고 기본 모델은 현재 AWS 환경 지역의 Claude 3.7 Sonnet입니다.\n",
    "\n",
    "모델 ID 문자열을 직접 제공하여 Amazon Bedrock에서 다른 모델을 지정할 수 있습니다:"
   ]
  },
  {
   "cell_type": "code",
   "execution_count": 6,
   "id": "207432b2",
   "metadata": {
    "execution": {
     "iopub.execute_input": "2025-10-01T23:27:28.246350Z",
     "iopub.status.busy": "2025-10-01T23:27:28.246093Z",
     "iopub.status.idle": "2025-10-01T23:27:28.312719Z",
     "shell.execute_reply": "2025-10-01T23:27:28.312267Z",
     "shell.execute_reply.started": "2025-10-01T23:27:28.246330Z"
    }
   },
   "outputs": [
    {
     "name": "stderr",
     "output_type": "stream",
     "text": [
      "DEBUG | strands.models.bedrock | config=<{'model_id': 'anthropic.claude-3-5-haiku-20241022-v1:0', 'include_tool_result_status': 'auto'}> | initializing\n",
      "DEBUG | strands.models.bedrock | region=<us-west-2> | bedrock client created\n",
      "DEBUG | strands.tools.registry | tools_dir=</home/sagemaker-user/2025-strands-ggent-workshop/01-strands를 이용한 첫 agent 만들기/tools> | tools directory not found\n",
      "DEBUG | strands.tools.registry | tool_modules=<[]> | discovered\n",
      "DEBUG | strands.tools.registry | tool_count=<0>, success_count=<0> | finished loading tools\n"
     ]
    },
    {
     "name": "stdout",
     "output_type": "stream",
     "text": [
      "{'model_id': 'anthropic.claude-3-5-haiku-20241022-v1:0', 'include_tool_result_status': 'auto'}\n"
     ]
    }
   ],
   "source": [
    "from strands import Agent\n",
    "\n",
    "agent = Agent(model=\"anthropic.claude-3-5-haiku-20241022-v1:0\")\n",
    "print(agent.model.config)"
   ]
  },
  {
   "cell_type": "markdown",
   "id": "88b79bb2",
   "metadata": {},
   "source": [
    "\n",
    "모델 구성에 대한 더 많은 제어를 위해 `BedrockModel` 제공자 인스턴스를 만들 수 있습니다:"
   ]
  },
  {
   "cell_type": "code",
   "execution_count": 7,
   "id": "13767dd5",
   "metadata": {
    "execution": {
     "iopub.execute_input": "2025-10-01T23:27:31.149086Z",
     "iopub.status.busy": "2025-10-01T23:27:31.148829Z",
     "iopub.status.idle": "2025-10-01T23:27:31.207118Z",
     "shell.execute_reply": "2025-10-01T23:27:31.206641Z",
     "shell.execute_reply.started": "2025-10-01T23:27:31.149066Z"
    }
   },
   "outputs": [
    {
     "name": "stderr",
     "output_type": "stream",
     "text": [
      "DEBUG | strands.models.bedrock | config=<{'model_id': 'anthropic.claude-3-5-haiku-20241022-v1:0', 'include_tool_result_status': 'auto', 'temperature': 0.3}> | initializing\n",
      "DEBUG | strands.models.bedrock | region=<us-west-2> | bedrock client created\n",
      "DEBUG | strands.tools.registry | tools_dir=</home/sagemaker-user/2025-strands-ggent-workshop/01-strands를 이용한 첫 agent 만들기/tools> | tools directory not found\n",
      "DEBUG | strands.tools.registry | tool_modules=<[]> | discovered\n",
      "DEBUG | strands.tools.registry | tool_count=<0>, success_count=<0> | finished loading tools\n"
     ]
    }
   ],
   "source": [
    "import boto3\n",
    "from strands import Agent\n",
    "from strands.models import BedrockModel\n",
    "\n",
    "# BedrockModel 만들기\n",
    "bedrock_model = BedrockModel(\n",
    "    model_id=\"anthropic.claude-3-5-haiku-20241022-v1:0\",\n",
    "    region_name='us-west-2',\n",
    "    temperature=0.3,\n",
    ")\n",
    "\n",
    "agent = Agent(model=bedrock_model)"
   ]
  },
  {
   "cell_type": "markdown",
   "id": "538e5e20",
   "metadata": {},
   "source": [
    "\n",
    "사용 가능한 모델 제공자에 대한 자세한 내용은 [모델 제공자 빠른 시작 페이지](https://strandsagents.com/0.1.x/user-guide/quickstart/#model-providers)를 참조하세요.\n"
   ]
  },
  {
   "cell_type": "markdown",
   "id": "037ba1d7",
   "metadata": {},
   "source": [
    "**축하합니다!! 이제 Strands를 사용하여 간단한 에이전트를 구축하는 방법을 배웠습니다!!**"
   ]
  },
  {
   "cell_type": "markdown",
   "id": "8ad2d9c3",
   "metadata": {},
   "source": [
    "## [선택사항] 작업별 에이전트 구축하기 - RecipeBot 🍽️\n",
    "\n",
    "작업별 에이전트의 실용적인 예제를 만들어보겠습니다. 레시피를 추천하고 요리 관련 질문에 답하는 `RecipeBot`을 만들어보겠습니다. 시작해봅시다!!\n",
    "\n",
    "우리가 만들 것은 다음과 같습니다:"
   ]
  },
  {
   "cell_type": "markdown",
   "id": "bff74b3f",
   "metadata": {},
   "source": [
    "<div style=\"text-align:center\">\n",
    "    <img src=\"images/interactive_recipe_agent.png\" width=\"75%\" />\n",
    "</div>"
   ]
  },
  {
   "cell_type": "code",
   "execution_count": 8,
   "id": "c4d5761c",
   "metadata": {
    "execution": {
     "iopub.execute_input": "2025-10-01T23:27:39.235195Z",
     "iopub.status.busy": "2025-10-01T23:27:39.234936Z",
     "iopub.status.idle": "2025-10-01T23:27:40.688787Z",
     "shell.execute_reply": "2025-10-01T23:27:40.688052Z",
     "shell.execute_reply.started": "2025-10-01T23:27:39.235175Z"
    }
   },
   "outputs": [
    {
     "name": "stdout",
     "output_type": "stream",
     "text": [
      "Requirement already satisfied: ddgs in /opt/conda/lib/python3.12/site-packages (9.6.0)\n",
      "Requirement already satisfied: click>=8.1.8 in /opt/conda/lib/python3.12/site-packages (from ddgs) (8.2.1)\n",
      "Requirement already satisfied: primp>=0.15.0 in /opt/conda/lib/python3.12/site-packages (from ddgs) (0.15.0)\n",
      "Requirement already satisfied: lxml>=6.0.0 in /opt/conda/lib/python3.12/site-packages (from ddgs) (6.0.2)\n",
      "Requirement already satisfied: httpx>=0.28.1 in /opt/conda/lib/python3.12/site-packages (from httpx[brotli,http2,socks]>=0.28.1->ddgs) (0.28.1)\n",
      "Requirement already satisfied: anyio in /opt/conda/lib/python3.12/site-packages (from httpx>=0.28.1->httpx[brotli,http2,socks]>=0.28.1->ddgs) (4.10.0)\n",
      "Requirement already satisfied: certifi in /opt/conda/lib/python3.12/site-packages (from httpx>=0.28.1->httpx[brotli,http2,socks]>=0.28.1->ddgs) (2025.8.3)\n",
      "Requirement already satisfied: httpcore==1.* in /opt/conda/lib/python3.12/site-packages (from httpx>=0.28.1->httpx[brotli,http2,socks]>=0.28.1->ddgs) (1.0.9)\n",
      "Requirement already satisfied: idna in /opt/conda/lib/python3.12/site-packages (from httpx>=0.28.1->httpx[brotli,http2,socks]>=0.28.1->ddgs) (3.10)\n",
      "Requirement already satisfied: h11>=0.16 in /opt/conda/lib/python3.12/site-packages (from httpcore==1.*->httpx>=0.28.1->httpx[brotli,http2,socks]>=0.28.1->ddgs) (0.16.0)\n",
      "Requirement already satisfied: brotli in /opt/conda/lib/python3.12/site-packages (from httpx[brotli,http2,socks]>=0.28.1->ddgs) (1.1.0)\n",
      "Requirement already satisfied: h2<5,>=3 in /opt/conda/lib/python3.12/site-packages (from httpx[brotli,http2,socks]>=0.28.1->ddgs) (4.2.0)\n",
      "Requirement already satisfied: socksio==1.* in /opt/conda/lib/python3.12/site-packages (from httpx[brotli,http2,socks]>=0.28.1->ddgs) (1.0.0)\n",
      "Requirement already satisfied: hyperframe<7,>=6.1 in /opt/conda/lib/python3.12/site-packages (from h2<5,>=3->httpx[brotli,http2,socks]>=0.28.1->ddgs) (6.1.0)\n",
      "Requirement already satisfied: hpack<5,>=4.1 in /opt/conda/lib/python3.12/site-packages (from h2<5,>=3->httpx[brotli,http2,socks]>=0.28.1->ddgs) (4.1.0)\n",
      "Requirement already satisfied: sniffio>=1.1 in /opt/conda/lib/python3.12/site-packages (from anyio->httpx>=0.28.1->httpx[brotli,http2,socks]>=0.28.1->ddgs) (1.3.1)\n",
      "Requirement already satisfied: typing_extensions>=4.5 in /opt/conda/lib/python3.12/site-packages (from anyio->httpx>=0.28.1->httpx[brotli,http2,socks]>=0.28.1->ddgs) (4.14.1)\n",
      "Note: you may need to restart the kernel to use updated packages.\n"
     ]
    }
   ],
   "source": [
    "# 필요한 패키지 설치\n",
    "%pip install ddgs # 아직 설치하지 않았다면 strands-agents strands-agents-tools도 설치하세요"
   ]
  },
  {
   "cell_type": "code",
   "execution_count": 9,
   "id": "580312ca",
   "metadata": {
    "execution": {
     "iopub.execute_input": "2025-10-01T23:27:42.843248Z",
     "iopub.status.busy": "2025-10-01T23:27:42.842970Z",
     "iopub.status.idle": "2025-10-01T23:27:42.970596Z",
     "shell.execute_reply": "2025-10-01T23:27:42.970094Z",
     "shell.execute_reply.started": "2025-10-01T23:27:42.843223Z"
    }
   },
   "outputs": [],
   "source": [
    "from strands import Agent, tool\n",
    "from ddgs import DDGS\n",
    "from ddgs.exceptions import RatelimitException, DDGSException\n",
    "import logging\n",
    "\n",
    "# 로깅 구성\n",
    "logging.getLogger(\"strands\").setLevel(logging.INFO)\n",
    "\n",
    "# 웹 검색 도구 정의\n",
    "@tool\n",
    "def websearch(keywords: str, region: str = \"us-en\", max_results: int | None = None) -> str:\n",
    "    \"\"\"웹을 검색하여 최신 정보를 가져옵니다.\n",
    "    Args:\n",
    "        keywords (str): 검색 쿼리 키워드.\n",
    "        region (str): 검색 지역: wt-wt, us-en, uk-en, ru-ru 등..\n",
    "        max_results (int | None): 반환할 최대 결과 수.\n",
    "    Returns:\n",
    "        검색 결과가 포함된 딕셔너리 목록.\n",
    "    \"\"\"\n",
    "    try:\n",
    "        results = DDGS().text(keywords, region=region, max_results=max_results)\n",
    "        return results if results else \"결과를 찾을 수 없습니다.\"\n",
    "    except RatelimitException:\n",
    "        return \"RatelimitException: 잠시 후 다시 시도해주세요.\"\n",
    "    except DDGSException as d:\n",
    "        return f\"DuckDuckGoSearchException: {d}\"\n",
    "    except Exception as e:\n",
    "        return f\"Exception: {e}\"\n"
   ]
  },
  {
   "cell_type": "code",
   "execution_count": 10,
   "id": "0560c754",
   "metadata": {
    "execution": {
     "iopub.execute_input": "2025-10-01T23:27:46.041908Z",
     "iopub.status.busy": "2025-10-01T23:27:46.041525Z",
     "iopub.status.idle": "2025-10-01T23:27:46.100189Z",
     "shell.execute_reply": "2025-10-01T23:27:46.099658Z",
     "shell.execute_reply.started": "2025-10-01T23:27:46.041886Z"
    }
   },
   "outputs": [],
   "source": [
    "# 레시피 어시스턴트 에이전트 만들기\n",
    "recipe_agent = Agent(\n",
    "    model=\"us.anthropic.claude-3-7-sonnet-20250219-v1:0\",  # 선택사항: 모델 ID 지정\n",
    "    system_prompt=\"\"\"당신은 도움이 되는 요리 어시스턴트인 RecipeBot입니다.\n",
    "    재료를 기반으로 레시피를 찾고 요리 질문에 답해주세요.\n",
    "    사용자가 재료를 언급하거나 요리 정보를 찾을 때 웹 검색 도구를 사용하여\n",
    "    레시피를 찾아주세요.\"\"\",\n",
    "    # 위에서 만든 웹 검색 도구 가져오기\n",
    "    tools=[websearch],\n",
    ")"
   ]
  },
  {
   "cell_type": "code",
   "execution_count": 11,
   "id": "6a6dafb2",
   "metadata": {
    "execution": {
     "iopub.execute_input": "2025-10-01T23:27:47.331149Z",
     "iopub.status.busy": "2025-10-01T23:27:47.330893Z",
     "iopub.status.idle": "2025-10-01T23:28:18.137907Z",
     "shell.execute_reply": "2025-10-01T23:28:18.137373Z",
     "shell.execute_reply.started": "2025-10-01T23:27:47.331130Z"
    }
   },
   "outputs": [
    {
     "name": "stdout",
     "output_type": "stream",
     "text": [
      "안녕하세요! 닭고기와 브로콜리를 활용한 레시피를 찾아드리겠습니다. 두 재료는 함께 사용하면 영양가 높고 맛있는 요리가 될 수 있어요. 웹에서 관련 레시피를 검색해보겠습니다.\n",
      "Tool #1: websearch\n",
      "검색 결과를 바탕으로 닭고기와 브로콜리를 활용한 다양한 레시피를 소개해드리겠습니다:\n",
      "\n",
      "## 1. 닭고기 브로콜리 볶음\n",
      "간단하면서도 맛있는 닭고기 브로콜리 볶음은 가장 인기 있는 조합입니다.\n",
      "\n",
      "**재료:**\n",
      "- 닭고기 (가슴살이나 안심)\n",
      "- 브로콜리\n",
      "- 양파\n",
      "- 버섯 (선택)\n",
      "- 간장, 설탕, 다진 마늘, 참기름 등 양념\n",
      "\n",
      "**조리 방법:**\n",
      "1. 닭고기는 먹기 좋은 크기로 자르고, 브로콜리는 작은 송이로 나눠줍니다.\n",
      "2. 브로콜리는 살짝 데쳐 준비합니다.\n",
      "3. 팬에 기름을 두르고 다진 마늘을 볶다가 닭고기를 넣고 익힙니다.\n",
      "4. 닭고기가 거의 익으면 브로콜리와 양파, 버섯 등 다른 채소를 넣고 볶습니다.\n",
      "5. 간장, 설탕 등으로 간을 하고 참기름을 넣어 마무리합니다.\n",
      "\n",
      "## 2. 닭고기 브로콜리 리조또\n",
      "보다 크리미한 맛을 원한다면 리조또가 좋은 선택입니다.\n",
      "\n",
      "**재료:**\n",
      "- 닭 안심 80g\n",
      "- 브로콜리 80g\n",
      "- 파프리카 1개\n",
      "- 양파 1/2개\n",
      "- 다진 마늘 1큰술\n",
      "- 올리브유 1큰술\n",
      "- 우유 2컵\n",
      "- 밥 2공기\n",
      "- 슬라이스 치즈 1장\n",
      "- 바질가루 1작은술\n",
      "- 소금 약간\n",
      "\n",
      "**조리 방법:**\n",
      "1. 양파와 파프리카는 잘게 다지고, 데친 브로콜리는 작은 송이로 나눕니다.\n",
      "2. 닭 안심은 먹기 좋은 크기로 자릅니다.\n",
      "3. 팬에 올리브유를 두르고 다진 마늘, 양파를 볶다가 닭고기를 넣고 익힙니다.\n",
      "4. 닭고기가 익으면 밥, 브로콜리, 파프리카를 넣고 함께 볶습니다.\n",
      "5. 우유를 부어가며 끓이고 치즈를 넣어 녹입니다.\n",
      "6. 바질가루와 소금으로 간을 맞추고 완성합니다.\n",
      "\n",
      "## 3. 새콤달콤 닭고기 브로콜리 당근 볶음\n",
      "상큼한 맛을 원한다면 새콤달콤한 소스로 맛을 낸 볶음 요리도 추천합니다.\n",
      "\n",
      "**재료:**\n",
      "- 닭고기\n",
      "- 브로콜리\n",
      "- 당근\n",
      "- 새콤달콤 소스 재료 (레몬즙, 꿀이나 설탕, 간장, 식초 등)\n",
      "\n",
      "**조리 방법:**\n",
      "1. 닭고기는 적당한 크기로 자르고, 브로콜리와 당근도 먹기 좋게 준비합니다.\n",
      "2. 팬에 닭고기를 먼저 볶다가 브로콜리와 당근을 넣고 함께 볶습니다.\n",
      "3. 레몬즙, 꿀(또는 설탕), 간장, 식초 등을 섞은 새콤달콤한 소스를 만들어 부어줍니다.\n",
      "4. 소스가 닭고기와 채소에 잘 배도록 볶아주면 완성됩니다.\n",
      "\n",
      "이 레시피들은 15분 정도면 충분히 만들 수 있는 간편한 요리들이며, 영양가도 높아 건강한 한 끼 식사로 좋습니다. 특히 브로콜리를 잘 먹지 않는 분들도 닭고기와 함께 조리하면 맛있게 드실 수 있을 것입니다. 취향에 따라 양념이나 채소를 추가하여 변형해보셔도 좋습니다!검색 결과를 바탕으로 닭고기와 브로콜리를 활용한 다양한 레시피를 소개해드리겠습니다:\n",
      "\n",
      "## 1. 닭고기 브로콜리 볶음\n",
      "간단하면서도 맛있는 닭고기 브로콜리 볶음은 가장 인기 있는 조합입니다.\n",
      "\n",
      "**재료:**\n",
      "- 닭고기 (가슴살이나 안심)\n",
      "- 브로콜리\n",
      "- 양파\n",
      "- 버섯 (선택)\n",
      "- 간장, 설탕, 다진 마늘, 참기름 등 양념\n",
      "\n",
      "**조리 방법:**\n",
      "1. 닭고기는 먹기 좋은 크기로 자르고, 브로콜리는 작은 송이로 나눠줍니다.\n",
      "2. 브로콜리는 살짝 데쳐 준비합니다.\n",
      "3. 팬에 기름을 두르고 다진 마늘을 볶다가 닭고기를 넣고 익힙니다.\n",
      "4. 닭고기가 거의 익으면 브로콜리와 양파, 버섯 등 다른 채소를 넣고 볶습니다.\n",
      "5. 간장, 설탕 등으로 간을 하고 참기름을 넣어 마무리합니다.\n",
      "\n",
      "## 2. 닭고기 브로콜리 리조또\n",
      "보다 크리미한 맛을 원한다면 리조또가 좋은 선택입니다.\n",
      "\n",
      "**재료:**\n",
      "- 닭 안심 80g\n",
      "- 브로콜리 80g\n",
      "- 파프리카 1개\n",
      "- 양파 1/2개\n",
      "- 다진 마늘 1큰술\n",
      "- 올리브유 1큰술\n",
      "- 우유 2컵\n",
      "- 밥 2공기\n",
      "- 슬라이스 치즈 1장\n",
      "- 바질가루 1작은술\n",
      "- 소금 약간\n",
      "\n",
      "**조리 방법:**\n",
      "1. 양파와 파프리카는 잘게 다지고, 데친 브로콜리는 작은 송이로 나눕니다.\n",
      "2. 닭 안심은 먹기 좋은 크기로 자릅니다.\n",
      "3. 팬에 올리브유를 두르고 다진 마늘, 양파를 볶다가 닭고기를 넣고 익힙니다.\n",
      "4. 닭고기가 익으면 밥, 브로콜리, 파프리카를 넣고 함께 볶습니다.\n",
      "5. 우유를 부어가며 끓이고 치즈를 넣어 녹입니다.\n",
      "6. 바질가루와 소금으로 간을 맞추고 완성합니다.\n",
      "\n",
      "## 3. 새콤달콤 닭고기 브로콜리 당근 볶음\n",
      "상큼한 맛을 원한다면 새콤달콤한 소스로 맛을 낸 볶음 요리도 추천합니다.\n",
      "\n",
      "**재료:**\n",
      "- 닭고기\n",
      "- 브로콜리\n",
      "- 당근\n",
      "- 새콤달콤 소스 재료 (레몬즙, 꿀이나 설탕, 간장, 식초 등)\n",
      "\n",
      "**조리 방법:**\n",
      "1. 닭고기는 적당한 크기로 자르고, 브로콜리와 당근도 먹기 좋게 준비합니다.\n",
      "2. 팬에 닭고기를 먼저 볶다가 브로콜리와 당근을 넣고 함께 볶습니다.\n",
      "3. 레몬즙, 꿀(또는 설탕), 간장, 식초 등을 섞은 새콤달콤한 소스를 만들어 부어줍니다.\n",
      "4. 소스가 닭고기와 채소에 잘 배도록 볶아주면 완성됩니다.\n",
      "\n",
      "이 레시피들은 15분 정도면 충분히 만들 수 있는 간편한 요리들이며, 영양가도 높아 건강한 한 끼 식사로 좋습니다. 특히 브로콜리를 잘 먹지 않는 분들도 닭고기와 함께 조리하면 맛있게 드실 수 있을 것입니다. 취향에 따라 양념이나 채소를 추가하여 변형해보셔도 좋습니다!\n",
      "\n"
     ]
    }
   ],
   "source": [
    "response = recipe_agent(\"닭고기와 브로콜리를 사용한 레시피를 추천해주세요.\")\n",
    "\n",
    "# 다른 예시들:\n",
    "# response = recipe_agent(\"퀴노아는 어떻게 요리하나요?\")\n",
    "# response = recipe_agent(\"새우 파스타에서 화이트 와인을 어떻게 대체할 수 있나요?\")\n",
    "# response = recipe_agent(\"아스파라거스의 건강상 이점은 무엇인가요?\")\n",
    "print(response)"
   ]
  },
  {
   "cell_type": "markdown",
   "id": "9f92c8a4",
   "metadata": {},
   "source": [
    "#### 그게 다입니다! 이제 단 몇 줄의 코드로 도구를 가진 실행 중인 사용 사례 에이전트를 만들었습니다 🥳.\n",
    "\n",
    "더 자세한 빠른 시작 가이드는 [Strands 문서](https://strandsagents.com/0.1.x/user-guide/quickstart/)를 확인하세요."
   ]
  },
  {
   "cell_type": "markdown",
   "id": "0cae9558",
   "metadata": {},
   "source": [
    "### [선택사항] CLI를 통해 RecipeBot 실행하기: \n",
    "`02_simple_interactive_usecase/recipe_bot.py`에 제공된 Python 스크립트를 통해 명령줄에서 대화형 모드로 에이전트를 실행할 수 있습니다(예: SageMaker Studio의 터미널 사용). 이를 통해 더 동적인 방식으로 에이전트와 상호작용하고, CLI를 통해 메시지를 보내고 응답을 받을 수 있습니다.\n",
    "명령줄 인터페이스에서 다음 명령을 실행하여 대화형 모드로 에이전트를 실행하세요:\n",
    "\n",
    "```cli\n",
    "cd samples/01-tutorials/01-fundamentals/01-first-agent/02-simple-interactive-usecase/\n",
    "pip install -r requirements.txt\n",
    "python recipe_bot.py\n",
    "```\n",
    "\n",
    "이를 통해 명령줄 인터페이스(CLI)를 통해 봇과 대화할 수 있습니다."
   ]
  }
 ],
 "metadata": {
  "kernelspec": {
   "display_name": "Python 3 (ipykernel)",
   "language": "python",
   "name": "python3"
  },
  "language_info": {
   "codemirror_mode": {
    "name": "ipython",
    "version": 3
   },
   "file_extension": ".py",
   "mimetype": "text/x-python",
   "name": "python",
   "nbconvert_exporter": "python",
   "pygments_lexer": "ipython3",
   "version": "3.12.9"
  }
 },
 "nbformat": 4,
 "nbformat_minor": 5
}
